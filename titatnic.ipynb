{
 "cells": [
  {
   "cell_type": "code",
   "execution_count": 237,
   "metadata": {
    "collapsed": true,
    "pycharm": {
     "name": "#%% Imports\n",
     "is_executing": false
    }
   },
   "outputs": [],
   "source": [
    "import matplotlib.pyplot as plt\n",
    "import numpy as np\n",
    "import pandas as pd\n",
    "import csv\n",
    "from sklearn import svm\n",
    "from sklearn.ensemble import AdaBoostClassifier, GradientBoostingClassifier\n",
    "from sklearn.neural_network import MLPClassifier\n",
    "from sklearn.ensemble import VotingClassifier"
   ]
  },
  {
   "cell_type": "code",
   "execution_count": 238,
   "outputs": [],
   "source": [
    "def read_csv(filename):\n",
    "    data = []\n",
    "    with open(filename) as file:\n",
    "        reader = csv.reader(file)\n",
    "        for row in reader:\n",
    "            data.append(row)\n",
    "    \n",
    "    return data"
   ],
   "metadata": {
    "collapsed": false,
    "pycharm": {
     "name": "#%% Helper methods\n",
     "is_executing": false
    }
   }
  },
  {
   "cell_type": "code",
   "source": [
    "train = read_csv(\"data/train.csv\")\n",
    "test = read_csv(\"data/test.csv\")\n",
    "\n",
    "cols = train[0]\n",
    "rows = train[1:]\n",
    "\n",
    "t_cols = test[0]\n",
    "t_rows = test[1:]\n",
    "\n",
    "train_df = pd.DataFrame(rows, columns=cols)\n",
    "test_df = pd.DataFrame(t_rows, columns=t_cols)"
   ],
   "metadata": {
    "collapsed": false,
    "pycharm": {
     "name": "#%% Import Data\n",
     "is_executing": false
    }
   },
   "execution_count": 239,
   "outputs": []
  },
  {
   "cell_type": "code",
   "execution_count": 240,
   "outputs": [
    {
     "name": "stdout",
     "text": [
      "[(11, 23], (34, 45], (23, 34], (45, 57], (0, 11], (57, 68], (68, 100]]\nCategories (7, object): [(0, 11] < (11, 23] < (23, 34] < (34, 45] < (45, 57] < (57, 68] < (68, 100]]\n[(34, 45], (45, 57], (57, 68], (23, 34], (11, 23], (0, 11], (68, 100]]\nCategories (7, object): [(0, 11] < (11, 23] < (23, 34] < (34, 45] < (45, 57] < (57, 68] < (68, 100]]\n"
     ],
     "output_type": "stream"
    }
   ],
   "source": [
    "def col_as_numeric(df_col, dtype):\n",
    "    tmp = df_col.apply(lambda x: 0 if x == '' else dtype(x))\n",
    "    mean_val = tmp[tmp != 0].mean()\n",
    "    tmp[tmp == 0] = mean_val\n",
    "    return tmp\n",
    "\n",
    "def clean(df):\n",
    "    col_keys = {}\n",
    "    \n",
    "    # Survived\n",
    "    if 'Survived' in df.columns:\n",
    "        df['Survived'] = df['Survived'].astype(int)\n",
    "    \n",
    "    # Age\n",
    "    df['Age'] = col_as_numeric(df['Age'], float)\n",
    "    \n",
    "    # Age bins\n",
    "    bin_cuts = [0, 11, 23, 34, 45, 57, 68, 100]\n",
    "    df['Age_bin'] = pd.cut(df['Age'], bin_cuts).apply(lambda x: str(x))\n",
    "    actual_bins = df['Age_bin'].unique()\n",
    "    for age_bin in actual_bins[:-1]:\n",
    "        if age_bin == np.nan:\n",
    "            continue\n",
    "        df[age_bin] = df['Age_bin'].apply(lambda x: 1 if x == age_bin else 0)\n",
    "        \n",
    "    # Age booleans\n",
    "    # df['Young'] = df['Age'].apply(lambda x: 1 if x < 10 else 0)\n",
    "    # df['MiddleAged'] = df['Age'].apply(lambda x: 1 if 21 <= x <= 50 else 0)\n",
    "    # df['Old'] = df['Age'].apply(lambda x: 1 if x > 50 else 0)\n",
    "    \n",
    "    # Sex\n",
    "    sex = pd.unique(df['Sex'].unique())\n",
    "    sex = pd.DataFrame(sex, columns=['Sex'])\n",
    "    sex['Sex_code'] = sex['Sex'].astype('category').cat.codes\n",
    "    col_keys['Sex'] = sex\n",
    "    df = pd.merge(left=df, right=sex, how='left', on='Sex')\n",
    "    \n",
    "    # SibSp - # of siblings / spouses aboard \n",
    "    df['SibSp'] = col_as_numeric(df['SibSp'], int)\n",
    "    \n",
    "    # Parch - # of parents / children aboard\n",
    "    df['Parch'] = col_as_numeric(df['Parch'], int)\n",
    "    \n",
    "    # Total relatives\n",
    "    df['Relatives'] = df['SibSp'] + df['Parch']\n",
    "    \n",
    "    # Fare\n",
    "    df['Fare'] = col_as_numeric(df['Fare'], float)\n",
    "    \n",
    "    # Pclass\n",
    "    df['Pclass'] = col_as_numeric(df['Pclass'], int)\n",
    "    \n",
    "    # Cabin - by letter class\n",
    "    df['CabinClass'] = df['Cabin'].apply(lambda x: x if len(x) == 0 else x[0])\n",
    "    \n",
    "    temp_df = pd.DataFrame({'CabinClass': df['CabinClass'].unique(), \n",
    "                            'CabinClass_id':range(len(df['CabinClass'].unique()))})\n",
    "    df = df.merge(temp_df, on='CabinClass', how='left')\n",
    "    \n",
    "    # Embarked\n",
    "    temp_df = pd.DataFrame({'Embarked': df['Embarked'].unique(), \n",
    "                            'Embarked_id':range(len(df['Embarked'].unique()))})\n",
    "    df = df.merge(temp_df, on='Embarked', how='left')\n",
    "    return df\n",
    "\n",
    "def map_ticket(x):\n",
    "    comps = x.split(' ')\n",
    "    if len(comps) == 1:\n",
    "        return 'NUMBER'\n",
    "    else:\n",
    "        return comps[0].lower().replace('.', '')\n",
    "# print(df['Ticket'].apply(map_ticket).unique())\n",
    "df = clean(train_df)\n",
    "t_df = clean(test_df)"
   ],
   "metadata": {
    "collapsed": false,
    "pycharm": {
     "name": "#%% Clean data\n",
     "is_executing": false
    }
   }
  },
  {
   "cell_type": "code",
   "execution_count": 241,
   "outputs": [
    {
     "data": {
      "text/plain": "<Figure size 288x288 with 2 Axes>",
      "image/png": "[encoded data removed]"
     },
     "metadata": {
      "needs_background": "light"
     },
     "output_type": "display_data"
    }
   ],
   "source": [
    "# Check correspondences to find any over 0.5 with survival \n",
    "corr = df.corr().abs()\n",
    "\n",
    "plt.matshow(df.corr().abs())\n",
    "cb = plt.colorbar()\n",
    "plt.title('Correlation Matrix')\n",
    "plt.show()"
   ],
   "metadata": {
    "collapsed": false,
    "pycharm": {
     "name": "#%% Vizualize Data Relationships\n",
     "is_executing": false
    }
   }
  },
  {
   "cell_type": "code",
   "execution_count": 249,
   "outputs": [
    {
     "name": "stdout",
     "text": [
      "Index(['PassengerId', 'Pclass', 'Name', 'Sex', 'Age', 'SibSp', 'Parch',\n       'Ticket', 'Fare', 'Cabin', 'Embarked', 'Age_bin', '(34, 45]',\n       '(45, 57]', '(57, 68]', '(23, 34]', '(11, 23]', '(0, 11]', 'Sex_code',\n       'Relatives', 'CabinClass', 'CabinClass_id', 'Embarked_id'],\n      dtype='object')\n"
     ],
     "output_type": "stream"
    }
   ],
   "source": [
    "num_cols = df.select_dtypes('number').columns\n",
    "df_numeric = df[num_cols]\n",
    "\n",
    "df_numeric = df_numeric.dropna()\n",
    "survived = df_numeric.pop('Survived')\n",
    "\n",
    "X = df_numeric.to_numpy()\n",
    "y = survived.to_numpy()\n",
    "\n",
    "test_p = 0.8\n",
    "t = int(test_p * len(y))\n",
    "X_test = X[:t]\n",
    "X_train = X[t:]\n",
    "y_test = y[:t]\n",
    "y_train = y[t:]\n",
    "\n",
    "num_cols = t_df.select_dtypes('number').columns\n",
    "print(t_df.columns)\n",
    "t_df_numeric = t_df[num_cols]\n",
    "\n",
    "t_df_numeric = t_df_numeric.dropna()\n",
    "\n",
    "X_final = t_df_numeric.to_numpy()"
   ],
   "metadata": {
    "collapsed": false,
    "pycharm": {
     "name": "#%% Split data into X and y\n",
     "is_executing": false
    }
   }
  },
  {
   "cell_type": "code",
   "execution_count": 243,
   "outputs": [
    {
     "name": "stdout",
     "text": [
      "SVM SVC:\n- train: 0.8547486033519553\n- test: 0.797752808988764\n"
     ],
     "output_type": "stream"
    }
   ],
   "source": [
    "clf = svm.SVC(gamma='scale', kernel='linear')\n",
    "clf.fit(X_train, y_train)\n",
    "print(\"SVM SVC:\\n- train: {}\\n- test: {}\".format(clf.score(X_train, y_train), \n",
    "                                                 clf.score(X_test, y_test)))"
   ],
   "metadata": {
    "collapsed": false,
    "pycharm": {
     "name": "#%% Try SVM\n",
     "is_executing": false
    }
   }
  },
  {
   "cell_type": "code",
   "execution_count": 244,
   "outputs": [
    {
     "name": "stdout",
     "text": [
      "AdaBoost, random forest:\n- train: 0.9608938547486033\n- test: 0.7443820224719101\n"
     ],
     "output_type": "stream"
    }
   ],
   "source": [
    "ada_clf = AdaBoostClassifier(n_estimators=100, random_state=0)\n",
    "ada_clf.fit(X_train, y_train)\n",
    "print(\"AdaBoost, random forest:\\n- train: {}\\n- test: {}\".format(ada_clf.score(X_train, y_train), \n",
    "                                                                 ada_clf.score(X_test, y_test)))"
   ],
   "metadata": {
    "collapsed": false,
    "pycharm": {
     "name": "#%% Try Adaboost with random forest\n",
     "is_executing": false
    }
   }
  },
  {
   "cell_type": "code",
   "execution_count": 245,
   "outputs": [
    {
     "name": "stdout",
     "text": [
      "Gradient Boosting, random forest:\n- train: 0.9888268156424581\n- test: 0.7696629213483146\n"
     ],
     "output_type": "stream"
    }
   ],
   "source": [
    "gr_clf = GradientBoostingClassifier(n_estimators=100, random_state=0)\n",
    "gr_clf.fit(X_train, y_train)\n",
    "print(\"Gradient Boosting, random forest:\\n- train: {}\\n- test: {}\".format(gr_clf.score(X_train, y_train), \n",
    "                                                                          gr_clf.score(X_test, y_test)))"
   ],
   "metadata": {
    "collapsed": false,
    "pycharm": {
     "name": "#%% Try Gradient Boosting\n",
     "is_executing": false
    }
   }
  },
  {
   "cell_type": "code",
   "execution_count": 246,
   "outputs": [
    {
     "name": "stdout",
     "text": [
      "Multilayer Perceptron:\n- train: 0.8994413407821229\n- test: 0.7823033707865169\n"
     ],
     "output_type": "stream"
    }
   ],
   "source": [
    "mlp_clf = clf = MLPClassifier(solver='lbfgs', alpha=1e-5,\n",
    "                          hidden_layer_sizes=(75, 5, 2), random_state=0)\n",
    "mlp_clf.fit(X_train, y_train)\n",
    "print(\"Multilayer Perceptron:\\n- train: {}\\n- test: {}\".format(mlp_clf.score(X_train, y_train), \n",
    "                                                               mlp_clf.score(X_test, y_test)))"
   ],
   "metadata": {
    "collapsed": false,
    "pycharm": {
     "name": "#%% Try Multilayer Perceptron\n",
     "is_executing": false
    }
   }
  },
  {
   "cell_type": "code",
   "execution_count": 247,
   "outputs": [
    {
     "name": "stdout",
     "text": [
      "Voting Classifier:\n- train: 0.9329608938547486\n- test: 0.7823033707865169\n"
     ],
     "output_type": "stream"
    }
   ],
   "source": [
    "eclf = VotingClassifier(estimators=[('svm', clf), \n",
    "                                    ('ada', ada_clf), \n",
    "                                    ('grb', gr_clf),\n",
    "                                    ('mlp', mlp_clf)\n",
    "                                    ], voting='hard')\n",
    "eclf.fit(X_train, y_train)\n",
    "print(\"Voting Classifier:\\n- train: {}\\n- test: {}\".format(eclf.score(X_train, y_train), \n",
    "                                                           eclf.score(X_test, y_test)))"
   ],
   "metadata": {
    "collapsed": false,
    "pycharm": {
     "name": "#%% Put them all together with a voting booster\n",
     "is_executing": false
    }
   }
  },
  {
   "cell_type": "code",
   "execution_count": 252,
   "outputs": [],
   "source": [
    "y_final = eclf.predict(X_final)\n",
    "df_final = pd.DataFrame({\n",
    "    'PassengerId': t_df['PassengerId'],\n",
    "    'Survived': y_final\n",
    "})\n",
    "\n",
    "df_final.to_csv(\"data/pred.csv\", index=False)"
   ],
   "metadata": {
    "collapsed": false,
    "pycharm": {
     "name": "#%% Generate the output for the actual test predictions\n",
     "is_executing": false
    }
   }
  }
 ],
 "metadata": {
  "language_info": {
   "codemirror_mode": {
    "name": "ipython",
    "version": 2
   },
   "file_extension": ".py",
   "mimetype": "text/x-python",
   "name": "python",
   "nbconvert_exporter": "python",
   "pygments_lexer": "ipython2",
   "version": "2.7.6"
  },
  "kernelspec": {
   "name": "python3",
   "language": "python",
   "display_name": "Python 3"
  },
  "pycharm": {
   "stem_cell": {
    "cell_type": "raw",
    "source": [],
    "metadata": {
     "collapsed": false
    }
   }
  }
 },
 "nbformat": 4,
 "nbformat_minor": 0
}