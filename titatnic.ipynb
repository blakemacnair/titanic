{
 "cells": [
  {
   "cell_type": "markdown",
   "source": [
    "# Titanic Survival Prediction\n",
    "\n",
    "This is a short lesson on data cleaning and classification prediction, using Kaggle's \n",
    "introductory competition, [Titanic: Machine Learning from Disaster](https://www.kaggle.com/c/titanic).\n"
   ],
   "metadata": {
    "collapsed": false
   }
  },
  {
   "cell_type": "code",
   "execution_count": 768,
   "metadata": {
    "collapsed": true,
    "pycharm": {
     "name": "#%% Imports\n",
     "is_executing": false
    }
   },
   "outputs": [],
   "source": [
    "import matplotlib.pyplot as plt\n",
    "import numpy as np\n",
    "import pandas as pd\n",
    "import csv\n",
    "from sklearn import svm\n",
    "from sklearn.ensemble import AdaBoostClassifier, GradientBoostingClassifier, \\\n",
    "    RandomForestClassifier, ExtraTreesClassifier, VotingClassifier\n",
    "import re"
   ]
  },
  {
   "cell_type": "code",
   "execution_count": 769,
   "outputs": [],
   "source": [
    "def read_csv(filename):\n",
    "    data = []\n",
    "    with open(filename) as file:\n",
    "        reader = csv.reader(file)\n",
    "        for row in reader:\n",
    "            data.append(row)\n",
    "    \n",
    "    return data\n",
    "\n",
    "def safe_cast_numeric(val, dtype, default=-1):\n",
    "    try:\n",
    "        return dtype(val)\n",
    "    except (ValueError, TypeError):\n",
    "        return default"
   ],
   "metadata": {
    "collapsed": false,
    "pycharm": {
     "name": "#%% Helper methods\n",
     "is_executing": false
    }
   }
  },
  {
   "cell_type": "code",
   "source": [
    "train = read_csv(\"data/train.csv\")\n",
    "test = read_csv(\"data/test.csv\")\n",
    "\n",
    "cols = train[0]\n",
    "rows = train[1:]\n",
    "\n",
    "t_cols = test[0]\n",
    "t_rows = test[1:]\n",
    "\n",
    "train_df = pd.DataFrame(rows, columns=cols)\n",
    "test_df = pd.DataFrame(t_rows, columns=t_cols)"
   ],
   "metadata": {
    "collapsed": false,
    "pycharm": {
     "name": "#%% Import Data\n",
     "is_executing": false
    }
   },
   "execution_count": 770,
   "outputs": []
  },
  {
   "cell_type": "code",
   "execution_count": 771,
   "outputs": [],
   "source": [
    "def col_as_numeric(df_col, dtype, default_value=None):\n",
    "    tmp = df_col.apply(lambda x: safe_cast_numeric(x, dtype, -1))\n",
    "    \n",
    "    if default_value is not None:\n",
    "        tmp[tmp == -1] = dtype(default_value)\n",
    "    else:\n",
    "        tmp[tmp == -1] = tmp[tmp != -1].mean()\n",
    "\n",
    "    return tmp\n",
    "\n",
    "def get_title(name):\n",
    "\ttitle_search = re.search(' ([A-Za-z]+)\\.', name)\n",
    "\t# If the title exists, extract and return it.\n",
    "\tif title_search:\n",
    "\t\treturn title_search.group(1)\n",
    "\treturn \"\"\n",
    "\n",
    "def categorize_titles(df):\n",
    "    df['Title'] = df['Name'].apply(get_title)\n",
    "    df['Title'] = df['Title'].replace(['Lady', 'Countess','Capt', 'Col',\\\n",
    " \t'Don', 'Dr', 'Major', 'Rev', 'Sir', 'Jonkheer', 'Dona'], 'Rare')\n",
    "\n",
    "    df['Title'] = df['Title'].replace('Mlle', 'Miss')\n",
    "    df['Title'] = df['Title'].replace('Ms', 'Miss')\n",
    "    df['Title'] = df['Title'].replace('Mme', 'Mrs')\n",
    "    df['Title'] = df['Title'].fillna('Rare')\n",
    "    return df\n",
    "\n",
    "def map_col_to_ids(df, col_name, col_id_name):\n",
    "    temp_df = pd.DataFrame({col_name: df[col_name].unique(), \n",
    "                            col_id_name:range(len(df[col_name].unique()))})\n",
    "    df = df.merge(temp_df, on=col_name, how='left')\n",
    "    return df\n",
    "\n",
    "def explode_col(df, col):\n",
    "    values = df[col].unique()\n",
    "    for val in values:\n",
    "        df[col+\"_\"+str(val)] = df[col].apply(lambda x: 1 if x == val else 0)\n",
    "    return df\n",
    "\n",
    "def clean(df):    \n",
    "    # Survived\n",
    "    if 'Survived' in df.columns:\n",
    "        df['Survived'] = df['Survived'].astype(int)\n",
    "    \n",
    "    # Age\n",
    "    df['Age'] = col_as_numeric(df['Age'], float)\n",
    "    \n",
    "    # Age bins\n",
    "    bin_cuts = [0, 11, 23, 34, 45, 57, 68, 100]\n",
    "    df['Age_bin'] = pd.cut(df['Age'], bin_cuts).apply(lambda x: str(x))\n",
    "    actual_bins = df['Age_bin'].unique()\n",
    "    for age_bin in actual_bins[:-1]:\n",
    "        if age_bin == np.nan:\n",
    "            continue\n",
    "        df[age_bin] = df['Age_bin'].apply(lambda x: 1 if x == age_bin else 0)\n",
    "    _ = df.pop('Age')\n",
    "    _ = df.pop('Age_bin')\n",
    "\n",
    "    # Sex\n",
    "    df = map_col_to_ids(df, 'Sex', 'Sex_id')\n",
    "    df = explode_col(df, 'Sex_id')\n",
    "    _ = df.pop('Sex')\n",
    "    _ = df.pop('Sex_id')\n",
    "    \n",
    "    \n",
    "    # SibSp - # of siblings / spouses aboard \n",
    "    df['SibSp'] = col_as_numeric(df['SibSp'], int, 0)\n",
    "    \n",
    "    # Parch - # of parents / children aboard\n",
    "    df['Parch'] = col_as_numeric(df['Parch'], int, 0)\n",
    "    \n",
    "    # Total relatives\n",
    "    df['Relatives'] = df['SibSp'] + df['Parch']\n",
    "    \n",
    "    # Is alone\n",
    "    df['IsAlone'] = df['Relatives'].apply(lambda x: 1 if x == 0 else 0)\n",
    "    \n",
    "    df = map_col_to_ids(df, 'Relatives', 'Relatives_id')\n",
    "    df = explode_col(df, 'Relatives_id')\n",
    "    _ = df.pop('Relatives')\n",
    "    _ = df.pop('Relatives_id')\n",
    "    \n",
    "    # Names and titles\n",
    "    df = categorize_titles(df)\n",
    "    df = map_col_to_ids(df, 'Title', 'Title_id')\n",
    "    df = explode_col(df, 'Title_id')\n",
    "    _ = df.pop('Title')\n",
    "    _ = df.pop('Title_id')\n",
    "    \n",
    "    # # Fare\n",
    "    df['Fare'] = col_as_numeric(df['Fare'], float)\n",
    "    bin_cuts = [0, 15, 25, 35, 45, 60, 200, 600]\n",
    "    df['Fare_bin'] = pd.cut(df['Fare'], bin_cuts).apply(lambda x: str(x))\n",
    "    df = map_col_to_ids(df, 'Fare_bin', 'Fare_id')\n",
    "    df = explode_col(df, 'Fare_id')\n",
    "    _ = df.pop('Fare')\n",
    "    _ = df.pop('Fare_bin')\n",
    "    _ = df.pop('Fare_id')\n",
    "     \n",
    "    # Pclass\n",
    "    df['Pclass'] = col_as_numeric(df['Pclass'], int)\n",
    "    df = map_col_to_ids(df, 'Pclass', \"Pclass_id\")\n",
    "    df = explode_col(df, 'Pclass_id')\n",
    "    _ = df.pop('Pclass')\n",
    "    _ = df.pop('Pclass_id')\n",
    "    \n",
    "    # Cabin - by letter class\n",
    "    df['CabinClass'] = df['Cabin'].apply(lambda x: x if len(x) == 0 else x[0])\n",
    "    df = map_col_to_ids(df, 'CabinClass', \"CabinClass_id\")\n",
    "    df = explode_col(df, 'CabinClass_id')\n",
    "    _ = df.pop('CabinClass')\n",
    "    _ = df.pop('CabinClass_id')\n",
    "    \n",
    "    # Embarked\n",
    "    df = map_col_to_ids(df, 'Embarked', \"Embarked_id\")\n",
    "    df = explode_col(df, 'Embarked_id')\n",
    "    _ = df.pop('Embarked')\n",
    "    _ = df.pop('Embarked_id')\n",
    "        \n",
    "    return df\n",
    "\n",
    "df = clean(train_df)\n",
    "t_df = clean(test_df)"
   ],
   "metadata": {
    "collapsed": false,
    "pycharm": {
     "name": "#%% Clean data\n",
     "is_executing": false
    }
   }
  },
  {
   "cell_type": "code",
   "execution_count": 772,
   "outputs": [],
   "source": [
    "for col in df.columns:\n",
    "    if col not in t_df.columns:\n",
    "        t_df[col] = 0"
   ],
   "metadata": {
    "collapsed": false,
    "pycharm": {
     "name": "#%% Fill in missing data from t_df with empty (0) columns\n",
     "is_executing": false
    }
   }
  },
  {
   "cell_type": "code",
   "execution_count": 773,
   "outputs": [
    {
     "data": {
      "text/plain": "<Figure size 288x288 with 2 Axes>",
      "image/png": "[encoded data removed]"
     },
     "metadata": {
      "needs_background": "light"
     },
     "output_type": "display_data"
    }
   ],
   "source": [
    "# Check correspondences to find any over 0.5 with survival \n",
    "corr = df.corr().abs()\n",
    "\n",
    "plt.matshow(df.corr().abs())\n",
    "cb = plt.colorbar()\n",
    "plt.title('Correlation Matrix')\n",
    "plt.show()"
   ],
   "metadata": {
    "collapsed": false,
    "pycharm": {
     "name": "#%% Vizualize Data Relationships\n",
     "is_executing": false
    }
   }
  },
  {
   "cell_type": "code",
   "execution_count": 774,
   "outputs": [],
   "source": [
    "num_cols = df.select_dtypes('number').columns\n",
    "df_numeric = df[num_cols]\n",
    "df_numeric = df_numeric.dropna()\n",
    "survived = df_numeric.pop('Survived')\n",
    "\n",
    "X = df_numeric.to_numpy()\n",
    "y = survived.to_numpy()\n",
    "\n",
    "test_p = 0.9\n",
    "t = int(test_p * len(y))\n",
    "X_test = X[:t]\n",
    "X_train = X[t:]\n",
    "y_test = y[:t]\n",
    "y_train = y[t:]\n",
    "\n",
    "t_num_cols = t_df.select_dtypes('number').columns\n",
    "t_df_numeric = t_df[t_num_cols]\n",
    "t_df_numeric = t_df_numeric.dropna()\n",
    "t_survived = t_df_numeric.pop('Survived')\n",
    "\n",
    "X_final = t_df_numeric.to_numpy()"
   ],
   "metadata": {
    "collapsed": false,
    "pycharm": {
     "name": "#%% Split data into X and y\n",
     "is_executing": false
    }
   }
  },
  {
   "cell_type": "code",
   "execution_count": 775,
   "outputs": [],
   "source": [
    "clf = svm.SVC(gamma='scale', kernel='linear', random_state=0, decision_function_shape='ovo')"
   ],
   "metadata": {
    "collapsed": false,
    "pycharm": {
     "name": "#%% Try SVM\n",
     "is_executing": false
    }
   }
  },
  {
   "cell_type": "code",
   "execution_count": 776,
   "outputs": [],
   "source": [
    "lin_clf = svm.LinearSVC(random_state=0)"
   ],
   "metadata": {
    "collapsed": false,
    "pycharm": {
     "name": "#%% Try LinearSVM\n",
     "is_executing": false
    }
   }
  },
  {
   "cell_type": "code",
   "execution_count": 777,
   "outputs": [],
   "source": [
    "ada_clf = AdaBoostClassifier(base_estimator=RandomForestClassifier(n_estimators=10, random_state=0), \n",
    "                             n_estimators=100, random_state=0)"
   ],
   "metadata": {
    "collapsed": false,
    "pycharm": {
     "name": "#%% Try Adaboost with random forest\n",
     "is_executing": false
    }
   }
  },
  {
   "cell_type": "code",
   "execution_count": 778,
   "outputs": [],
   "source": [
    "gr_clf = GradientBoostingClassifier(n_estimators=100, random_state=0)"
   ],
   "metadata": {
    "collapsed": false,
    "pycharm": {
     "name": "#%% Try Gradient Boosting\n",
     "is_executing": false
    }
   }
  },
  {
   "cell_type": "code",
   "execution_count": 779,
   "outputs": [],
   "source": [
    "rf_clf = RandomForestClassifier(n_estimators=100, random_state=0)"
   ],
   "metadata": {
    "collapsed": false,
    "pycharm": {
     "name": "#%% Try random forest\n",
     "is_executing": false
    }
   }
  },
  {
   "cell_type": "code",
   "execution_count": 780,
   "outputs": [],
   "source": [
    "erf_clf = ExtraTreesClassifier(n_estimators=100, random_state=0)"
   ],
   "metadata": {
    "collapsed": false,
    "pycharm": {
     "name": "#%% Try EXTRA random forest\n",
     "is_executing": false
    }
   }
  },
  {
   "cell_type": "code",
   "execution_count": 781,
   "outputs": [
    {
     "name": "stdout",
     "text": [
      "\nVanilla SVC\n- train: 0.9333333333333333\n- test: 0.7490636704119851\n\nLinear SVC\n- train: 0.9444444444444444\n- test: 0.7478152309612984\n\nAdaBoost, random forest\n",
      "- train: 0.9555555555555556\n- test: 0.7740324594257179\n\nGradient Boosting, random forest\n- train: 0.9555555555555556\n- test: 0.7490636704119851\n\nRandom Forest\n- train: 0.9555555555555556\n- test: 0.7752808988764045\n\nExtra Trees\n",
      "- train: 0.9555555555555556\n- test: 0.7515605493133583\n",
      "\n====\nVoting Classifier:\n- train: 0.9555555555555556\n- test: 0.7490636704119851\n"
     ],
     "output_type": "stream"
    }
   ],
   "source": [
    "eclf = VotingClassifier(estimators=[('Vanilla SVC', clf),\n",
    "                                    ('Linear SVC', lin_clf),\n",
    "                                    ('AdaBoost, random forest', ada_clf), \n",
    "                                    ('Gradient Boosting, random forest', gr_clf),\n",
    "                                    ('Random Forest', rf_clf),\n",
    "                                    ('Extra Trees', erf_clf),\n",
    "                                    ], voting='hard')\n",
    "for clft in eclf.estimators:\n",
    "    print(\"\\n\"+clft[0])\n",
    "    clf = clft[1]\n",
    "    clf.fit(X_train, y_train)\n",
    "    print(\"- train: {}\\n- test: {}\".format(clf.score(X_train, y_train), \n",
    "                                           clf.score(X_test, y_test)))\n",
    "eclf.fit(X_train, y_train)\n",
    "print(\"\\n====\\nVoting Classifier:\\n- train: {}\\n- test: {}\".format(eclf.score(X_train, y_train), \n",
    "                                                           eclf.score(X_test, y_test)))"
   ],
   "metadata": {
    "collapsed": false,
    "pycharm": {
     "name": "#%% Put them all together with a voting booster\n",
     "is_executing": false
    }
   }
  },
  {
   "cell_type": "code",
   "execution_count": 782,
   "outputs": [],
   "source": [
    "y_final = eclf.predict(X_final)\n",
    "df_final = pd.DataFrame({\n",
    "    'PassengerId': t_df['PassengerId'],\n",
    "    'Survived': y_final\n",
    "})\n",
    "\n",
    "df_final.to_csv(\"data/pred.csv\", index=False)"
   ],
   "metadata": {
    "collapsed": false,
    "pycharm": {
     "name": "#%% Generate the output for the actual test predictions\n",
     "is_executing": false
    }
   }
  }
 ],
 "metadata": {
  "language_info": {
   "codemirror_mode": {
    "name": "ipython",
    "version": 2
   },
   "file_extension": ".py",
   "mimetype": "text/x-python",
   "name": "python",
   "nbconvert_exporter": "python",
   "pygments_lexer": "ipython2",
   "version": "2.7.6"
  },
  "kernelspec": {
   "name": "python3",
   "language": "python",
   "display_name": "Python 3"
  },
  "pycharm": {
   "stem_cell": {
    "cell_type": "raw",
    "source": [],
    "metadata": {
     "collapsed": false
    }
   }
  }
 },
 "nbformat": 4,
 "nbformat_minor": 0
}