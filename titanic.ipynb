{
 "cells": [
  {
   "cell_type": "markdown",
   "metadata": {},
   "source": [
    "# Titanic Survival Prediction\n",
    "\n",
    "This is a short lesson on data cleaning and classification prediction, using Kaggle's \n",
    "introductory competition, [Titanic: Machine Learning from Disaster](https://www.kaggle.com/c/titanic)."
   ]
  },
  {
   "cell_type": "code",
   "execution_count": null,
   "metadata": {
    "pycharm": {
     "is_executing": false,
     "name": "#%% Imports\n"
    }
   },
   "outputs": [],
   "source": []
  },
  {
   "cell_type": "markdown",
   "metadata": {
    "pycharm": {
     "name": "#%% md\n"
    }
   },
   "source": [
    "# Importing The Data\n",
    "We're going to be using Pandas to work with our data, so we'll simply import our two \n",
    "csv files directly into Pandas DataFrames:"
   ]
  },
  {
   "cell_type": "code",
   "execution_count": 680,
   "metadata": {
    "pycharm": {
     "is_executing": false,
     "name": "#%%\n"
    }
   },
   "outputs": [],
   "source": [
    "import pandas as pd\n",
    "import numpy as np\n",
    "\n",
    "train_df = pd.read_csv(\"data/train.csv\")\n",
    "test_df = pd.read_csv(\"data/test.csv\")"
   ]
  },
  {
   "cell_type": "markdown",
   "metadata": {
    "pycharm": {
     "name": "#%% md\n"
    }
   },
   "source": [
    "To simplify our data processing, we can combine these two data frames into a single\n",
    "data frame. Since the test data frame is missing the 'Survived' column, we'll fill \n",
    "this in with `np.nan`, so we can remember which rows are test data and which are \n",
    "training data later on."
   ]
  },
  {
   "cell_type": "code",
   "execution_count": 681,
   "metadata": {
    "pycharm": {
     "is_executing": false,
     "name": "#%%\n"
    }
   },
   "outputs": [],
   "source": [
    "test_df['Survived'] = np.nan\n",
    "df = train_df.append(test_df, sort=False, ignore_index=True)"
   ]
  },
  {
   "cell_type": "markdown",
   "metadata": {
    "pycharm": {
     "name": "#%% md\n"
    }
   },
   "source": [
    "With that out of the way, let's start looking at the actual contents of our data and \n",
    "put it into a form that'll best suited for training our classifier.\n",
    "\n",
    "# Clean-up Time \n",
    "\n",
    "Now that we've loaded our data, we need to clean it up. Let's take a look at what we're \n",
    "dealing with first:"
   ]
  },
  {
   "cell_type": "code",
   "execution_count": 682,
   "metadata": {
    "pycharm": {
     "is_executing": false,
     "name": "#%%\n"
    }
   },
   "outputs": [
    {
     "data": {
      "text/plain": [
       "PassengerId      int64\n",
       "Survived       float64\n",
       "Pclass           int64\n",
       "Name            object\n",
       "Sex             object\n",
       "Age            float64\n",
       "SibSp            int64\n",
       "Parch            int64\n",
       "Ticket          object\n",
       "Fare           float64\n",
       "Cabin           object\n",
       "Embarked        object\n",
       "dtype: object"
      ]
     },
     "execution_count": 682,
     "metadata": {},
     "output_type": "execute_result"
    }
   ],
   "source": [
    "df.dtypes"
   ]
  },
  {
   "cell_type": "code",
   "execution_count": 683,
   "metadata": {
    "pycharm": {
     "is_executing": false,
     "name": "#%%\n"
    }
   },
   "outputs": [
    {
     "data": {
      "text/html": [
       "<div>\n",
       "<style scoped>\n",
       "    .dataframe tbody tr th:only-of-type {\n",
       "        vertical-align: middle;\n",
       "    }\n",
       "\n",
       "    .dataframe tbody tr th {\n",
       "        vertical-align: top;\n",
       "    }\n",
       "\n",
       "    .dataframe thead th {\n",
       "        text-align: right;\n",
       "    }\n",
       "</style>\n",
       "<table border=\"1\" class=\"dataframe\">\n",
       "  <thead>\n",
       "    <tr style=\"text-align: right;\">\n",
       "      <th></th>\n",
       "      <th>PassengerId</th>\n",
       "      <th>Survived</th>\n",
       "      <th>Pclass</th>\n",
       "      <th>Name</th>\n",
       "      <th>Sex</th>\n",
       "      <th>Age</th>\n",
       "      <th>SibSp</th>\n",
       "      <th>Parch</th>\n",
       "      <th>Ticket</th>\n",
       "      <th>Fare</th>\n",
       "      <th>Cabin</th>\n",
       "      <th>Embarked</th>\n",
       "    </tr>\n",
       "  </thead>\n",
       "  <tbody>\n",
       "    <tr>\n",
       "      <th>1121</th>\n",
       "      <td>1122</td>\n",
       "      <td>NaN</td>\n",
       "      <td>2</td>\n",
       "      <td>Sweet, Mr. George Frederick</td>\n",
       "      <td>male</td>\n",
       "      <td>14.0</td>\n",
       "      <td>0</td>\n",
       "      <td>0</td>\n",
       "      <td>220845</td>\n",
       "      <td>65.0000</td>\n",
       "      <td>NaN</td>\n",
       "      <td>S</td>\n",
       "    </tr>\n",
       "    <tr>\n",
       "      <th>75</th>\n",
       "      <td>76</td>\n",
       "      <td>0.0</td>\n",
       "      <td>3</td>\n",
       "      <td>Moen, Mr. Sigurd Hansen</td>\n",
       "      <td>male</td>\n",
       "      <td>25.0</td>\n",
       "      <td>0</td>\n",
       "      <td>0</td>\n",
       "      <td>348123</td>\n",
       "      <td>7.6500</td>\n",
       "      <td>F G73</td>\n",
       "      <td>S</td>\n",
       "    </tr>\n",
       "    <tr>\n",
       "      <th>1042</th>\n",
       "      <td>1043</td>\n",
       "      <td>NaN</td>\n",
       "      <td>3</td>\n",
       "      <td>Matinoff, Mr. Nicola</td>\n",
       "      <td>male</td>\n",
       "      <td>NaN</td>\n",
       "      <td>0</td>\n",
       "      <td>0</td>\n",
       "      <td>349255</td>\n",
       "      <td>7.8958</td>\n",
       "      <td>NaN</td>\n",
       "      <td>C</td>\n",
       "    </tr>\n",
       "    <tr>\n",
       "      <th>865</th>\n",
       "      <td>866</td>\n",
       "      <td>1.0</td>\n",
       "      <td>2</td>\n",
       "      <td>Bystrom, Mrs. (Karolina)</td>\n",
       "      <td>female</td>\n",
       "      <td>42.0</td>\n",
       "      <td>0</td>\n",
       "      <td>0</td>\n",
       "      <td>236852</td>\n",
       "      <td>13.0000</td>\n",
       "      <td>NaN</td>\n",
       "      <td>S</td>\n",
       "    </tr>\n",
       "    <tr>\n",
       "      <th>491</th>\n",
       "      <td>492</td>\n",
       "      <td>0.0</td>\n",
       "      <td>3</td>\n",
       "      <td>Windelov, Mr. Einar</td>\n",
       "      <td>male</td>\n",
       "      <td>21.0</td>\n",
       "      <td>0</td>\n",
       "      <td>0</td>\n",
       "      <td>SOTON/OQ 3101317</td>\n",
       "      <td>7.2500</td>\n",
       "      <td>NaN</td>\n",
       "      <td>S</td>\n",
       "    </tr>\n",
       "  </tbody>\n",
       "</table>\n",
       "</div>"
      ],
      "text/plain": [
       "      PassengerId  Survived  Pclass                         Name     Sex  \\\n",
       "1121         1122       NaN       2  Sweet, Mr. George Frederick    male   \n",
       "75             76       0.0       3      Moen, Mr. Sigurd Hansen    male   \n",
       "1042         1043       NaN       3         Matinoff, Mr. Nicola    male   \n",
       "865           866       1.0       2     Bystrom, Mrs. (Karolina)  female   \n",
       "491           492       0.0       3          Windelov, Mr. Einar    male   \n",
       "\n",
       "       Age  SibSp  Parch            Ticket     Fare  Cabin Embarked  \n",
       "1121  14.0      0      0            220845  65.0000    NaN        S  \n",
       "75    25.0      0      0            348123   7.6500  F G73        S  \n",
       "1042   NaN      0      0            349255   7.8958    NaN        C  \n",
       "865   42.0      0      0            236852  13.0000    NaN        S  \n",
       "491   21.0      0      0  SOTON/OQ 3101317   7.2500    NaN        S  "
      ]
     },
     "execution_count": 683,
     "metadata": {},
     "output_type": "execute_result"
    }
   ],
   "source": [
    "df.sample(5)"
   ]
  },
  {
   "cell_type": "markdown",
   "metadata": {
    "pycharm": {
     "name": "#%% md\n"
    }
   },
   "source": [
    "If we want to look for linear or binary relationships between \n",
    "our data and the survived value of each passenger, we need to convert this human-readable \n",
    "data into something that's more easy for a machine to understand: numbers!\n",
    "\n",
    "Let's go through this column-by-column, explaining the process for each new case as \n",
    "we come across it.\n",
    "\n",
    "# Sex\n",
    "The 'Sex' column is a great place to start because of its simplicity. There are only \n",
    "two cases to worry about, 'male' and 'female', and there isn't any missing data. So all \n",
    "we need to do is map these strings to a binary case for a classifier algorithm to understand.\n",
    "\n",
    "Let's use the mapping `{0: 'female', 1: 'male'}`:"
   ]
  },
  {
   "cell_type": "code",
   "execution_count": 684,
   "metadata": {
    "pycharm": {
     "is_executing": false,
     "name": "#%%\n"
    }
   },
   "outputs": [
    {
     "data": {
      "text/plain": [
       "0    1\n",
       "1    0\n",
       "2    0\n",
       "Name: Sex, dtype: int64"
      ]
     },
     "execution_count": 684,
     "metadata": {},
     "output_type": "execute_result"
    }
   ],
   "source": [
    "mapping = {\n",
    "    'female': 0,\n",
    "    'male': 1\n",
    "}\n",
    "df['Sex'] = df['Sex'].apply(lambda x: mapping[x])\n",
    "df['Sex'][:3]"
   ]
  },
  {
   "cell_type": "markdown",
   "metadata": {
    "pycharm": {
     "name": "#%% md\n"
    }
   },
   "source": [
    "With just one step, we have our first binary column! Simple enough. Now onto the next one...\n",
    "\n",
    "# Age\n",
    "The 'Age' column is already in a nice numeric form, but let's take a look into how well \n",
    "it actually corresponds to whether a passenger survived in its current state."
   ]
  },
  {
   "cell_type": "code",
   "execution_count": 685,
   "metadata": {
    "pycharm": {
     "is_executing": false,
     "name": "#%%\n"
    }
   },
   "outputs": [
    {
     "data": {
      "text/plain": [
       "263"
      ]
     },
     "execution_count": 685,
     "metadata": {},
     "output_type": "execute_result"
    }
   ],
   "source": [
    "pd.isna(df['Age']).sum()"
   ]
  },
  {
   "cell_type": "markdown",
   "metadata": {
    "pycharm": {
     "name": "#%% md\n"
    }
   },
   "source": [
    "Looks like we have some NA values! Considering that age is a nice continuous value, let's just assign\n",
    "the median age to each missing value."
   ]
  },
  {
   "cell_type": "code",
   "execution_count": 686,
   "metadata": {
    "pycharm": {
     "is_executing": false,
     "name": "#%%\n"
    }
   },
   "outputs": [],
   "source": [
    "med_age = np.median(df['Age'][~pd.isna(df['Age'])])\n",
    "df['Age'] = df['Age'].fillna(med_age)\n"
   ]
  },
  {
   "cell_type": "markdown",
   "metadata": {
    "pycharm": {
     "name": "#%% md\n"
    }
   },
   "source": [
    "Now that we have only real values, let's look at the correspondence between age and survival:"
   ]
  },
  {
   "cell_type": "code",
   "execution_count": 687,
   "metadata": {
    "pycharm": {
     "is_executing": false,
     "name": "#%%\n"
    }
   },
   "outputs": [
    {
     "data": {
      "text/html": [
       "<div>\n",
       "<style scoped>\n",
       "    .dataframe tbody tr th:only-of-type {\n",
       "        vertical-align: middle;\n",
       "    }\n",
       "\n",
       "    .dataframe tbody tr th {\n",
       "        vertical-align: top;\n",
       "    }\n",
       "\n",
       "    .dataframe thead th {\n",
       "        text-align: right;\n",
       "    }\n",
       "</style>\n",
       "<table border=\"1\" class=\"dataframe\">\n",
       "  <thead>\n",
       "    <tr style=\"text-align: right;\">\n",
       "      <th></th>\n",
       "      <th>Survived</th>\n",
       "      <th>Age</th>\n",
       "    </tr>\n",
       "  </thead>\n",
       "  <tbody>\n",
       "    <tr>\n",
       "      <th>Survived</th>\n",
       "      <td>1.00000</td>\n",
       "      <td>-0.06491</td>\n",
       "    </tr>\n",
       "    <tr>\n",
       "      <th>Age</th>\n",
       "      <td>-0.06491</td>\n",
       "      <td>1.00000</td>\n",
       "    </tr>\n",
       "  </tbody>\n",
       "</table>\n",
       "</div>"
      ],
      "text/plain": [
       "          Survived      Age\n",
       "Survived   1.00000 -0.06491\n",
       "Age       -0.06491  1.00000"
      ]
     },
     "execution_count": 687,
     "metadata": {},
     "output_type": "execute_result"
    }
   ],
   "source": [
    "df[['Survived', 'Age']].corr()"
   ]
  },
  {
   "cell_type": "markdown",
   "metadata": {
    "pycharm": {
     "name": "#%% md\n"
    }
   },
   "source": [
    "Quick refresher on correspondence: this value ranges between -1 and +1. \n",
    "\n",
    "A correspondence of 1 means two sets are strongly linearly \n",
    "correlated. Ideally, with a correspondence of 1, you could apply a simple formula of the form \n",
    "`y = mx + b` to map from one set to the other, with `m` being positive.\n",
    "\n",
    "A correspondence of -1 means the two sets are strongly linearly correlated as well, just ini the negative \n",
    "direction. You can still apply the mapping `y = mx + b`, but now you'd have a negative `m`.\n",
    "\n",
    "A correspondence of 0 means that the two sets you're looking at have no similarity. There exists no mapping \n",
    "from one set to the other.\n",
    "\n",
    "Back to our data! Seeing that the correspondence between age and survival is nearly zero, we need to \n",
    "see if there's anything we can do to actually compare the two columns! One popular method \n",
    "of identifying nonlinear correspondence is by binning, or making bins of ages, so we have a bin filled with \n",
    "our 0-10 year old passengers, our 11-20 year old passengers, and so on and so forth."
   ]
  },
  {
   "cell_type": "code",
   "execution_count": 688,
   "metadata": {
    "pycharm": {
     "is_executing": false,
     "name": "#%%\n"
    }
   },
   "outputs": [
    {
     "data": {
      "text/html": [
       "<div>\n",
       "<style scoped>\n",
       "    .dataframe tbody tr th:only-of-type {\n",
       "        vertical-align: middle;\n",
       "    }\n",
       "\n",
       "    .dataframe tbody tr th {\n",
       "        vertical-align: top;\n",
       "    }\n",
       "\n",
       "    .dataframe thead th {\n",
       "        text-align: right;\n",
       "    }\n",
       "</style>\n",
       "<table border=\"1\" class=\"dataframe\">\n",
       "  <thead>\n",
       "    <tr style=\"text-align: right;\">\n",
       "      <th></th>\n",
       "      <th>PassengerId</th>\n",
       "      <th>Survived</th>\n",
       "      <th>Age_bin</th>\n",
       "    </tr>\n",
       "  </thead>\n",
       "  <tbody>\n",
       "    <tr>\n",
       "      <th>0</th>\n",
       "      <td>1</td>\n",
       "      <td>0.0</td>\n",
       "      <td>2</td>\n",
       "    </tr>\n",
       "    <tr>\n",
       "      <th>1</th>\n",
       "      <td>2</td>\n",
       "      <td>1.0</td>\n",
       "      <td>3</td>\n",
       "    </tr>\n",
       "    <tr>\n",
       "      <th>2</th>\n",
       "      <td>3</td>\n",
       "      <td>1.0</td>\n",
       "      <td>2</td>\n",
       "    </tr>\n",
       "    <tr>\n",
       "      <th>3</th>\n",
       "      <td>4</td>\n",
       "      <td>1.0</td>\n",
       "      <td>3</td>\n",
       "    </tr>\n",
       "    <tr>\n",
       "      <th>4</th>\n",
       "      <td>5</td>\n",
       "      <td>0.0</td>\n",
       "      <td>3</td>\n",
       "    </tr>\n",
       "    <tr>\n",
       "      <th>5</th>\n",
       "      <td>6</td>\n",
       "      <td>0.0</td>\n",
       "      <td>2</td>\n",
       "    </tr>\n",
       "    <tr>\n",
       "      <th>6</th>\n",
       "      <td>7</td>\n",
       "      <td>0.0</td>\n",
       "      <td>5</td>\n",
       "    </tr>\n",
       "    <tr>\n",
       "      <th>7</th>\n",
       "      <td>8</td>\n",
       "      <td>0.0</td>\n",
       "      <td>0</td>\n",
       "    </tr>\n",
       "    <tr>\n",
       "      <th>8</th>\n",
       "      <td>9</td>\n",
       "      <td>1.0</td>\n",
       "      <td>2</td>\n",
       "    </tr>\n",
       "    <tr>\n",
       "      <th>9</th>\n",
       "      <td>10</td>\n",
       "      <td>1.0</td>\n",
       "      <td>1</td>\n",
       "    </tr>\n",
       "  </tbody>\n",
       "</table>\n",
       "</div>"
      ],
      "text/plain": [
       "   PassengerId  Survived  Age_bin\n",
       "0            1       0.0        2\n",
       "1            2       1.0        3\n",
       "2            3       1.0        2\n",
       "3            4       1.0        3\n",
       "4            5       0.0        3\n",
       "5            6       0.0        2\n",
       "6            7       0.0        5\n",
       "7            8       0.0        0\n",
       "8            9       1.0        2\n",
       "9           10       1.0        1"
      ]
     },
     "execution_count": 688,
     "metadata": {},
     "output_type": "execute_result"
    }
   ],
   "source": [
    "bin_space = 10\n",
    "bin_walls = range(0, 100, bin_space)\n",
    "bin_intervals = [pd.Interval(low, low + bin_space) for low in bin_walls]\n",
    "bins = pd.IntervalIndex(bin_intervals)\n",
    "\n",
    "age_bin_mapping = {}\n",
    "for i, b in enumerate(bins):\n",
    "    age_bin_mapping[b] = i\n",
    "\n",
    "age_bins = pd.cut(df['Age'], bins=bins)\n",
    "df['Age_bin'] = age_bins.apply(lambda x: age_bin_mapping[x]).astype(int)\n",
    "\n",
    "df[['PassengerId', 'Survived', 'Age_bin']][:10]"
   ]
  },
  {
   "cell_type": "markdown",
   "metadata": {
    "pycharm": {
     "name": "#%% md\n"
    }
   },
   "source": [
    "Now we have all of our passengers assigned to bins! Let's see what the correspondence is for this..."
   ]
  },
  {
   "cell_type": "code",
   "execution_count": 689,
   "metadata": {
    "pycharm": {
     "is_executing": false,
     "name": "#%%\n"
    }
   },
   "outputs": [
    {
     "data": {
      "text/html": [
       "<div>\n",
       "<style scoped>\n",
       "    .dataframe tbody tr th:only-of-type {\n",
       "        vertical-align: middle;\n",
       "    }\n",
       "\n",
       "    .dataframe tbody tr th {\n",
       "        vertical-align: top;\n",
       "    }\n",
       "\n",
       "    .dataframe thead th {\n",
       "        text-align: right;\n",
       "    }\n",
       "</style>\n",
       "<table border=\"1\" class=\"dataframe\">\n",
       "  <thead>\n",
       "    <tr style=\"text-align: right;\">\n",
       "      <th></th>\n",
       "      <th>Survived</th>\n",
       "      <th>Age_bin</th>\n",
       "    </tr>\n",
       "  </thead>\n",
       "  <tbody>\n",
       "    <tr>\n",
       "      <th>Survived</th>\n",
       "      <td>1.000000</td>\n",
       "      <td>-0.051406</td>\n",
       "    </tr>\n",
       "    <tr>\n",
       "      <th>Age_bin</th>\n",
       "      <td>-0.051406</td>\n",
       "      <td>1.000000</td>\n",
       "    </tr>\n",
       "  </tbody>\n",
       "</table>\n",
       "</div>"
      ],
      "text/plain": [
       "          Survived   Age_bin\n",
       "Survived  1.000000 -0.051406\n",
       "Age_bin  -0.051406  1.000000"
      ]
     },
     "execution_count": 689,
     "metadata": {},
     "output_type": "execute_result"
    }
   ],
   "source": [
    "df[['Survived', 'Age_bin']].corr()"
   ]
  },
  {
   "cell_type": "markdown",
   "metadata": {
    "pycharm": {
     "name": "#%% md\n"
    }
   },
   "source": [
    "As expected, the age bins linearly correspond with survival just as little as the raw age did.\n",
    "There might be a strong correspondence hiding here still, so let's look at the survival rate for each bin:"
   ]
  },
  {
   "cell_type": "code",
   "execution_count": 690,
   "metadata": {
    "pycharm": {
     "is_executing": false,
     "name": "#%%\n"
    }
   },
   "outputs": [
    {
     "name": "stdout",
     "output_type": "stream",
     "text": [
      "Bin 0 survival rate: 0.59\n",
      "Bin 1 survival rate: 0.38\n",
      "Bin 2 survival rate: 0.33\n",
      "Bin 3 survival rate: 0.45\n",
      "Bin 4 survival rate: 0.38\n",
      "Bin 5 survival rate: 0.4\n",
      "Bin 6 survival rate: 0.24\n",
      "Bin 7 survival rate: 0.2\n"
     ]
    }
   ],
   "source": [
    "for bin_ind in age_bin_mapping.values():\n",
    "    df_bin = df[df['Age_bin'] == bin_ind]\n",
    "    if len(df_bin) == 0:\n",
    "        continue\n",
    "    print(\"Bin {} survival rate: {:.2g}\".format(\n",
    "        bin_ind, \n",
    "        len(df_bin[df_bin['Survived'] == 1]) / len(df_bin[~pd.isna(df_bin['Survived'])])\n",
    "    ))\n",
    "    "
   ]
  },
  {
   "cell_type": "markdown",
   "metadata": {
    "pycharm": {
     "name": "#%% md\n"
    }
   },
   "source": [
    "Looking at this breakdown, there's definitely some sort of trend. Bin 0 had a much higher \n",
    "rate of survival than the others, while bins 6 and 7 had much lower rates of survival. In \n",
    "order to extract this in a more machine-readable way, we're going to expand this categorical \n",
    " column into a set of columns, one for each bin, with the value `1` if the row belongs to \n",
    " the bin and `0` otherwise."
   ]
  },
  {
   "cell_type": "code",
   "execution_count": 691,
   "metadata": {
    "pycharm": {
     "is_executing": false,
     "name": "#%%\n"
    }
   },
   "outputs": [
    {
     "data": {
      "text/html": [
       "<div>\n",
       "<style scoped>\n",
       "    .dataframe tbody tr th:only-of-type {\n",
       "        vertical-align: middle;\n",
       "    }\n",
       "\n",
       "    .dataframe tbody tr th {\n",
       "        vertical-align: top;\n",
       "    }\n",
       "\n",
       "    .dataframe thead th {\n",
       "        text-align: right;\n",
       "    }\n",
       "</style>\n",
       "<table border=\"1\" class=\"dataframe\">\n",
       "  <thead>\n",
       "    <tr style=\"text-align: right;\">\n",
       "      <th></th>\n",
       "      <th>PassengerId</th>\n",
       "      <th>Survived</th>\n",
       "      <th>Pclass</th>\n",
       "      <th>Name</th>\n",
       "      <th>Sex</th>\n",
       "      <th>Age</th>\n",
       "      <th>SibSp</th>\n",
       "      <th>Parch</th>\n",
       "      <th>Ticket</th>\n",
       "      <th>Fare</th>\n",
       "      <th>...</th>\n",
       "      <th>Embarked</th>\n",
       "      <th>Age_bin</th>\n",
       "      <th>Age_bin_0</th>\n",
       "      <th>Age_bin_1</th>\n",
       "      <th>Age_bin_2</th>\n",
       "      <th>Age_bin_3</th>\n",
       "      <th>Age_bin_4</th>\n",
       "      <th>Age_bin_5</th>\n",
       "      <th>Age_bin_6</th>\n",
       "      <th>Age_bin_7</th>\n",
       "    </tr>\n",
       "  </thead>\n",
       "  <tbody>\n",
       "    <tr>\n",
       "      <th>0</th>\n",
       "      <td>1</td>\n",
       "      <td>0.0</td>\n",
       "      <td>3</td>\n",
       "      <td>Braund, Mr. Owen Harris</td>\n",
       "      <td>1</td>\n",
       "      <td>22.0</td>\n",
       "      <td>1</td>\n",
       "      <td>0</td>\n",
       "      <td>A/5 21171</td>\n",
       "      <td>7.2500</td>\n",
       "      <td>...</td>\n",
       "      <td>S</td>\n",
       "      <td>2</td>\n",
       "      <td>0</td>\n",
       "      <td>0</td>\n",
       "      <td>1</td>\n",
       "      <td>0</td>\n",
       "      <td>0</td>\n",
       "      <td>0</td>\n",
       "      <td>0</td>\n",
       "      <td>0</td>\n",
       "    </tr>\n",
       "    <tr>\n",
       "      <th>1</th>\n",
       "      <td>2</td>\n",
       "      <td>1.0</td>\n",
       "      <td>1</td>\n",
       "      <td>Cumings, Mrs. John Bradley (Florence Briggs Th...</td>\n",
       "      <td>0</td>\n",
       "      <td>38.0</td>\n",
       "      <td>1</td>\n",
       "      <td>0</td>\n",
       "      <td>PC 17599</td>\n",
       "      <td>71.2833</td>\n",
       "      <td>...</td>\n",
       "      <td>C</td>\n",
       "      <td>3</td>\n",
       "      <td>0</td>\n",
       "      <td>0</td>\n",
       "      <td>0</td>\n",
       "      <td>1</td>\n",
       "      <td>0</td>\n",
       "      <td>0</td>\n",
       "      <td>0</td>\n",
       "      <td>0</td>\n",
       "    </tr>\n",
       "    <tr>\n",
       "      <th>2</th>\n",
       "      <td>3</td>\n",
       "      <td>1.0</td>\n",
       "      <td>3</td>\n",
       "      <td>Heikkinen, Miss. Laina</td>\n",
       "      <td>0</td>\n",
       "      <td>26.0</td>\n",
       "      <td>0</td>\n",
       "      <td>0</td>\n",
       "      <td>STON/O2. 3101282</td>\n",
       "      <td>7.9250</td>\n",
       "      <td>...</td>\n",
       "      <td>S</td>\n",
       "      <td>2</td>\n",
       "      <td>0</td>\n",
       "      <td>0</td>\n",
       "      <td>1</td>\n",
       "      <td>0</td>\n",
       "      <td>0</td>\n",
       "      <td>0</td>\n",
       "      <td>0</td>\n",
       "      <td>0</td>\n",
       "    </tr>\n",
       "  </tbody>\n",
       "</table>\n",
       "<p>3 rows × 21 columns</p>\n",
       "</div>"
      ],
      "text/plain": [
       "   PassengerId  Survived  Pclass  \\\n",
       "0            1       0.0       3   \n",
       "1            2       1.0       1   \n",
       "2            3       1.0       3   \n",
       "\n",
       "                                                Name  Sex   Age  SibSp  Parch  \\\n",
       "0                            Braund, Mr. Owen Harris    1  22.0      1      0   \n",
       "1  Cumings, Mrs. John Bradley (Florence Briggs Th...    0  38.0      1      0   \n",
       "2                             Heikkinen, Miss. Laina    0  26.0      0      0   \n",
       "\n",
       "             Ticket     Fare  ... Embarked Age_bin  Age_bin_0  Age_bin_1  \\\n",
       "0         A/5 21171   7.2500  ...        S       2          0          0   \n",
       "1          PC 17599  71.2833  ...        C       3          0          0   \n",
       "2  STON/O2. 3101282   7.9250  ...        S       2          0          0   \n",
       "\n",
       "   Age_bin_2  Age_bin_3  Age_bin_4  Age_bin_5  Age_bin_6  Age_bin_7  \n",
       "0          1          0          0          0          0          0  \n",
       "1          0          1          0          0          0          0  \n",
       "2          1          0          0          0          0          0  \n",
       "\n",
       "[3 rows x 21 columns]"
      ]
     },
     "execution_count": 691,
     "metadata": {},
     "output_type": "execute_result"
    }
   ],
   "source": [
    "age_bins = pd.get_dummies(df['Age_bin']).add_prefix('Age_bin_')\n",
    "df = df.merge(age_bins, how='left', left_index=True, right_index=True, validate='1:1')\n",
    "df[:3]"
   ]
  },
  {
   "cell_type": "markdown",
   "metadata": {
    "pycharm": {
     "name": "#%% md\n"
    }
   },
   "source": [
    "Now we have a DataFrame with 8 extra columns, one for each age bin that we had created earlier.\n",
    "Since we've coded the age column into this new form, we can drop the old columns so we \n",
    "don't try to train on different representations of the same data."
   ]
  },
  {
   "cell_type": "code",
   "execution_count": 692,
   "metadata": {
    "pycharm": {
     "is_executing": false,
     "name": "#%%\n"
    }
   },
   "outputs": [],
   "source": [
    "df = df.drop(columns=['Age', 'Age_bin'])"
   ]
  },
  {
   "cell_type": "markdown",
   "metadata": {
    "pycharm": {
     "name": "#%% md\n"
    }
   },
   "source": [
    "# Pclass (Ticket class)\n",
    "Now that we've finished cleaning up the age data, let's move on to `Pclass`. First, we should look at its\n",
    "correspondence to see if it's already good or not."
   ]
  },
  {
   "cell_type": "code",
   "execution_count": 693,
   "metadata": {
    "pycharm": {
     "is_executing": false,
     "name": "#%%\n"
    }
   },
   "outputs": [
    {
     "data": {
      "text/html": [
       "<div>\n",
       "<style scoped>\n",
       "    .dataframe tbody tr th:only-of-type {\n",
       "        vertical-align: middle;\n",
       "    }\n",
       "\n",
       "    .dataframe tbody tr th {\n",
       "        vertical-align: top;\n",
       "    }\n",
       "\n",
       "    .dataframe thead th {\n",
       "        text-align: right;\n",
       "    }\n",
       "</style>\n",
       "<table border=\"1\" class=\"dataframe\">\n",
       "  <thead>\n",
       "    <tr style=\"text-align: right;\">\n",
       "      <th></th>\n",
       "      <th>Survived</th>\n",
       "      <th>Pclass</th>\n",
       "    </tr>\n",
       "  </thead>\n",
       "  <tbody>\n",
       "    <tr>\n",
       "      <th>Survived</th>\n",
       "      <td>1.000000</td>\n",
       "      <td>-0.338481</td>\n",
       "    </tr>\n",
       "    <tr>\n",
       "      <th>Pclass</th>\n",
       "      <td>-0.338481</td>\n",
       "      <td>1.000000</td>\n",
       "    </tr>\n",
       "  </tbody>\n",
       "</table>\n",
       "</div>"
      ],
      "text/plain": [
       "          Survived    Pclass\n",
       "Survived  1.000000 -0.338481\n",
       "Pclass   -0.338481  1.000000"
      ]
     },
     "execution_count": 693,
     "metadata": {},
     "output_type": "execute_result"
    }
   ],
   "source": [
    "df[['Survived', 'Pclass']].corr()"
   ]
  },
  {
   "cell_type": "markdown",
   "metadata": {
    "pycharm": {
     "name": "#%% md\n"
    }
   },
   "source": [
    "A correspondence of -0.3 is actually fairly strong, compared to our previous examinations\n",
    "of the age bins. We can break this value down further to see if there are any individual \n",
    "ticket classes that show strong individual correspondences with the survival rate."
   ]
  },
  {
   "cell_type": "code",
   "execution_count": 694,
   "metadata": {
    "pycharm": {
     "is_executing": false,
     "name": "#%%\n"
    }
   },
   "outputs": [
    {
     "name": "stdout",
     "output_type": "stream",
     "text": [
      "Passenger class 1: 0.63\n",
      "Passenger class 2: 0.47\n",
      "Passenger class 3: 0.24\n"
     ]
    }
   ],
   "source": [
    "p_classes = sorted(df['Pclass'].unique())\n",
    "for p_class in p_classes:\n",
    "    df_class = df[df['Pclass'] == p_class]\n",
    "    survival = len(df_class[df_class['Survived'] == 1]) / len(df_class[~pd.isna(df_class['Survived'])])\n",
    "    print(\"Passenger class {}: {:.2g}\".format(p_class, survival))"
   ]
  },
  {
   "cell_type": "markdown",
   "metadata": {
    "pycharm": {
     "name": "#%% md\n"
    }
   },
   "source": [
    "With these survival rates, it looks like there is a pretty nice linear relationship in the \n",
    "data already, so we'll leave the Pclass column as-is.\n",
    "\n",
    "And just to be safe, we should check to make sure that there aren't any missing data\n",
    "from this column."
   ]
  },
  {
   "cell_type": "code",
   "execution_count": 695,
   "metadata": {
    "pycharm": {
     "is_executing": false,
     "name": "#%%\n"
    }
   },
   "outputs": [
    {
     "data": {
      "text/plain": [
       "0"
      ]
     },
     "execution_count": 695,
     "metadata": {},
     "output_type": "execute_result"
    }
   ],
   "source": [
    "len(df[pd.isna(df['Pclass'])])"
   ]
  },
  {
   "cell_type": "markdown",
   "metadata": {
    "pycharm": {
     "name": "#%% md\n"
    }
   },
   "source": [
    "No missing values, good! Now we can move on to the next column to analyze.\n",
    "\n",
    "# SibSP (Siblings and spouses)\n",
    "\n",
    "Now we'll look at the column 'SibSp', the number of siblings and spouses each passenger had. As always, let's first take a look at the linear correspondence."
   ]
  },
  {
   "cell_type": "code",
   "execution_count": 696,
   "metadata": {},
   "outputs": [
    {
     "data": {
      "text/html": [
       "<div>\n",
       "<style scoped>\n",
       "    .dataframe tbody tr th:only-of-type {\n",
       "        vertical-align: middle;\n",
       "    }\n",
       "\n",
       "    .dataframe tbody tr th {\n",
       "        vertical-align: top;\n",
       "    }\n",
       "\n",
       "    .dataframe thead th {\n",
       "        text-align: right;\n",
       "    }\n",
       "</style>\n",
       "<table border=\"1\" class=\"dataframe\">\n",
       "  <thead>\n",
       "    <tr style=\"text-align: right;\">\n",
       "      <th></th>\n",
       "      <th>Survived</th>\n",
       "      <th>SibSp</th>\n",
       "    </tr>\n",
       "  </thead>\n",
       "  <tbody>\n",
       "    <tr>\n",
       "      <th>Survived</th>\n",
       "      <td>1.000000</td>\n",
       "      <td>-0.035322</td>\n",
       "    </tr>\n",
       "    <tr>\n",
       "      <th>SibSp</th>\n",
       "      <td>-0.035322</td>\n",
       "      <td>1.000000</td>\n",
       "    </tr>\n",
       "  </tbody>\n",
       "</table>\n",
       "</div>"
      ],
      "text/plain": [
       "          Survived     SibSp\n",
       "Survived  1.000000 -0.035322\n",
       "SibSp    -0.035322  1.000000"
      ]
     },
     "execution_count": 696,
     "metadata": {},
     "output_type": "execute_result"
    }
   ],
   "source": [
    "df[['Survived', 'SibSp']].corr()"
   ]
  },
  {
   "cell_type": "markdown",
   "metadata": {},
   "source": [
    "Looks like there's essentially no correspondece here, so we need to dissect these values a bit to see if there's anything more to learn."
   ]
  },
  {
   "cell_type": "code",
   "execution_count": 697,
   "metadata": {},
   "outputs": [
    {
     "name": "stdout",
     "output_type": "stream",
     "text": [
      "Survival rates:\n",
      "0 siblings/spouses: 0.24 \t(population: 608)\n",
      "1 siblings/spouses: 0.35 \t(population: 209)\n",
      "2 siblings/spouses: 0.31 \t(population: 28)\n",
      "3 siblings/spouses: 0.2 \t(population: 16)\n",
      "4 siblings/spouses: 0.14 \t(population: 18)\n",
      "5 siblings/spouses: 0 \t(population: 5)\n",
      "8 siblings/spouses: 0 \t(population: 7)\n"
     ]
    }
   ],
   "source": [
    "sib_nums = sorted(df['SibSp'].unique())\n",
    "\n",
    "print(\"Survival rates:\")\n",
    "for s in sib_nums:\n",
    "    df_s = df[df['SibSp'] == s]\n",
    "    survival = len(df_s[df_s['Survived'] == 1]) / len(df_s)\n",
    "    print(\"{} siblings/spouses: {:.2g} \\t(population: {})\".format(s, survival, len(df_s[~pd.isna(df_s['Survived'])])))"
   ]
  },
  {
   "cell_type": "markdown",
   "metadata": {},
   "source": [
    "It seems like there's a line that can be drawn around a 'SibSp' value of 4-5. Families with many siblings or spouses didn't seem to have any survivability, so that'll make for a strong feature in our classifier. Let's make a new binary column for 'LargeSibSp' to track this feature."
   ]
  },
  {
   "cell_type": "code",
   "execution_count": 698,
   "metadata": {},
   "outputs": [
    {
     "name": "stdout",
     "output_type": "stream",
     "text": [
      "Survival for large SibSp: 0.0\n",
      "Survival for small SibSp: 0.3890784982935154\n"
     ]
    }
   ],
   "source": [
    "largeSibSpCutOff = 4\n",
    "df['LargeSibSp'] = df['SibSp'] > largeSibSpCutOff\n",
    "\n",
    "df_l = df[df['LargeSibSp'] == True]\n",
    "df_s = df[df['LargeSibSp'] == False]\n",
    "print(\"Survival for large SibSp: {}\".format(len(df_l[df_l['Survived'] == 1]) / len(df_l[~pd.isna(df_l['Survived'])])))\n",
    "print(\"Survival for small SibSp: {}\".format(len(df_s[df_s['Survived'] == 1]) / len(df_s[~pd.isna(df_s['Survived'])])))"
   ]
  },
  {
   "cell_type": "markdown",
   "metadata": {},
   "source": [
    "Now, before moving on to the next feature, let's check for, and clean up, any missing values."
   ]
  },
  {
   "cell_type": "code",
   "execution_count": 699,
   "metadata": {},
   "outputs": [
    {
     "data": {
      "text/plain": [
       "0"
      ]
     },
     "execution_count": 699,
     "metadata": {},
     "output_type": "execute_result"
    }
   ],
   "source": [
    "len(df[pd.isna(df['SibSp'])])"
   ]
  },
  {
   "cell_type": "markdown",
   "metadata": {
    "pycharm": {
     "name": "#%% md\n"
    }
   },
   "source": [
    "# Parch (Parents and children)\n",
    "\n",
    "The number of parents and children seems like a very similar mesaurement to the number of siblings and spouses. We should keep that in mind and come back to that later. For now though, we'll look at this feature on its own."
   ]
  },
  {
   "cell_type": "code",
   "execution_count": 700,
   "metadata": {},
   "outputs": [
    {
     "data": {
      "text/html": [
       "<div>\n",
       "<style scoped>\n",
       "    .dataframe tbody tr th:only-of-type {\n",
       "        vertical-align: middle;\n",
       "    }\n",
       "\n",
       "    .dataframe tbody tr th {\n",
       "        vertical-align: top;\n",
       "    }\n",
       "\n",
       "    .dataframe thead th {\n",
       "        text-align: right;\n",
       "    }\n",
       "</style>\n",
       "<table border=\"1\" class=\"dataframe\">\n",
       "  <thead>\n",
       "    <tr style=\"text-align: right;\">\n",
       "      <th></th>\n",
       "      <th>Survived</th>\n",
       "      <th>Parch</th>\n",
       "    </tr>\n",
       "  </thead>\n",
       "  <tbody>\n",
       "    <tr>\n",
       "      <th>Survived</th>\n",
       "      <td>1.000000</td>\n",
       "      <td>0.081629</td>\n",
       "    </tr>\n",
       "    <tr>\n",
       "      <th>Parch</th>\n",
       "      <td>0.081629</td>\n",
       "      <td>1.000000</td>\n",
       "    </tr>\n",
       "  </tbody>\n",
       "</table>\n",
       "</div>"
      ],
      "text/plain": [
       "          Survived     Parch\n",
       "Survived  1.000000  0.081629\n",
       "Parch     0.081629  1.000000"
      ]
     },
     "execution_count": 700,
     "metadata": {},
     "output_type": "execute_result"
    }
   ],
   "source": [
    "df[['Survived', 'Parch']].corr()"
   ]
  },
  {
   "cell_type": "markdown",
   "metadata": {},
   "source": [
    "No significant correspondence can be observed here, so let's run the same steps we did with 'SibSp':"
   ]
  },
  {
   "cell_type": "code",
   "execution_count": 701,
   "metadata": {},
   "outputs": [
    {
     "name": "stdout",
     "output_type": "stream",
     "text": [
      "Survival rates:\n",
      "0 parents/children: 0.23 \t(population: 678)\n",
      "1 parents/children: 0.38 \t(population: 118)\n",
      "2 parents/children: 0.35 \t(population: 80)\n",
      "3 parents/children: 0.38 \t(population: 5)\n",
      "4 parents/children: 0 \t(population: 4)\n",
      "5 parents/children: 0.17 \t(population: 5)\n",
      "6 parents/children: 0 \t(population: 1)\n",
      "9 parents/children: 0 \t(population: 0)\n"
     ]
    }
   ],
   "source": [
    "parch_nums = sorted(df['Parch'].unique())\n",
    "\n",
    "print(\"Survival rates:\")\n",
    "for p in parch_nums:\n",
    "    df_p = df[df['Parch'] == p]\n",
    "    survival = len(df_p[df_p['Survived'] == 1]) / len(df_p)\n",
    "    print(\"{} parents/children: {:.2g} \\t(population: {})\".format(p, survival, len(df_p[~pd.isna(df_p['Survived'])])))"
   ]
  },
  {
   "cell_type": "markdown",
   "metadata": {},
   "source": [
    "Just like 'SibSp', 'Parch shows a strong line between small numbers of parents/children and large. This is a bit trickier though; since there is a non-zero survival rate at 5, we can't draw our line of survival as easily as we did for 'SibSp'. Let's try breaking this into three new columns: 'SmallParch', 'MedParch', and 'LargeParch'."
   ]
  },
  {
   "cell_type": "code",
   "execution_count": 702,
   "metadata": {},
   "outputs": [],
   "source": [
    "df['SmallParch'] = df['Parch'] <= 3\n",
    "df['MedParch'] = df['Parch'].between(4, 5)  # Boundaries are included\n",
    "df['LargeParch'] = df['Parch'] >= 6"
   ]
  },
  {
   "cell_type": "code",
   "execution_count": 703,
   "metadata": {},
   "outputs": [
    {
     "name": "stdout",
     "output_type": "stream",
     "text": [
      "Survival for small Parch: 0.39\n",
      "Survival for medium Parch: 0.11\n",
      "Survival for large Parch: 0\n"
     ]
    }
   ],
   "source": [
    "df_s = df[df['SmallParch'] == True]\n",
    "df_m = df[df['MedParch'] == True]\n",
    "df_l = df[df['LargeParch'] == True]\n",
    "\n",
    "print(\"Survival for small Parch: {:.2g}\".format(len(df_s[df_s['Survived'] == 1]) / len(df_s[~pd.isna(df_s['Survived'])])))\n",
    "print(\"Survival for medium Parch: {:.2g}\".format(len(df_m[df_m['Survived'] == 1]) / len(df_m[~pd.isna(df_m['Survived'])])))\n",
    "print(\"Survival for large Parch: {:.2g}\".format(len(df_l[df_l['Survived'] == 1]) / len(df_l[~pd.isna(df_l['Survived'])])))"
   ]
  },
  {
   "cell_type": "markdown",
   "metadata": {},
   "source": [
    "Before moving on, as usual, we should check for any missing values."
   ]
  },
  {
   "cell_type": "code",
   "execution_count": 704,
   "metadata": {},
   "outputs": [
    {
     "data": {
      "text/plain": [
       "0"
      ]
     },
     "execution_count": 704,
     "metadata": {},
     "output_type": "execute_result"
    }
   ],
   "source": [
    "len(df[pd.isna(df['Parch'])])"
   ]
  },
  {
   "cell_type": "markdown",
   "metadata": {},
   "source": [
    "Good! Now, remember that note we wanted to remember earlier about how 'Parch' and 'SibSp' sound very similar? Let's explore that now.\n",
    "\n",
    "# SibSp + Parch\n",
    "\n",
    "The columns 'SibSp' and 'Parch' showed very similar trends, so adding the two together might give even better data."
   ]
  },
  {
   "cell_type": "code",
   "execution_count": 705,
   "metadata": {},
   "outputs": [
    {
     "name": "stdout",
     "output_type": "stream",
     "text": [
      "Survival rates:\n",
      "0 SibSp + Parch: 0.3 \t(population: 790)\n",
      "1 SibSp + Parch: 0.55 \t(population: 235)\n",
      "2 SibSp + Parch: 0.58 \t(population: 159)\n",
      "3 SibSp + Parch: 0.72 \t(population: 43)\n",
      "4 SibSp + Parch: 0.2 \t(population: 22)\n",
      "5 SibSp + Parch: 0.14 \t(population: 25)\n",
      "6 SibSp + Parch: 0.33 \t(population: 16)\n",
      "7 SibSp + Parch: 0 \t(population: 8)\n",
      "10 SibSp + Parch: 0 \t(population: 11)\n"
     ]
    }
   ],
   "source": [
    "df['Relatives'] = df['SibSp'] + df['Parch']\n",
    "\n",
    "nums = sorted(df['Relatives'].unique())\n",
    "\n",
    "print(\"Survival rates:\")\n",
    "for p in nums:\n",
    "    df_p = df[df['Relatives'] == p]\n",
    "    survival = len(df_p[df_p['Survived'] == 1]) / len(df_p[~pd.isna(df_p['Survived'])])\n",
    "    print(\"{} SibSp + Parch: {:.2g} \\t(population: {})\".format(p, survival, len(df_p)))"
   ]
  },
  {
   "cell_type": "markdown",
   "metadata": {},
   "source": [
    "It looks like, just as predicted, this data is essentially identical to what we found in each of the two individual columns above. Looking more closely, we can identify an almost-clean bell curve, centered a 'Relatives' size of around 2 or 3. The only data that throws this off is the increase in survivability from 'Relatives' values of 5 to 6. For now, let's ignore that as an anomaly and see if we can capture this Gaussian-like relationship around some ideal family size."
   ]
  },
  {
   "cell_type": "code",
   "execution_count": 706,
   "metadata": {},
   "outputs": [
    {
     "data": {
      "text/html": [
       "<div>\n",
       "<style scoped>\n",
       "    .dataframe tbody tr th:only-of-type {\n",
       "        vertical-align: middle;\n",
       "    }\n",
       "\n",
       "    .dataframe tbody tr th {\n",
       "        vertical-align: top;\n",
       "    }\n",
       "\n",
       "    .dataframe thead th {\n",
       "        text-align: right;\n",
       "    }\n",
       "</style>\n",
       "<table border=\"1\" class=\"dataframe\">\n",
       "  <thead>\n",
       "    <tr style=\"text-align: right;\">\n",
       "      <th></th>\n",
       "      <th>Survived</th>\n",
       "      <th>DistFromIdealRel</th>\n",
       "    </tr>\n",
       "  </thead>\n",
       "  <tbody>\n",
       "    <tr>\n",
       "      <th>Survived</th>\n",
       "      <td>1.00000</td>\n",
       "      <td>-0.24708</td>\n",
       "    </tr>\n",
       "    <tr>\n",
       "      <th>DistFromIdealRel</th>\n",
       "      <td>-0.24708</td>\n",
       "      <td>1.00000</td>\n",
       "    </tr>\n",
       "  </tbody>\n",
       "</table>\n",
       "</div>"
      ],
      "text/plain": [
       "                  Survived  DistFromIdealRel\n",
       "Survived           1.00000          -0.24708\n",
       "DistFromIdealRel  -0.24708           1.00000"
      ]
     },
     "execution_count": 706,
     "metadata": {},
     "output_type": "execute_result"
    }
   ],
   "source": [
    "ideal_relatives = 2\n",
    "\n",
    "df['DistFromIdealRel'] = np.abs(df['Relatives'] - ideal_relatives)\n",
    "\n",
    "df[['Survived', 'DistFromIdealRel']].corr()"
   ]
  },
  {
   "cell_type": "markdown",
   "metadata": {},
   "source": [
    "An absolute correspondence of 0.25 is much better than what we started with for 'SibSp' or 'Parch' before (around 0.07), so this seems like it'll be a decent feature. Now we can go back in and drop the original columns from the table so they don't add noise to our results."
   ]
  },
  {
   "cell_type": "code",
   "execution_count": 707,
   "metadata": {},
   "outputs": [],
   "source": [
    "df = df.drop(columns=['SibSp', 'Parch', 'Relatives'])"
   ]
  },
  {
   "cell_type": "markdown",
   "metadata": {},
   "source": [
    "# Fare\n",
    "\n",
    "So far so good! Next, time to examine the relationship between the fare, or ticket price, and survival rates."
   ]
  },
  {
   "cell_type": "code",
   "execution_count": 708,
   "metadata": {},
   "outputs": [
    {
     "data": {
      "text/html": [
       "<div>\n",
       "<style scoped>\n",
       "    .dataframe tbody tr th:only-of-type {\n",
       "        vertical-align: middle;\n",
       "    }\n",
       "\n",
       "    .dataframe tbody tr th {\n",
       "        vertical-align: top;\n",
       "    }\n",
       "\n",
       "    .dataframe thead th {\n",
       "        text-align: right;\n",
       "    }\n",
       "</style>\n",
       "<table border=\"1\" class=\"dataframe\">\n",
       "  <thead>\n",
       "    <tr style=\"text-align: right;\">\n",
       "      <th></th>\n",
       "      <th>Survived</th>\n",
       "      <th>Fare</th>\n",
       "    </tr>\n",
       "  </thead>\n",
       "  <tbody>\n",
       "    <tr>\n",
       "      <th>Survived</th>\n",
       "      <td>1.000000</td>\n",
       "      <td>0.257307</td>\n",
       "    </tr>\n",
       "    <tr>\n",
       "      <th>Fare</th>\n",
       "      <td>0.257307</td>\n",
       "      <td>1.000000</td>\n",
       "    </tr>\n",
       "  </tbody>\n",
       "</table>\n",
       "</div>"
      ],
      "text/plain": [
       "          Survived      Fare\n",
       "Survived  1.000000  0.257307\n",
       "Fare      0.257307  1.000000"
      ]
     },
     "execution_count": 708,
     "metadata": {},
     "output_type": "execute_result"
    }
   ],
   "source": [
    "df[['Survived', 'Fare']].corr()"
   ]
  },
  {
   "cell_type": "markdown",
   "metadata": {},
   "source": [
    "We already have one of the best correspondences we've seen! Let's keep this column as-is and move on for now.\n",
    "\n",
    "# Cabin\n",
    "\n",
    "Now it's time to explore whether a passenger's cabin location had anything to do with survivability. Before checking correspondences, I'd like to get any missing values out of the way."
   ]
  },
  {
   "cell_type": "code",
   "execution_count": 709,
   "metadata": {},
   "outputs": [
    {
     "name": "stdout",
     "output_type": "stream",
     "text": [
      "NA values: 1014\n"
     ]
    }
   ],
   "source": [
    "print(\"NA values: {}\".format(len(df[pd.isna(df['Cabin'])])))"
   ]
  },
  {
   "cell_type": "markdown",
   "metadata": {},
   "source": [
    "We have a fairly significant amount of missing cabin information, so I'd like to hold off on filling in this data until we know what the existing relationship looks like.\n",
    "\n",
    "Let's first see if the fact that we're missing cabin information can tell us anything about survival rates."
   ]
  },
  {
   "cell_type": "code",
   "execution_count": 710,
   "metadata": {},
   "outputs": [
    {
     "name": "stdout",
     "output_type": "stream",
     "text": [
      "0.29985443959243085\n",
      "0.6666666666666666\n",
      "0.3838383838383838\n"
     ]
    }
   ],
   "source": [
    "no_cabin = df[pd.isna(df['Cabin'])]\n",
    "yes_cabin = df[~pd.isna(df['Cabin'])]\n",
    "print(len(no_cabin[no_cabin['Survived'] == 1]) / len(no_cabin[~pd.isna(no_cabin['Survived'])]))\n",
    "print(len(yes_cabin[yes_cabin['Survived'] == 1]) / len(yes_cabin[~pd.isna(yes_cabin['Survived'])]))\n",
    "print(len(df[df['Survived'] == 1]) / len(df[~pd.isna(df['Survived'])]))"
   ]
  },
  {
   "cell_type": "markdown",
   "metadata": {},
   "source": [
    "Surprisingly, it looks like having a cabin on record does affect the survival rate of the passengers (at least in our data set)! In that case, we're going to keep these \"no-cabin\" labels as their own unique property, while we break down the values for passengers who do have cabins.\n",
    "\n",
    "For cabin values, we'll start by binning them based on the cabin class (the letter preceding the cabin number). There are a few cabins that have the letter F before their actual cabin class, so let's separate the F-marked passengers for further analysis."
   ]
  },
  {
   "cell_type": "code",
   "execution_count": 711,
   "metadata": {},
   "outputs": [
    {
     "name": "stdout",
     "output_type": "stream",
     "text": [
      "['A', 'B', 'C', 'D', 'E', 'F', 'F E', 'F G', 'G', 'T']\n",
      "Survival rates:\n",
      "CabinClass A:\t0.47 \t(population: 22)\n",
      "CabinClass B:\t0.74 \t(population: 65)\n",
      "CabinClass C:\t0.59 \t(population: 94)\n",
      "CabinClass D:\t0.76 \t(population: 46)\n",
      "CabinClass E:\t0.75 \t(population: 41)\n",
      "CabinClass F:\t0.78 \t(population: 14)\n",
      "CabinClass F E:\t1 \t(population: 3)\n",
      "CabinClass F G:\t0 \t(population: 4)\n",
      "CabinClass G:\t0.5 \t(population: 5)\n",
      "CabinClass T:\t0 \t(population: 1)\n"
     ]
    }
   ],
   "source": [
    "\n",
    "import re\n",
    "def get_cabin_class(cabin):\n",
    "    if pd.isna(cabin):\n",
    "        return np.nan\n",
    "    \n",
    "    title_search = re.search('([A-Za-z ]+)', cabin)\n",
    "    if title_search:\n",
    "        return title_search.group(1)\n",
    "    \n",
    "    return np.nan\n",
    "\n",
    "df['CabinClass'] = df[~pd.isna(df['Cabin'])]['Cabin'].apply(get_cabin_class)\n",
    "\n",
    "cabin_classes = sorted(df[~pd.isna(df['CabinClass'])]['CabinClass'].unique())\n",
    "print(cabin_classes)\n",
    "\n",
    "print(\"Survival rates:\")\n",
    "for c in cabin_classes:\n",
    "    df_c = df[df['CabinClass'] == c]\n",
    "    survival = len(df_c[df_c['Survived'] == 1]) / len(df_c[~pd.isna(df_c['Survived'])])\n",
    "    print(\"CabinClass {}:\\t{:.2g} \\t(population: {})\".format(c, survival, len(df_c)))\n",
    "    \n",
    "df = df.drop(columns=['CabinClass'])"
   ]
  },
  {
   "cell_type": "markdown",
   "metadata": {},
   "source": [
    "Interestingly enough, it looks like this doesn't really give us any more information than we already had, aside from a small percentage of outliers in 'F G' and 'T' cabin classes. Maybe we'll circle back around to this to see if there are any slight improvements that can be made from the slight discrepancies between each cabin class..."
   ]
  },
  {
   "cell_type": "markdown",
   "metadata": {},
   "source": [
    "Oh well, it was worth a shot! Let's just stick with our original finding then, the difference in survival rate between those with a recorded cabin number, and those without."
   ]
  },
  {
   "cell_type": "code",
   "execution_count": 712,
   "metadata": {},
   "outputs": [
    {
     "data": {
      "text/html": [
       "<div>\n",
       "<style scoped>\n",
       "    .dataframe tbody tr th:only-of-type {\n",
       "        vertical-align: middle;\n",
       "    }\n",
       "\n",
       "    .dataframe tbody tr th {\n",
       "        vertical-align: top;\n",
       "    }\n",
       "\n",
       "    .dataframe thead th {\n",
       "        text-align: right;\n",
       "    }\n",
       "</style>\n",
       "<table border=\"1\" class=\"dataframe\">\n",
       "  <thead>\n",
       "    <tr style=\"text-align: right;\">\n",
       "      <th></th>\n",
       "      <th>Survived</th>\n",
       "      <th>HasCabin</th>\n",
       "    </tr>\n",
       "  </thead>\n",
       "  <tbody>\n",
       "    <tr>\n",
       "      <th>Survived</th>\n",
       "      <td>1.000000</td>\n",
       "      <td>0.316912</td>\n",
       "    </tr>\n",
       "    <tr>\n",
       "      <th>HasCabin</th>\n",
       "      <td>0.316912</td>\n",
       "      <td>1.000000</td>\n",
       "    </tr>\n",
       "  </tbody>\n",
       "</table>\n",
       "</div>"
      ],
      "text/plain": [
       "          Survived  HasCabin\n",
       "Survived  1.000000  0.316912\n",
       "HasCabin  0.316912  1.000000"
      ]
     },
     "execution_count": 712,
     "metadata": {},
     "output_type": "execute_result"
    }
   ],
   "source": [
    "df['HasCabin'] = ~pd.isna(df['Cabin'])\n",
    "df = df.drop(columns=['Cabin'])\n",
    "df[['Survived', 'HasCabin']].corr()"
   ]
  },
  {
   "cell_type": "markdown",
   "metadata": {},
   "source": [
    "# Name\n",
    "\n",
    "This one will be tricky. Maybe there are correspondences between the survival rates of passengers with certain titles? Let's find out!"
   ]
  },
  {
   "cell_type": "code",
   "execution_count": 713,
   "metadata": {},
   "outputs": [
    {
     "name": "stdout",
     "output_type": "stream",
     "text": [
      "['Mr' 'Mrs' 'Miss' 'Master' 'Don' 'Rev' 'Dr' 'Mme' 'Ms' 'Major' 'Lady'\n",
      " 'Sir' 'Mlle' 'Col' 'Capt' 'Countess' 'Jonkheer' 'Dona']\n"
     ]
    }
   ],
   "source": [
    "def get_title(name):\n",
    "    if pd.isna(name):\n",
    "        return np.nan\n",
    "\n",
    "    title_search = re.search(' ([A-Za-z]+)\\.', name)\n",
    "    if title_search:\n",
    "        return title_search.group(1)\n",
    "    \n",
    "    return np.nan\n",
    "\n",
    "df['Title'] = df['Name'].apply(get_title)\n",
    "titles = df['Title'].unique()\n",
    "print(titles)"
   ]
  },
  {
   "cell_type": "markdown",
   "metadata": {},
   "source": [
    "There are a few categories we could specify to split this into groups. \"Is a doctor\", or \"is military\", or \"is married\" (for women at least).\n",
    "\n",
    "Before any of those specifics, let's first just check the survival rate of each of these individually. Along with some extra clean-up combining titles that mean the same thing (and mapping unknown marital status titles to the same thing)."
   ]
  },
  {
   "cell_type": "code",
   "execution_count": 714,
   "metadata": {},
   "outputs": [
    {
     "name": "stdout",
     "output_type": "stream",
     "text": [
      "Survival rates:\n",
      "Mr:\t0.16 \t(population: 517)\n",
      "Mrs:\t0.79 \t(population: 125)\n",
      "Ms:\t0.7 \t(population: 185)\n",
      "Master:\t0.56 \t(population: 43)\n",
      "Rev:\t0 \t(population: 6)\n",
      "Dr:\t0.43 \t(population: 7)\n",
      "Mme:\t1 \t(population: 3)\n",
      "Major:\t0.5 \t(population: 2)\n",
      "Col:\t0.5 \t(population: 2)\n",
      "Capt:\t0 \t(population: 1)\n"
     ]
    }
   ],
   "source": [
    "title_map = {\n",
    "    'Miss': 'Ms',\n",
    "    'Mlle': 'Ms',\n",
    "    'Sir':  'Master',\n",
    "    'Don':  'Master',\n",
    "    'Jonkheer': 'Master',\n",
    "    'Countess': 'Mme',\n",
    "    'Lady':     'Mme',\n",
    "    'Dona':     'Mme'\n",
    "}\n",
    "\n",
    "def map_title(title):\n",
    "    if pd.isna(title):\n",
    "        return np.nan\n",
    "    \n",
    "    if title in title_map.keys():\n",
    "        return title_map[title]\n",
    "    else:\n",
    "        return title\n",
    "    \n",
    "df['Title'] = df['Title'].apply(map_title)\n",
    "titles = df['Title'].unique()\n",
    "\n",
    "print(\"Survival rates:\")\n",
    "for t in titles:\n",
    "    df_t = df[df['Title'] == t]\n",
    "    survival = len(df_t[df_t['Survived'] == 1]) / max(1, len(df_t[~pd.isna(df_t['Survived'])]))\n",
    "    print(\"{}:\\t{:.2g} \\t(population: {})\".format(t, survival, len(df_t[~pd.isna(df_t['Survived'])])))"
   ]
  },
  {
   "cell_type": "markdown",
   "metadata": {},
   "source": [
    "Looks like the old saying \"the captain must go down with the ship\" holds in this case! Also, \"Masters\" fared much better than men with \"Mr\". The women with \"Mme\" also fared quite well, even though there are only 3 in this case. Reverends, on the other hand, all went down with the ship.\n",
    "\n",
    "For code simplicity, let's just go ahead and expand this column into binary columns like we did previously with age groups."
   ]
  },
  {
   "cell_type": "code",
   "execution_count": 715,
   "metadata": {},
   "outputs": [
    {
     "data": {
      "text/html": [
       "<div>\n",
       "<style scoped>\n",
       "    .dataframe tbody tr th:only-of-type {\n",
       "        vertical-align: middle;\n",
       "    }\n",
       "\n",
       "    .dataframe tbody tr th {\n",
       "        vertical-align: top;\n",
       "    }\n",
       "\n",
       "    .dataframe thead th {\n",
       "        text-align: right;\n",
       "    }\n",
       "</style>\n",
       "<table border=\"1\" class=\"dataframe\">\n",
       "  <thead>\n",
       "    <tr style=\"text-align: right;\">\n",
       "      <th></th>\n",
       "      <th>PassengerId</th>\n",
       "      <th>Survived</th>\n",
       "      <th>Pclass</th>\n",
       "      <th>Name</th>\n",
       "      <th>Sex</th>\n",
       "      <th>Ticket</th>\n",
       "      <th>Fare</th>\n",
       "      <th>Embarked</th>\n",
       "      <th>Age_bin_0</th>\n",
       "      <th>Age_bin_1</th>\n",
       "      <th>...</th>\n",
       "      <th>Title_Capt</th>\n",
       "      <th>Title_Col</th>\n",
       "      <th>Title_Dr</th>\n",
       "      <th>Title_Major</th>\n",
       "      <th>Title_Master</th>\n",
       "      <th>Title_Mme</th>\n",
       "      <th>Title_Mr</th>\n",
       "      <th>Title_Mrs</th>\n",
       "      <th>Title_Ms</th>\n",
       "      <th>Title_Rev</th>\n",
       "    </tr>\n",
       "  </thead>\n",
       "  <tbody>\n",
       "    <tr>\n",
       "      <th>0</th>\n",
       "      <td>1</td>\n",
       "      <td>0.0</td>\n",
       "      <td>3</td>\n",
       "      <td>Braund, Mr. Owen Harris</td>\n",
       "      <td>1</td>\n",
       "      <td>A/5 21171</td>\n",
       "      <td>7.2500</td>\n",
       "      <td>S</td>\n",
       "      <td>0</td>\n",
       "      <td>0</td>\n",
       "      <td>...</td>\n",
       "      <td>0</td>\n",
       "      <td>0</td>\n",
       "      <td>0</td>\n",
       "      <td>0</td>\n",
       "      <td>0</td>\n",
       "      <td>0</td>\n",
       "      <td>1</td>\n",
       "      <td>0</td>\n",
       "      <td>0</td>\n",
       "      <td>0</td>\n",
       "    </tr>\n",
       "    <tr>\n",
       "      <th>1</th>\n",
       "      <td>2</td>\n",
       "      <td>1.0</td>\n",
       "      <td>1</td>\n",
       "      <td>Cumings, Mrs. John Bradley (Florence Briggs Th...</td>\n",
       "      <td>0</td>\n",
       "      <td>PC 17599</td>\n",
       "      <td>71.2833</td>\n",
       "      <td>C</td>\n",
       "      <td>0</td>\n",
       "      <td>0</td>\n",
       "      <td>...</td>\n",
       "      <td>0</td>\n",
       "      <td>0</td>\n",
       "      <td>0</td>\n",
       "      <td>0</td>\n",
       "      <td>0</td>\n",
       "      <td>0</td>\n",
       "      <td>0</td>\n",
       "      <td>1</td>\n",
       "      <td>0</td>\n",
       "      <td>0</td>\n",
       "    </tr>\n",
       "    <tr>\n",
       "      <th>2</th>\n",
       "      <td>3</td>\n",
       "      <td>1.0</td>\n",
       "      <td>3</td>\n",
       "      <td>Heikkinen, Miss. Laina</td>\n",
       "      <td>0</td>\n",
       "      <td>STON/O2. 3101282</td>\n",
       "      <td>7.9250</td>\n",
       "      <td>S</td>\n",
       "      <td>0</td>\n",
       "      <td>0</td>\n",
       "      <td>...</td>\n",
       "      <td>0</td>\n",
       "      <td>0</td>\n",
       "      <td>0</td>\n",
       "      <td>0</td>\n",
       "      <td>0</td>\n",
       "      <td>0</td>\n",
       "      <td>0</td>\n",
       "      <td>0</td>\n",
       "      <td>1</td>\n",
       "      <td>0</td>\n",
       "    </tr>\n",
       "  </tbody>\n",
       "</table>\n",
       "<p>3 rows × 33 columns</p>\n",
       "</div>"
      ],
      "text/plain": [
       "   PassengerId  Survived  Pclass  \\\n",
       "0            1       0.0       3   \n",
       "1            2       1.0       1   \n",
       "2            3       1.0       3   \n",
       "\n",
       "                                                Name  Sex            Ticket  \\\n",
       "0                            Braund, Mr. Owen Harris    1         A/5 21171   \n",
       "1  Cumings, Mrs. John Bradley (Florence Briggs Th...    0          PC 17599   \n",
       "2                             Heikkinen, Miss. Laina    0  STON/O2. 3101282   \n",
       "\n",
       "      Fare Embarked  Age_bin_0  Age_bin_1  ...  Title_Capt  Title_Col  \\\n",
       "0   7.2500        S          0          0  ...           0          0   \n",
       "1  71.2833        C          0          0  ...           0          0   \n",
       "2   7.9250        S          0          0  ...           0          0   \n",
       "\n",
       "   Title_Dr  Title_Major  Title_Master  Title_Mme  Title_Mr  Title_Mrs  \\\n",
       "0         0            0             0          0         1          0   \n",
       "1         0            0             0          0         0          1   \n",
       "2         0            0             0          0         0          0   \n",
       "\n",
       "   Title_Ms  Title_Rev  \n",
       "0         0          0  \n",
       "1         0          0  \n",
       "2         1          0  \n",
       "\n",
       "[3 rows x 33 columns]"
      ]
     },
     "execution_count": 715,
     "metadata": {},
     "output_type": "execute_result"
    }
   ],
   "source": [
    "title_bins = pd.get_dummies(df['Title']).add_prefix('Title_')\n",
    "df = df.merge(title_bins, how='left', left_index=True, right_index=True, validate='1:1')\n",
    "df[:3]"
   ]
  },
  {
   "cell_type": "code",
   "execution_count": 716,
   "metadata": {},
   "outputs": [],
   "source": [
    "df = df.drop(columns=['Name', 'Title'])"
   ]
  },
  {
   "cell_type": "markdown",
   "metadata": {},
   "source": [
    "# Embarked\n",
    "\n",
    "Now, almost done with the basic data cleaning for our data set! Next, it's time to look at the 'Embarked' column. From the data sheet, this column represents a passenger's port of embarkation and is encoded with one of three letters: C (Cherbourg), Q (Queenstown), or S (Southampton). Let's first take a look at the survival rate of passengers from each port to see if there's a trend."
   ]
  },
  {
   "cell_type": "code",
   "execution_count": 717,
   "metadata": {},
   "outputs": [
    {
     "name": "stdout",
     "output_type": "stream",
     "text": [
      "Survival rates:\n",
      "S:\t0.34 \t(population: 644)\n",
      "C:\t0.55 \t(population: 168)\n",
      "Q:\t0.39 \t(population: 77)\n",
      "nan:\t1 \t(population: 2)\n"
     ]
    }
   ],
   "source": [
    "ports = df['Embarked'].unique()\n",
    "\n",
    "print(\"Survival rates:\")\n",
    "for p in ports:\n",
    "    if pd.isna(p):\n",
    "        df_p = df[pd.isna(df['Embarked'])]\n",
    "    else:\n",
    "        df_p = df[df['Embarked'] == p]\n",
    "    survival = len(df_p[df_p['Survived'] == 1]) / max(1, len(df_p[~pd.isna(df_p['Survived'])]))\n",
    "    print(\"{}:\\t{:.2g} \\t(population: {})\".format(p, survival, len(df_p[~pd.isna(df_p['Survived'])])))"
   ]
  },
  {
   "cell_type": "markdown",
   "metadata": {},
   "source": [
    "It does look like there might be a trend here that could be worth extracting: passengers from port C show higher survival rates than those from the other two. Let's expand the 'Embarked' column into binary columns. \n",
    "\n",
    "Also, since the sample size of passengers with no port data is so small, we should go ahead and just add them to the most common port."
   ]
  },
  {
   "cell_type": "code",
   "execution_count": 718,
   "metadata": {},
   "outputs": [
    {
     "name": "stdout",
     "output_type": "stream",
     "text": [
      "S\n"
     ]
    }
   ],
   "source": [
    "groups = df.groupby('Embarked').size()\n",
    "most_common_index = groups[groups == max(groups)].index[0]\n",
    "df['Embarked'] = df['Embarked'].fillna(most_common_index)\n",
    "\n",
    "print(most_common_index)"
   ]
  },
  {
   "cell_type": "code",
   "execution_count": 719,
   "metadata": {},
   "outputs": [
    {
     "data": {
      "text/html": [
       "<div>\n",
       "<style scoped>\n",
       "    .dataframe tbody tr th:only-of-type {\n",
       "        vertical-align: middle;\n",
       "    }\n",
       "\n",
       "    .dataframe tbody tr th {\n",
       "        vertical-align: top;\n",
       "    }\n",
       "\n",
       "    .dataframe thead th {\n",
       "        text-align: right;\n",
       "    }\n",
       "</style>\n",
       "<table border=\"1\" class=\"dataframe\">\n",
       "  <thead>\n",
       "    <tr style=\"text-align: right;\">\n",
       "      <th></th>\n",
       "      <th>PassengerId</th>\n",
       "      <th>Survived</th>\n",
       "      <th>Pclass</th>\n",
       "      <th>Sex</th>\n",
       "      <th>Ticket</th>\n",
       "      <th>Fare</th>\n",
       "      <th>Age_bin_0</th>\n",
       "      <th>Age_bin_1</th>\n",
       "      <th>Age_bin_2</th>\n",
       "      <th>Age_bin_3</th>\n",
       "      <th>...</th>\n",
       "      <th>Title_Major</th>\n",
       "      <th>Title_Master</th>\n",
       "      <th>Title_Mme</th>\n",
       "      <th>Title_Mr</th>\n",
       "      <th>Title_Mrs</th>\n",
       "      <th>Title_Ms</th>\n",
       "      <th>Title_Rev</th>\n",
       "      <th>Embarked_C</th>\n",
       "      <th>Embarked_Q</th>\n",
       "      <th>Embarked_S</th>\n",
       "    </tr>\n",
       "  </thead>\n",
       "  <tbody>\n",
       "    <tr>\n",
       "      <th>0</th>\n",
       "      <td>1</td>\n",
       "      <td>0.0</td>\n",
       "      <td>3</td>\n",
       "      <td>1</td>\n",
       "      <td>A/5 21171</td>\n",
       "      <td>7.2500</td>\n",
       "      <td>0</td>\n",
       "      <td>0</td>\n",
       "      <td>1</td>\n",
       "      <td>0</td>\n",
       "      <td>...</td>\n",
       "      <td>0</td>\n",
       "      <td>0</td>\n",
       "      <td>0</td>\n",
       "      <td>1</td>\n",
       "      <td>0</td>\n",
       "      <td>0</td>\n",
       "      <td>0</td>\n",
       "      <td>0</td>\n",
       "      <td>0</td>\n",
       "      <td>1</td>\n",
       "    </tr>\n",
       "    <tr>\n",
       "      <th>1</th>\n",
       "      <td>2</td>\n",
       "      <td>1.0</td>\n",
       "      <td>1</td>\n",
       "      <td>0</td>\n",
       "      <td>PC 17599</td>\n",
       "      <td>71.2833</td>\n",
       "      <td>0</td>\n",
       "      <td>0</td>\n",
       "      <td>0</td>\n",
       "      <td>1</td>\n",
       "      <td>...</td>\n",
       "      <td>0</td>\n",
       "      <td>0</td>\n",
       "      <td>0</td>\n",
       "      <td>0</td>\n",
       "      <td>1</td>\n",
       "      <td>0</td>\n",
       "      <td>0</td>\n",
       "      <td>1</td>\n",
       "      <td>0</td>\n",
       "      <td>0</td>\n",
       "    </tr>\n",
       "    <tr>\n",
       "      <th>2</th>\n",
       "      <td>3</td>\n",
       "      <td>1.0</td>\n",
       "      <td>3</td>\n",
       "      <td>0</td>\n",
       "      <td>STON/O2. 3101282</td>\n",
       "      <td>7.9250</td>\n",
       "      <td>0</td>\n",
       "      <td>0</td>\n",
       "      <td>1</td>\n",
       "      <td>0</td>\n",
       "      <td>...</td>\n",
       "      <td>0</td>\n",
       "      <td>0</td>\n",
       "      <td>0</td>\n",
       "      <td>0</td>\n",
       "      <td>0</td>\n",
       "      <td>1</td>\n",
       "      <td>0</td>\n",
       "      <td>0</td>\n",
       "      <td>0</td>\n",
       "      <td>1</td>\n",
       "    </tr>\n",
       "  </tbody>\n",
       "</table>\n",
       "<p>3 rows × 33 columns</p>\n",
       "</div>"
      ],
      "text/plain": [
       "   PassengerId  Survived  Pclass  Sex            Ticket     Fare  Age_bin_0  \\\n",
       "0            1       0.0       3    1         A/5 21171   7.2500          0   \n",
       "1            2       1.0       1    0          PC 17599  71.2833          0   \n",
       "2            3       1.0       3    0  STON/O2. 3101282   7.9250          0   \n",
       "\n",
       "   Age_bin_1  Age_bin_2  Age_bin_3  ...  Title_Major  Title_Master  Title_Mme  \\\n",
       "0          0          1          0  ...            0             0          0   \n",
       "1          0          0          1  ...            0             0          0   \n",
       "2          0          1          0  ...            0             0          0   \n",
       "\n",
       "   Title_Mr  Title_Mrs  Title_Ms  Title_Rev  Embarked_C  Embarked_Q  \\\n",
       "0         1          0         0          0           0           0   \n",
       "1         0          1         0          0           1           0   \n",
       "2         0          0         1          0           0           0   \n",
       "\n",
       "   Embarked_S  \n",
       "0           1  \n",
       "1           0  \n",
       "2           1  \n",
       "\n",
       "[3 rows x 33 columns]"
      ]
     },
     "execution_count": 719,
     "metadata": {},
     "output_type": "execute_result"
    }
   ],
   "source": [
    "embarked_bins = pd.get_dummies(df['Embarked']).add_prefix('Embarked_')\n",
    "df = df.merge(embarked_bins, how='left', left_index=True, right_index=True, validate='1:1')\n",
    "\n",
    "df = df.drop(columns='Embarked')\n",
    "df[:3]"
   ]
  },
  {
   "cell_type": "markdown",
   "metadata": {},
   "source": [
    "# Ticket\n",
    "Now, for the last field, the tickets. There seems to be a lot going on in this field, so we're going to have to do some string searching gymnastics to uncover any possble correlations to survival rates."
   ]
  },
  {
   "cell_type": "code",
   "execution_count": 720,
   "metadata": {},
   "outputs": [
    {
     "name": "stdout",
     "output_type": "stream",
     "text": [
      "929\n",
      "['A/5 21171' 'PC 17599' 'STON/O2. 3101282' '113803' '373450' '330877'\n",
      " '17463' '349909' '347742' '237736' 'PP 9549' '113783' 'A/5. 2151'\n",
      " '347082' '350406' '248706' '382652' '244373' '345763' '2649']\n"
     ]
    }
   ],
   "source": [
    "tickets = df['Ticket'].unique()\n",
    "print(len(tickets))\n",
    "print(tickets[:20])"
   ]
  },
  {
   "cell_type": "markdown",
   "metadata": {},
   "source": [
    "All tickets have a number, but only some have prefixes, and that prefix seems to have a hold of variation. Let's start cleaning this up to see how many different prefixes there really are."
   ]
  },
  {
   "cell_type": "code",
   "execution_count": 721,
   "metadata": {},
   "outputs": [
    {
     "data": {
      "text/plain": [
       "['',\n",
       " 'A. 2.',\n",
       " 'A./5.',\n",
       " 'A.5.',\n",
       " 'A/4',\n",
       " 'A/4.',\n",
       " 'A/5',\n",
       " 'A/5.',\n",
       " 'A/S',\n",
       " 'A4.',\n",
       " 'AQ/3.',\n",
       " 'AQ/4',\n",
       " 'C',\n",
       " 'C.A.',\n",
       " 'C.A./SOTON',\n",
       " 'CA',\n",
       " 'CA.',\n",
       " 'F.C.',\n",
       " 'F.C.C.',\n",
       " 'Fa',\n",
       " 'LINE',\n",
       " 'LP',\n",
       " 'P/PP',\n",
       " 'PC',\n",
       " 'PP',\n",
       " 'S.C./A.4.',\n",
       " 'S.C./PARIS',\n",
       " 'S.O./P.P.',\n",
       " 'S.O.C.',\n",
       " 'S.O.P.',\n",
       " 'S.P.',\n",
       " 'S.W./PP',\n",
       " 'SC',\n",
       " 'SC/A.3',\n",
       " 'SC/A4',\n",
       " 'SC/AH',\n",
       " 'SC/AH Basle',\n",
       " 'SC/PARIS',\n",
       " 'SC/Paris',\n",
       " 'SCO/W',\n",
       " 'SO/C',\n",
       " 'SOTON/O.Q.',\n",
       " 'SOTON/O2',\n",
       " 'SOTON/OQ',\n",
       " 'STON/O 2.',\n",
       " 'STON/O2.',\n",
       " 'STON/OQ.',\n",
       " 'SW/PP',\n",
       " 'W./C.',\n",
       " 'W.E.P.',\n",
       " 'W/C',\n",
       " 'WE/P']"
      ]
     },
     "execution_count": 721,
     "metadata": {},
     "output_type": "execute_result"
    }
   ],
   "source": [
    "def ticket_prefix(ticket):\n",
    "    if pd.isna(ticket):\n",
    "        return np.nan\n",
    "\n",
    "    pref = re.sub('[0-9]+$', '', ticket).strip(' ')\n",
    "    return pref\n",
    "\n",
    "df['TicketPrefix'] = df['Ticket'].apply(ticket_prefix)\n",
    "prefixes = sorted(df['TicketPrefix'].unique())\n",
    "prefixes"
   ]
  },
  {
   "cell_type": "markdown",
   "metadata": {},
   "source": [
    "Alright, we've narrowed down the results just a bit. It looks like there are different formats for the same prefix in many cases, like `['A./5', 'A/5.', 'A/5']` or `['C.A.', 'CA']`. We should make an attempt to clean these up."
   ]
  },
  {
   "cell_type": "code",
   "execution_count": 722,
   "metadata": {},
   "outputs": [
    {
     "name": "stdout",
     "output_type": "stream",
     "text": [
      "['', 'a2', 'a4', 'a5', 'aq3', 'aq4', 'as', 'c', 'ca', 'casoton', 'fa', 'fc', 'fcc', 'line', 'lp', 'pc', 'pp', 'ppp', 'sc', 'sca3', 'sca4', 'scah', 'scahbasle', 'scow', 'scparis', 'soc', 'sop', 'sopp', 'sotono2', 'sotonoq', 'sp', 'stono2', 'stonoq', 'swpp', 'wc', 'wep']\n"
     ]
    }
   ],
   "source": [
    "def simplify_prefix(prefix):\n",
    "    prefix = prefix.lower()\n",
    "    prefix = prefix.replace(' ', '')\n",
    "    prefix = prefix.replace('.', '')\n",
    "    prefix = prefix.replace('/', '')\n",
    "    \n",
    "    return prefix\n",
    "\n",
    "df['TicketPrefix'] = df['TicketPrefix'].apply(simplify_prefix)\n",
    "prefixes = sorted(df['TicketPrefix'].unique())\n",
    "print(prefixes)"
   ]
  },
  {
   "cell_type": "markdown",
   "metadata": {},
   "source": [
    "Considering these tickets were all commissioned manually - no computers back then - there could've been discrepencies in the way a ticket master wrote the details. Possibly `sop`, `sp`, and `sopp` were the same classification, as well as the pair `soton` and `ston`. And considering the prefixes starting with 'a', it really looks like `as` was a typo for `a5`. Without making too many assumptions, let's start with just these examples."
   ]
  },
  {
   "cell_type": "code",
   "execution_count": 723,
   "metadata": {},
   "outputs": [
    {
     "name": "stdout",
     "output_type": "stream",
     "text": [
      "['', 'a2', 'a4', 'a5', 'aq3', 'aq4', 'c', 'ca', 'ca5ton', 'fa', 'fc', 'fcc', 'line', 'lp', 'pc', 'pp', 'ppp', 'sc', 'sca3', 'sca4', 'scah', 'scahba5le', 'scow', 'scparis', 'soc', 'sp', 'spp', 'stono2', 'stonoq', 'swpp', 'wc', 'wep']\n"
     ]
    }
   ],
   "source": [
    "def simplify_prefix(prefix):\n",
    "    prefix = prefix.replace('sop', 'sp')\n",
    "    prefix = prefix.replace('sopp', 'sp')\n",
    "    prefix = prefix.replace('soton', 'ston')\n",
    "    prefix = prefix.replace('as', 'a5')\n",
    "    \n",
    "    return prefix\n",
    "\n",
    "df['TicketPrefix'] = df['TicketPrefix'].apply(simplify_prefix)\n",
    "prefixes = sorted(df['TicketPrefix'].unique())\n",
    "print(prefixes)"
   ]
  },
  {
   "cell_type": "code",
   "execution_count": 724,
   "metadata": {},
   "outputs": [
    {
     "name": "stdout",
     "output_type": "stream",
     "text": [
      ":\t0.38 \t(population: 661)\n",
      "a2:\t0 \t(population: 0)\n",
      "a4:\t0 \t(population: 7)\n",
      "a5:\t0.091 \t(population: 22)\n",
      "aq3:\t0 \t(population: 0)\n",
      "aq4:\t0 \t(population: 0)\n",
      "c:\t0.4 \t(population: 5)\n",
      "ca:\t0.34 \t(population: 41)\n",
      "ca5ton:\t0 \t(population: 1)\n",
      "fa:\t0 \t(population: 1)\n",
      "fc:\t0 \t(population: 1)\n",
      "fcc:\t0.8 \t(population: 5)\n",
      "line:\t0.25 \t(population: 4)\n",
      "lp:\t0 \t(population: 0)\n",
      "pc:\t0.65 \t(population: 60)\n",
      "pp:\t0.67 \t(population: 3)\n",
      "ppp:\t0.5 \t(population: 2)\n",
      "sc:\t1 \t(population: 1)\n",
      "sca3:\t0 \t(population: 0)\n",
      "sca4:\t0 \t(population: 1)\n",
      "scah:\t0.5 \t(population: 2)\n",
      "scahba5le:\t1 \t(population: 1)\n",
      "scow:\t0 \t(population: 1)\n",
      "scparis:\t0.45 \t(population: 11)\n",
      "soc:\t0.17 \t(population: 6)\n",
      "sp:\t0 \t(population: 2)\n",
      "spp:\t0 \t(population: 3)\n",
      "stono2:\t0.4 \t(population: 20)\n",
      "stonoq:\t0.13 \t(population: 15)\n",
      "swpp:\t1 \t(population: 2)\n",
      "wc:\t0.1 \t(population: 10)\n",
      "wep:\t0.33 \t(population: 3)\n"
     ]
    }
   ],
   "source": [
    "for p in prefixes:\n",
    "    df_p = df[df['TicketPrefix'] == p]\n",
    "    survival = len(df_p[df_p['Survived'] == 1]) / max(1, len(df_p[~pd.isna(df_p['Survived'])]))\n",
    "    print(\"{}:\\t{:.2g} \\t(population: {})\".format(p, survival, len(df_p[~pd.isna(df_p['Survived'])])))"
   ]
  },
  {
   "cell_type": "markdown",
   "metadata": {},
   "source": [
    "For many of these ticket prefixes, there are too few passengers for us to really be able to draw any conclusion. Let's try merging some of the other prefixes that have similar survival rates and prefix structure, then expand these into new binary columns."
   ]
  },
  {
   "cell_type": "code",
   "execution_count": 725,
   "metadata": {
    "scrolled": true
   },
   "outputs": [
    {
     "data": {
      "text/html": [
       "<div>\n",
       "<style scoped>\n",
       "    .dataframe tbody tr th:only-of-type {\n",
       "        vertical-align: middle;\n",
       "    }\n",
       "\n",
       "    .dataframe tbody tr th {\n",
       "        vertical-align: top;\n",
       "    }\n",
       "\n",
       "    .dataframe thead th {\n",
       "        text-align: right;\n",
       "    }\n",
       "</style>\n",
       "<table border=\"1\" class=\"dataframe\">\n",
       "  <thead>\n",
       "    <tr style=\"text-align: right;\">\n",
       "      <th></th>\n",
       "      <th>PassengerId</th>\n",
       "      <th>Survived</th>\n",
       "      <th>Pclass</th>\n",
       "      <th>Sex</th>\n",
       "      <th>Ticket</th>\n",
       "      <th>Fare</th>\n",
       "      <th>Age_bin_0</th>\n",
       "      <th>Age_bin_1</th>\n",
       "      <th>Age_bin_2</th>\n",
       "      <th>Age_bin_3</th>\n",
       "      <th>...</th>\n",
       "      <th>TicketPrefix</th>\n",
       "      <th>TicketPrefix_A</th>\n",
       "      <th>TicketPrefix_C</th>\n",
       "      <th>TicketPrefix_Empty</th>\n",
       "      <th>TicketPrefix_FCC</th>\n",
       "      <th>TicketPrefix_Other</th>\n",
       "      <th>TicketPrefix_P</th>\n",
       "      <th>TicketPrefix_SP</th>\n",
       "      <th>TicketPrefix_STON</th>\n",
       "      <th>TicketPrefix_W</th>\n",
       "    </tr>\n",
       "  </thead>\n",
       "  <tbody>\n",
       "    <tr>\n",
       "      <th>0</th>\n",
       "      <td>1</td>\n",
       "      <td>0.0</td>\n",
       "      <td>3</td>\n",
       "      <td>1</td>\n",
       "      <td>A/5 21171</td>\n",
       "      <td>7.2500</td>\n",
       "      <td>0</td>\n",
       "      <td>0</td>\n",
       "      <td>1</td>\n",
       "      <td>0</td>\n",
       "      <td>...</td>\n",
       "      <td>a5</td>\n",
       "      <td>1</td>\n",
       "      <td>0</td>\n",
       "      <td>0</td>\n",
       "      <td>0</td>\n",
       "      <td>0</td>\n",
       "      <td>0</td>\n",
       "      <td>0</td>\n",
       "      <td>0</td>\n",
       "      <td>0</td>\n",
       "    </tr>\n",
       "    <tr>\n",
       "      <th>1</th>\n",
       "      <td>2</td>\n",
       "      <td>1.0</td>\n",
       "      <td>1</td>\n",
       "      <td>0</td>\n",
       "      <td>PC 17599</td>\n",
       "      <td>71.2833</td>\n",
       "      <td>0</td>\n",
       "      <td>0</td>\n",
       "      <td>0</td>\n",
       "      <td>1</td>\n",
       "      <td>...</td>\n",
       "      <td>pc</td>\n",
       "      <td>0</td>\n",
       "      <td>0</td>\n",
       "      <td>0</td>\n",
       "      <td>0</td>\n",
       "      <td>0</td>\n",
       "      <td>1</td>\n",
       "      <td>0</td>\n",
       "      <td>0</td>\n",
       "      <td>0</td>\n",
       "    </tr>\n",
       "    <tr>\n",
       "      <th>2</th>\n",
       "      <td>3</td>\n",
       "      <td>1.0</td>\n",
       "      <td>3</td>\n",
       "      <td>0</td>\n",
       "      <td>STON/O2. 3101282</td>\n",
       "      <td>7.9250</td>\n",
       "      <td>0</td>\n",
       "      <td>0</td>\n",
       "      <td>1</td>\n",
       "      <td>0</td>\n",
       "      <td>...</td>\n",
       "      <td>stono2</td>\n",
       "      <td>0</td>\n",
       "      <td>0</td>\n",
       "      <td>0</td>\n",
       "      <td>0</td>\n",
       "      <td>0</td>\n",
       "      <td>0</td>\n",
       "      <td>0</td>\n",
       "      <td>1</td>\n",
       "      <td>0</td>\n",
       "    </tr>\n",
       "  </tbody>\n",
       "</table>\n",
       "<p>3 rows × 43 columns</p>\n",
       "</div>"
      ],
      "text/plain": [
       "   PassengerId  Survived  Pclass  Sex            Ticket     Fare  Age_bin_0  \\\n",
       "0            1       0.0       3    1         A/5 21171   7.2500          0   \n",
       "1            2       1.0       1    0          PC 17599  71.2833          0   \n",
       "2            3       1.0       3    0  STON/O2. 3101282   7.9250          0   \n",
       "\n",
       "   Age_bin_1  Age_bin_2  Age_bin_3  ...  TicketPrefix  TicketPrefix_A  \\\n",
       "0          0          1          0  ...            a5               1   \n",
       "1          0          0          1  ...            pc               0   \n",
       "2          0          1          0  ...        stono2               0   \n",
       "\n",
       "   TicketPrefix_C  TicketPrefix_Empty  TicketPrefix_FCC  TicketPrefix_Other  \\\n",
       "0               0                   0                 0                   0   \n",
       "1               0                   0                 0                   0   \n",
       "2               0                   0                 0                   0   \n",
       "\n",
       "   TicketPrefix_P  TicketPrefix_SP  TicketPrefix_STON  TicketPrefix_W  \n",
       "0               0                0                  0               0  \n",
       "1               1                0                  0               0  \n",
       "2               0                0                  1               0  \n",
       "\n",
       "[3 rows x 43 columns]"
      ]
     },
     "execution_count": 725,
     "metadata": {},
     "output_type": "execute_result"
    }
   ],
   "source": [
    "def prefix_bin(prefix):\n",
    "    if prefix == '':\n",
    "        return 'Empty'\n",
    "    if prefix[:1] == 'a':\n",
    "        return 'A'\n",
    "    if prefix[:1] == 'c':\n",
    "        return 'C'\n",
    "    if prefix[:1] == 'p':\n",
    "        return 'P'\n",
    "    if prefix[:1] == 'w':\n",
    "        return 'W'\n",
    "    \n",
    "    if prefix[:3] == 'fcc':\n",
    "        return 'FCC'\n",
    "    if prefix[:2] == 'sp':\n",
    "        return 'SP'\n",
    "    if prefix[:2] == 'scp':\n",
    "        return 'SCP'\n",
    "    if prefix[:4] == 'ston':\n",
    "        return 'STON'\n",
    "\n",
    "    return 'Other'\n",
    "\n",
    "df['TicketPrefix_Bin'] = df['TicketPrefix'].apply(prefix_bin)\n",
    "\n",
    "prefix_bins = pd.get_dummies(df['TicketPrefix_Bin']).add_prefix('TicketPrefix_')\n",
    "df = df.merge(prefix_bins, how='left', left_index=True, right_index=True, validate='1:1')\n",
    "\n",
    "df = df.drop(columns=['TicketPrefix_Bin'])\n",
    "df[:3]"
   ]
  },
  {
   "cell_type": "markdown",
   "metadata": {},
   "source": [
    "For now , at least, that's a wrap for data cleaning!"
   ]
  },
  {
   "cell_type": "markdown",
   "metadata": {},
   "source": [
    "# Data Classification\n",
    "\n",
    "Now we can actually put our data to use and try to make a survival classifier out of this."
   ]
  },
  {
   "cell_type": "code",
   "execution_count": 726,
   "metadata": {
    "pycharm": {
     "is_executing": false,
     "name": "#%% Vizualize Data Relationships\n"
    }
   },
   "outputs": [
    {
     "data": {
      "image/png": "[encoded data removed]",
      "text/plain": [
       "<Figure size 288x288 with 2 Axes>"
      ]
     },
     "metadata": {
      "needs_background": "light"
     },
     "output_type": "display_data"
    }
   ],
   "source": [
    "corr = df.corr().abs()\n",
    "\n",
    "plt.matshow(df.corr().abs())\n",
    "cb = plt.colorbar()\n",
    "plt.show()"
   ]
  },
  {
   "cell_type": "code",
   "execution_count": 727,
   "metadata": {
    "pycharm": {
     "is_executing": false,
     "name": "#%% Split data into X and y\n"
    }
   },
   "outputs": [],
   "source": [
    "num_cols = df.select_dtypes('number').columns\n",
    "df_numeric = df[num_cols]"
   ]
  },
  {
   "cell_type": "code",
   "execution_count": 728,
   "metadata": {},
   "outputs": [],
   "source": [
    "train_df = df_numeric[~pd.isna(df_numeric['Survived'])]\n",
    "train_df = train_df.dropna()\n",
    "survived = train_df.pop('Survived')\n",
    "\n",
    "X = train_df.to_numpy()\n",
    "y = survived.to_numpy()"
   ]
  },
  {
   "cell_type": "code",
   "execution_count": 729,
   "metadata": {},
   "outputs": [],
   "source": [
    "test_df = df_numeric[pd.isna(df_numeric['Survived'])]\n",
    "_ = test_df.pop('Survived')\n",
    "test_df = test_df.fillna(0)\n",
    "\n",
    "X_Evaluation = test_df.to_numpy()"
   ]
  },
  {
   "cell_type": "markdown",
   "metadata": {
    "pycharm": {
     "is_executing": false,
     "name": "#%% Try SVM\n"
    }
   },
   "source": [
    "# Individual Classifier Performance\n",
    "\n",
    "We're going to start by looking at inidviudal classifiers, discussing their pros and cons for the type of data we're working with"
   ]
  },
  {
   "cell_type": "code",
   "execution_count": 730,
   "metadata": {},
   "outputs": [],
   "source": [
    "from sklearn import preprocessing\n",
    "from sklearn.pipeline import make_pipeline\n",
    "from sklearn.model_selection import ShuffleSplit, cross_validate, cross_val_score\n",
    "from sklearn.metrics import recall_score\n",
    "\n",
    "def best_fit_model(clf):\n",
    "    scoring = ['f1', 'roc_auc', 'accuracy']\n",
    "    scores = cross_validate(clf, X, y, scoring=scoring, cv=6, return_estimator=True)\n",
    "    comb = scores['test_f1'] * scores['test_roc_auc'] * scores['test_accuracy']\n",
    "\n",
    "    best_ind = np.argmax(comb)\n",
    "    print(\"Best model: \\n- F1: {:.3g} \\n- ROC AUC: {:.3g} \\n- Accuracy: {:.3g}\".format(scores['test_f1'][best_ind], \n",
    "                                                                  scores['test_roc_auc'][best_ind],\n",
    "                                                                  scores['test_accuracy'][best_ind]))\n",
    "    best_model = scores['estimator'][best_ind]\n",
    "    return best_model, scores\n",
    "\n",
    "estimators = []"
   ]
  },
  {
   "cell_type": "markdown",
   "metadata": {
    "pycharm": {
     "is_executing": false,
     "name": "#%% Try SVM\n"
    }
   },
   "source": [
    "## SVM (Support Vector Machine)"
   ]
  },
  {
   "cell_type": "code",
   "execution_count": 731,
   "metadata": {},
   "outputs": [],
   "source": [
    "from sklearn import svm\n",
    "\n",
    "clf = svm.SVC(kernel='linear', random_state=0)\n",
    "\n",
    "# best_svc, svc_scores = best_fit_model(clf)"
   ]
  },
  {
   "cell_type": "markdown",
   "metadata": {},
   "source": [
    "## Decision Tree"
   ]
  },
  {
   "cell_type": "code",
   "execution_count": 732,
   "metadata": {},
   "outputs": [],
   "source": [
    "from sklearn import tree\n",
    "clf = tree.DecisionTreeClassifier()\n",
    "\n",
    "# best_tree, svc_scores = best_fit_model(clf)"
   ]
  },
  {
   "cell_type": "markdown",
   "metadata": {},
   "source": [
    "## Random Forest"
   ]
  },
  {
   "cell_type": "code",
   "execution_count": 733,
   "metadata": {},
   "outputs": [
    {
     "name": "stdout",
     "output_type": "stream",
     "text": [
      "Best model: \n",
      "- F1: 0.823 \n",
      "- ROC AUC: 0.922 \n",
      "- Accuracy: 0.852\n"
     ]
    }
   ],
   "source": [
    "from sklearn.ensemble import RandomForestClassifier\n",
    "clf = RandomForestClassifier(n_estimators=100, criterion=\"entropy\")\n",
    "\n",
    "best_forest, svc_scores = best_fit_model(clf)"
   ]
  },
  {
   "cell_type": "markdown",
   "metadata": {},
   "source": [
    "## MLP (Multi Layer Perceptron)"
   ]
  },
  {
   "cell_type": "code",
   "execution_count": 734,
   "metadata": {},
   "outputs": [
    {
     "name": "stdout",
     "output_type": "stream",
     "text": [
      "Best model: \n",
      "- F1: 0.796 \n",
      "- ROC AUC: 0.878 \n",
      "- Accuracy: 0.846\n"
     ]
    }
   ],
   "source": [
    "from sklearn.neural_network import MLPClassifier\n",
    "n = X.shape[1]\n",
    "clf = MLPClassifier(hidden_layer_sizes=(n, n, int(n/2), 6), random_state=0, max_iter=300)\n",
    "\n",
    "best_mlp, scores = best_fit_model(clf)"
   ]
  },
  {
   "cell_type": "markdown",
   "metadata": {},
   "source": [
    "## Adaboost Classifier"
   ]
  },
  {
   "cell_type": "code",
   "execution_count": 735,
   "metadata": {},
   "outputs": [
    {
     "name": "stdout",
     "output_type": "stream",
     "text": [
      "Best model: \n",
      "- F1: 0.84 \n",
      "- ROC AUC: 0.899 \n",
      "- Accuracy: 0.872\n"
     ]
    }
   ],
   "source": [
    "from sklearn.ensemble import AdaBoostClassifier\n",
    "clf = AdaBoostClassifier(base_estimator=RandomForestClassifier(n_estimators=5, max_depth=10, criterion=\"entropy\"), \n",
    "                         n_estimators=5,\n",
    "                         random_state=0)\n",
    "\n",
    "best_adaboost, scores = best_fit_model(clf)"
   ]
  },
  {
   "cell_type": "markdown",
   "metadata": {},
   "source": [
    "## Voting Clasifier"
   ]
  },
  {
   "cell_type": "code",
   "execution_count": 736,
   "metadata": {},
   "outputs": [
    {
     "name": "stdout",
     "output_type": "stream",
     "text": [
      "Best model: \n",
      "- F1: 0.855 \n",
      "- ROC AUC: 0.91 \n",
      "- Accuracy: 0.886\n"
     ]
    }
   ],
   "source": [
    "from sklearn.ensemble import VotingClassifier\n",
    "\n",
    "estimators = [\n",
    "    ('Forest', best_forest),\n",
    "    ('MLP', best_mlp),\n",
    "    ('Adaboost', best_adaboost)\n",
    "]\n",
    "clf = VotingClassifier(estimators=estimators, voting='soft')\n",
    "best_eclf, scores = best_fit_model(clf)"
   ]
  },
  {
   "cell_type": "markdown",
   "metadata": {},
   "source": [
    "# Making the Final Predicttions"
   ]
  },
  {
   "cell_type": "code",
   "execution_count": 738,
   "metadata": {
    "pycharm": {
     "is_executing": false,
     "name": "#%% Generate the output for the actual test predictions\n"
    }
   },
   "outputs": [],
   "source": [
    "y_pred = best_adaboost.predict(X_Evaluation)\n",
    "df_pred = pd.DataFrame({\n",
    "    'PassengerId': test_df['PassengerId'],\n",
    "    'Survived': y_pred.astype(int)\n",
    "})\n",
    "\n",
    "df_pred.to_csv(\"data/pred.csv\", index=False)"
   ]
  }
 ],
 "metadata": {
  "kernelspec": {
   "display_name": "Python 3",
   "language": "python",
   "name": "python3"
  },
  "language_info": {
   "codemirror_mode": {
    "name": "ipython",
    "version": 3
   },
   "file_extension": ".py",
   "mimetype": "text/x-python",
   "name": "python",
   "nbconvert_exporter": "python",
   "pygments_lexer": "ipython3",
   "version": "3.7.5"
  },
  "pycharm": {
   "stem_cell": {
    "cell_type": "raw",
    "metadata": {
     "collapsed": false
    },
    "source": []
   }
  }
 },
 "nbformat": 4,
 "nbformat_minor": 1
}
