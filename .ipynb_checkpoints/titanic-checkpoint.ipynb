{
 "cells": [
  {
   "cell_type": "markdown",
   "metadata": {},
   "source": [
    "# Titanic Survival Prediction\n",
    "\n",
    "This is a short lesson on data cleaning and classification prediction, using Kaggle's \n",
    "introductory competition, [Titanic: Machine Learning from Disaster](https://www.kaggle.com/c/titanic)."
   ]
  },
  {
   "cell_type": "code",
   "execution_count": 731,
   "metadata": {
    "pycharm": {
     "is_executing": false,
     "name": "#%% Imports\n"
    }
   },
   "outputs": [],
   "source": [
    "import matplotlib.pyplot as plt\n",
    "\n",
    "from sklearn import svm\n",
    "from sklearn.ensemble import AdaBoostClassifier, GradientBoostingClassifier, \\\n",
    "    RandomForestClassifier, ExtraTreesClassifier, VotingClassifier"
   ]
  },
  {
   "cell_type": "markdown",
   "metadata": {
    "pycharm": {
     "name": "#%% md\n"
    }
   },
   "source": [
    "# Importing The Data\n",
    "We're going to be using Pandas to work with our data, so we'll simply import our two \n",
    "csv files directly into Pandas DataFrames:"
   ]
  },
  {
   "cell_type": "code",
   "execution_count": 732,
   "metadata": {
    "pycharm": {
     "is_executing": false,
     "name": "#%%\n"
    }
   },
   "outputs": [],
   "source": [
    "import pandas as pd\n",
    "import numpy as np\n",
    "\n",
    "train_df = pd.read_csv(\"data/train.csv\")\n",
    "test_df = pd.read_csv(\"data/test.csv\")"
   ]
  },
  {
   "cell_type": "markdown",
   "metadata": {
    "pycharm": {
     "name": "#%% md\n"
    }
   },
   "source": [
    "To simplify our data processing, we can combine these two data frames into a single\n",
    "data frame. Since the test data frame is missing the 'Survived' column, we'll fill \n",
    "this in with `np.nan`, so we can remember which rows are test data and which are \n",
    "training data later on."
   ]
  },
  {
   "cell_type": "code",
   "execution_count": 733,
   "metadata": {
    "pycharm": {
     "is_executing": false,
     "name": "#%%\n"
    }
   },
   "outputs": [],
   "source": [
    "test_df['Survived'] = np.nan\n",
    "df = train_df.append(test_df, sort=False, ignore_index=True)"
   ]
  },
  {
   "cell_type": "markdown",
   "metadata": {
    "pycharm": {
     "name": "#%% md\n"
    }
   },
   "source": [
    "With that out of the way, let's start looking at the actual contents of our data and \n",
    "put it into a form that'll best suited for training our classifier.\n",
    "\n",
    "# Clean-up Time \n",
    "\n",
    "Now that we've loaded our data, we need to clean it up. Let's take a look at what we're \n",
    "dealing with first:"
   ]
  },
  {
   "cell_type": "code",
   "execution_count": 734,
   "metadata": {
    "pycharm": {
     "is_executing": false,
     "name": "#%%\n"
    }
   },
   "outputs": [
    {
     "data": {
      "text/plain": [
       "PassengerId      int64\n",
       "Survived       float64\n",
       "Pclass           int64\n",
       "Name            object\n",
       "Sex             object\n",
       "Age            float64\n",
       "SibSp            int64\n",
       "Parch            int64\n",
       "Ticket          object\n",
       "Fare           float64\n",
       "Cabin           object\n",
       "Embarked        object\n",
       "dtype: object"
      ]
     },
     "execution_count": 734,
     "metadata": {},
     "output_type": "execute_result"
    }
   ],
   "source": [
    "df.dtypes"
   ]
  },
  {
   "cell_type": "code",
   "execution_count": 735,
   "metadata": {
    "pycharm": {
     "is_executing": false,
     "name": "#%%\n"
    }
   },
   "outputs": [
    {
     "data": {
      "text/html": [
       "<div>\n",
       "<style scoped>\n",
       "    .dataframe tbody tr th:only-of-type {\n",
       "        vertical-align: middle;\n",
       "    }\n",
       "\n",
       "    .dataframe tbody tr th {\n",
       "        vertical-align: top;\n",
       "    }\n",
       "\n",
       "    .dataframe thead th {\n",
       "        text-align: right;\n",
       "    }\n",
       "</style>\n",
       "<table border=\"1\" class=\"dataframe\">\n",
       "  <thead>\n",
       "    <tr style=\"text-align: right;\">\n",
       "      <th></th>\n",
       "      <th>PassengerId</th>\n",
       "      <th>Survived</th>\n",
       "      <th>Pclass</th>\n",
       "      <th>Name</th>\n",
       "      <th>Sex</th>\n",
       "      <th>Age</th>\n",
       "      <th>SibSp</th>\n",
       "      <th>Parch</th>\n",
       "      <th>Ticket</th>\n",
       "      <th>Fare</th>\n",
       "      <th>Cabin</th>\n",
       "      <th>Embarked</th>\n",
       "    </tr>\n",
       "  </thead>\n",
       "  <tbody>\n",
       "    <tr>\n",
       "      <th>27</th>\n",
       "      <td>28</td>\n",
       "      <td>0.0</td>\n",
       "      <td>1</td>\n",
       "      <td>Fortune, Mr. Charles Alexander</td>\n",
       "      <td>male</td>\n",
       "      <td>19.0</td>\n",
       "      <td>3</td>\n",
       "      <td>2</td>\n",
       "      <td>19950</td>\n",
       "      <td>263.000</td>\n",
       "      <td>C23 C25 C27</td>\n",
       "      <td>S</td>\n",
       "    </tr>\n",
       "    <tr>\n",
       "      <th>813</th>\n",
       "      <td>814</td>\n",
       "      <td>0.0</td>\n",
       "      <td>3</td>\n",
       "      <td>Andersson, Miss. Ebba Iris Alfrida</td>\n",
       "      <td>female</td>\n",
       "      <td>6.0</td>\n",
       "      <td>4</td>\n",
       "      <td>2</td>\n",
       "      <td>347082</td>\n",
       "      <td>31.275</td>\n",
       "      <td>NaN</td>\n",
       "      <td>S</td>\n",
       "    </tr>\n",
       "    <tr>\n",
       "      <th>554</th>\n",
       "      <td>555</td>\n",
       "      <td>1.0</td>\n",
       "      <td>3</td>\n",
       "      <td>Ohman, Miss. Velin</td>\n",
       "      <td>female</td>\n",
       "      <td>22.0</td>\n",
       "      <td>0</td>\n",
       "      <td>0</td>\n",
       "      <td>347085</td>\n",
       "      <td>7.775</td>\n",
       "      <td>NaN</td>\n",
       "      <td>S</td>\n",
       "    </tr>\n",
       "    <tr>\n",
       "      <th>888</th>\n",
       "      <td>889</td>\n",
       "      <td>0.0</td>\n",
       "      <td>3</td>\n",
       "      <td>Johnston, Miss. Catherine Helen \"Carrie\"</td>\n",
       "      <td>female</td>\n",
       "      <td>NaN</td>\n",
       "      <td>1</td>\n",
       "      <td>2</td>\n",
       "      <td>W./C. 6607</td>\n",
       "      <td>23.450</td>\n",
       "      <td>NaN</td>\n",
       "      <td>S</td>\n",
       "    </tr>\n",
       "    <tr>\n",
       "      <th>292</th>\n",
       "      <td>293</td>\n",
       "      <td>0.0</td>\n",
       "      <td>2</td>\n",
       "      <td>Levy, Mr. Rene Jacques</td>\n",
       "      <td>male</td>\n",
       "      <td>36.0</td>\n",
       "      <td>0</td>\n",
       "      <td>0</td>\n",
       "      <td>SC/Paris 2163</td>\n",
       "      <td>12.875</td>\n",
       "      <td>D</td>\n",
       "      <td>C</td>\n",
       "    </tr>\n",
       "  </tbody>\n",
       "</table>\n",
       "</div>"
      ],
      "text/plain": [
       "     PassengerId  Survived  Pclass                                      Name  \\\n",
       "27            28       0.0       1            Fortune, Mr. Charles Alexander   \n",
       "813          814       0.0       3        Andersson, Miss. Ebba Iris Alfrida   \n",
       "554          555       1.0       3                        Ohman, Miss. Velin   \n",
       "888          889       0.0       3  Johnston, Miss. Catherine Helen \"Carrie\"   \n",
       "292          293       0.0       2                    Levy, Mr. Rene Jacques   \n",
       "\n",
       "        Sex   Age  SibSp  Parch         Ticket     Fare        Cabin Embarked  \n",
       "27     male  19.0      3      2          19950  263.000  C23 C25 C27        S  \n",
       "813  female   6.0      4      2         347082   31.275          NaN        S  \n",
       "554  female  22.0      0      0         347085    7.775          NaN        S  \n",
       "888  female   NaN      1      2     W./C. 6607   23.450          NaN        S  \n",
       "292    male  36.0      0      0  SC/Paris 2163   12.875            D        C  "
      ]
     },
     "execution_count": 735,
     "metadata": {},
     "output_type": "execute_result"
    }
   ],
   "source": [
    "df.sample(5)"
   ]
  },
  {
   "cell_type": "markdown",
   "metadata": {
    "pycharm": {
     "name": "#%% md\n"
    }
   },
   "source": [
    "If we want to look for linear or binary relationships between \n",
    "our data and the survived value of each passenger, we need to convert this human-readable \n",
    "data into something that's more easy for a machine to understand: numbers!\n",
    "\n",
    "Let's go through this column-by-column, explaining the process for each new case as \n",
    "we come across it.\n",
    "\n",
    "# Sex\n",
    "The 'Sex' column is a great place to start because of its simplicity. There are only \n",
    "two cases to worry about, 'male' and 'female', and there isn't any missing data. So all \n",
    "we need to do is map these strings to a binary case for a classifier algorithm to understand.\n",
    "\n",
    "Let's use the mapping `{0: 'female', 1: 'male'}`:"
   ]
  },
  {
   "cell_type": "code",
   "execution_count": 736,
   "metadata": {
    "pycharm": {
     "is_executing": false,
     "name": "#%%\n"
    }
   },
   "outputs": [
    {
     "data": {
      "text/plain": [
       "0    1\n",
       "1    0\n",
       "2    0\n",
       "Name: Sex, dtype: int64"
      ]
     },
     "execution_count": 736,
     "metadata": {},
     "output_type": "execute_result"
    }
   ],
   "source": [
    "mapping = {\n",
    "    'female': 0,\n",
    "    'male': 1\n",
    "}\n",
    "df['Sex'] = df['Sex'].apply(lambda x: mapping[x])\n",
    "df['Sex'][:3]"
   ]
  },
  {
   "cell_type": "markdown",
   "metadata": {
    "pycharm": {
     "name": "#%% md\n"
    }
   },
   "source": [
    "With just one step, we have our first binary column! Simple enough. Now onto the next one...\n",
    "\n",
    "# Age\n",
    "The 'Age' column is already in a nice numeric form, but let's take a look into how well \n",
    "it actually corresponds to whether a passenger survived in its current state."
   ]
  },
  {
   "cell_type": "code",
   "execution_count": 737,
   "metadata": {
    "pycharm": {
     "is_executing": false,
     "name": "#%%\n"
    }
   },
   "outputs": [
    {
     "data": {
      "text/plain": [
       "263"
      ]
     },
     "execution_count": 737,
     "metadata": {},
     "output_type": "execute_result"
    }
   ],
   "source": [
    "pd.isna(df['Age']).sum()"
   ]
  },
  {
   "cell_type": "markdown",
   "metadata": {
    "pycharm": {
     "name": "#%% md\n"
    }
   },
   "source": [
    "Looks like we have some NA values! Considering that age is a nice continuous value, let's just assign\n",
    "the median age to each missing value."
   ]
  },
  {
   "cell_type": "code",
   "execution_count": 738,
   "metadata": {
    "pycharm": {
     "is_executing": false,
     "name": "#%%\n"
    }
   },
   "outputs": [],
   "source": [
    "med_age = np.median(df['Age'][~pd.isna(df['Age'])])\n",
    "df['Age'] = df['Age'].fillna(med_age)\n"
   ]
  },
  {
   "cell_type": "markdown",
   "metadata": {
    "pycharm": {
     "name": "#%% md\n"
    }
   },
   "source": [
    "Now that we have only real values, let's look at the correspondence between age and survival:"
   ]
  },
  {
   "cell_type": "code",
   "execution_count": 739,
   "metadata": {
    "pycharm": {
     "is_executing": false,
     "name": "#%%\n"
    }
   },
   "outputs": [
    {
     "data": {
      "text/html": [
       "<div>\n",
       "<style scoped>\n",
       "    .dataframe tbody tr th:only-of-type {\n",
       "        vertical-align: middle;\n",
       "    }\n",
       "\n",
       "    .dataframe tbody tr th {\n",
       "        vertical-align: top;\n",
       "    }\n",
       "\n",
       "    .dataframe thead th {\n",
       "        text-align: right;\n",
       "    }\n",
       "</style>\n",
       "<table border=\"1\" class=\"dataframe\">\n",
       "  <thead>\n",
       "    <tr style=\"text-align: right;\">\n",
       "      <th></th>\n",
       "      <th>Survived</th>\n",
       "      <th>Age</th>\n",
       "    </tr>\n",
       "  </thead>\n",
       "  <tbody>\n",
       "    <tr>\n",
       "      <th>Survived</th>\n",
       "      <td>1.00000</td>\n",
       "      <td>-0.06491</td>\n",
       "    </tr>\n",
       "    <tr>\n",
       "      <th>Age</th>\n",
       "      <td>-0.06491</td>\n",
       "      <td>1.00000</td>\n",
       "    </tr>\n",
       "  </tbody>\n",
       "</table>\n",
       "</div>"
      ],
      "text/plain": [
       "          Survived      Age\n",
       "Survived   1.00000 -0.06491\n",
       "Age       -0.06491  1.00000"
      ]
     },
     "execution_count": 739,
     "metadata": {},
     "output_type": "execute_result"
    }
   ],
   "source": [
    "df[['Survived', 'Age']].corr()"
   ]
  },
  {
   "cell_type": "markdown",
   "metadata": {
    "pycharm": {
     "name": "#%% md\n"
    }
   },
   "source": [
    "Quick refresher on correspondence: this value ranges between -1 and +1. \n",
    "\n",
    "A correspondence of 1 means two sets are strongly linearly \n",
    "correlated. Ideally, with a correspondence of 1, you could apply a simple formula of the form \n",
    "`y = mx + b` to map from one set to the other, with `m` being positive.\n",
    "\n",
    "A correspondence of -1 means the two sets are strongly linearly correlated as well, just ini the negative \n",
    "direction. You can still apply the mapping `y = mx + b`, but now you'd have a negative `m`.\n",
    "\n",
    "A correspondence of 0 means that the two sets you're looking at have no similarity. There exists no mapping \n",
    "from one set to the other.\n",
    "\n",
    "Back to our data! Seeing that the correspondence between age and survival is nearly zero, we need to \n",
    "see if there's anything we can do to actually compare the two columns! One popular method \n",
    "of identifying nonlinear correspondence is by binning, or making bins of ages, so we have a bin filled with \n",
    "our 0-10 year old passengers, our 11-20 year old passengers, and so on and so forth."
   ]
  },
  {
   "cell_type": "code",
   "execution_count": 740,
   "metadata": {
    "pycharm": {
     "is_executing": false,
     "name": "#%%\n"
    }
   },
   "outputs": [
    {
     "data": {
      "text/html": [
       "<div>\n",
       "<style scoped>\n",
       "    .dataframe tbody tr th:only-of-type {\n",
       "        vertical-align: middle;\n",
       "    }\n",
       "\n",
       "    .dataframe tbody tr th {\n",
       "        vertical-align: top;\n",
       "    }\n",
       "\n",
       "    .dataframe thead th {\n",
       "        text-align: right;\n",
       "    }\n",
       "</style>\n",
       "<table border=\"1\" class=\"dataframe\">\n",
       "  <thead>\n",
       "    <tr style=\"text-align: right;\">\n",
       "      <th></th>\n",
       "      <th>PassengerId</th>\n",
       "      <th>Survived</th>\n",
       "      <th>Age_bin</th>\n",
       "    </tr>\n",
       "  </thead>\n",
       "  <tbody>\n",
       "    <tr>\n",
       "      <th>0</th>\n",
       "      <td>1</td>\n",
       "      <td>0.0</td>\n",
       "      <td>2</td>\n",
       "    </tr>\n",
       "    <tr>\n",
       "      <th>1</th>\n",
       "      <td>2</td>\n",
       "      <td>1.0</td>\n",
       "      <td>3</td>\n",
       "    </tr>\n",
       "    <tr>\n",
       "      <th>2</th>\n",
       "      <td>3</td>\n",
       "      <td>1.0</td>\n",
       "      <td>2</td>\n",
       "    </tr>\n",
       "    <tr>\n",
       "      <th>3</th>\n",
       "      <td>4</td>\n",
       "      <td>1.0</td>\n",
       "      <td>3</td>\n",
       "    </tr>\n",
       "    <tr>\n",
       "      <th>4</th>\n",
       "      <td>5</td>\n",
       "      <td>0.0</td>\n",
       "      <td>3</td>\n",
       "    </tr>\n",
       "    <tr>\n",
       "      <th>5</th>\n",
       "      <td>6</td>\n",
       "      <td>0.0</td>\n",
       "      <td>2</td>\n",
       "    </tr>\n",
       "    <tr>\n",
       "      <th>6</th>\n",
       "      <td>7</td>\n",
       "      <td>0.0</td>\n",
       "      <td>5</td>\n",
       "    </tr>\n",
       "    <tr>\n",
       "      <th>7</th>\n",
       "      <td>8</td>\n",
       "      <td>0.0</td>\n",
       "      <td>0</td>\n",
       "    </tr>\n",
       "    <tr>\n",
       "      <th>8</th>\n",
       "      <td>9</td>\n",
       "      <td>1.0</td>\n",
       "      <td>2</td>\n",
       "    </tr>\n",
       "    <tr>\n",
       "      <th>9</th>\n",
       "      <td>10</td>\n",
       "      <td>1.0</td>\n",
       "      <td>1</td>\n",
       "    </tr>\n",
       "  </tbody>\n",
       "</table>\n",
       "</div>"
      ],
      "text/plain": [
       "   PassengerId  Survived  Age_bin\n",
       "0            1       0.0        2\n",
       "1            2       1.0        3\n",
       "2            3       1.0        2\n",
       "3            4       1.0        3\n",
       "4            5       0.0        3\n",
       "5            6       0.0        2\n",
       "6            7       0.0        5\n",
       "7            8       0.0        0\n",
       "8            9       1.0        2\n",
       "9           10       1.0        1"
      ]
     },
     "execution_count": 740,
     "metadata": {},
     "output_type": "execute_result"
    }
   ],
   "source": [
    "bin_space = 10\n",
    "bin_walls = range(0, 100, bin_space)\n",
    "bin_intervals = [pd.Interval(low, low + bin_space) for low in bin_walls]\n",
    "bins = pd.IntervalIndex(bin_intervals)\n",
    "\n",
    "age_bin_mapping = {}\n",
    "for i, b in enumerate(bins):\n",
    "    age_bin_mapping[b] = i\n",
    "\n",
    "age_bins = pd.cut(df['Age'], bins=bins)\n",
    "df['Age_bin'] = age_bins.apply(lambda x: age_bin_mapping[x]).astype(int)\n",
    "\n",
    "df[['PassengerId', 'Survived', 'Age_bin']][:10]"
   ]
  },
  {
   "cell_type": "markdown",
   "metadata": {
    "pycharm": {
     "name": "#%% md\n"
    }
   },
   "source": [
    "Now we have all of our passengers assigned to bins! Let's see what the correspondence is for this..."
   ]
  },
  {
   "cell_type": "code",
   "execution_count": 741,
   "metadata": {
    "pycharm": {
     "is_executing": false,
     "name": "#%%\n"
    }
   },
   "outputs": [
    {
     "data": {
      "text/html": [
       "<div>\n",
       "<style scoped>\n",
       "    .dataframe tbody tr th:only-of-type {\n",
       "        vertical-align: middle;\n",
       "    }\n",
       "\n",
       "    .dataframe tbody tr th {\n",
       "        vertical-align: top;\n",
       "    }\n",
       "\n",
       "    .dataframe thead th {\n",
       "        text-align: right;\n",
       "    }\n",
       "</style>\n",
       "<table border=\"1\" class=\"dataframe\">\n",
       "  <thead>\n",
       "    <tr style=\"text-align: right;\">\n",
       "      <th></th>\n",
       "      <th>Survived</th>\n",
       "      <th>Age_bin</th>\n",
       "    </tr>\n",
       "  </thead>\n",
       "  <tbody>\n",
       "    <tr>\n",
       "      <th>Survived</th>\n",
       "      <td>1.000000</td>\n",
       "      <td>-0.051406</td>\n",
       "    </tr>\n",
       "    <tr>\n",
       "      <th>Age_bin</th>\n",
       "      <td>-0.051406</td>\n",
       "      <td>1.000000</td>\n",
       "    </tr>\n",
       "  </tbody>\n",
       "</table>\n",
       "</div>"
      ],
      "text/plain": [
       "          Survived   Age_bin\n",
       "Survived  1.000000 -0.051406\n",
       "Age_bin  -0.051406  1.000000"
      ]
     },
     "execution_count": 741,
     "metadata": {},
     "output_type": "execute_result"
    }
   ],
   "source": [
    "df[['Survived', 'Age_bin']].corr()"
   ]
  },
  {
   "cell_type": "markdown",
   "metadata": {
    "pycharm": {
     "name": "#%% md\n"
    }
   },
   "source": [
    "As expected, the age bins linearly correspond with survival just as little as the raw age did.\n",
    "There might be a strong correspondence hiding here still, so let's look at the survival rate for each bin:"
   ]
  },
  {
   "cell_type": "code",
   "execution_count": 742,
   "metadata": {
    "pycharm": {
     "is_executing": false,
     "name": "#%%\n"
    }
   },
   "outputs": [
    {
     "name": "stdout",
     "output_type": "stream",
     "text": [
      "Bin 0 survival rate: 0.59\n",
      "Bin 1 survival rate: 0.38\n",
      "Bin 2 survival rate: 0.33\n",
      "Bin 3 survival rate: 0.45\n",
      "Bin 4 survival rate: 0.38\n",
      "Bin 5 survival rate: 0.4\n",
      "Bin 6 survival rate: 0.24\n",
      "Bin 7 survival rate: 0.2\n"
     ]
    }
   ],
   "source": [
    "for bin_ind in age_bin_mapping.values():\n",
    "    df_bin = df[df['Age_bin'] == bin_ind]\n",
    "    if len(df_bin) == 0:\n",
    "        continue\n",
    "    print(\"Bin {} survival rate: {:.2g}\".format(\n",
    "        bin_ind, \n",
    "        len(df_bin[df_bin['Survived'] == 1]) / len(df_bin[~pd.isna(df_bin['Survived'])])\n",
    "    ))\n",
    "    "
   ]
  },
  {
   "cell_type": "markdown",
   "metadata": {
    "pycharm": {
     "name": "#%% md\n"
    }
   },
   "source": [
    "Looking at this breakdown, there's definitely some sort of trend. Bin 0 had a much higher \n",
    "rate of survival than the others, while bins 6 and 7 had much lower rates of survival. In \n",
    "order to extract this in a more machine-readable way, we're going to expand this categorical \n",
    " column into a set of columns, one for each bin, with the value `1` if the row belongs to \n",
    " the bin and `0` otherwise."
   ]
  },
  {
   "cell_type": "code",
   "execution_count": 743,
   "metadata": {
    "pycharm": {
     "is_executing": false,
     "name": "#%%\n"
    }
   },
   "outputs": [
    {
     "data": {
      "text/html": [
       "<div>\n",
       "<style scoped>\n",
       "    .dataframe tbody tr th:only-of-type {\n",
       "        vertical-align: middle;\n",
       "    }\n",
       "\n",
       "    .dataframe tbody tr th {\n",
       "        vertical-align: top;\n",
       "    }\n",
       "\n",
       "    .dataframe thead th {\n",
       "        text-align: right;\n",
       "    }\n",
       "</style>\n",
       "<table border=\"1\" class=\"dataframe\">\n",
       "  <thead>\n",
       "    <tr style=\"text-align: right;\">\n",
       "      <th></th>\n",
       "      <th>PassengerId</th>\n",
       "      <th>Survived</th>\n",
       "      <th>Pclass</th>\n",
       "      <th>Name</th>\n",
       "      <th>Sex</th>\n",
       "      <th>Age</th>\n",
       "      <th>SibSp</th>\n",
       "      <th>Parch</th>\n",
       "      <th>Ticket</th>\n",
       "      <th>Fare</th>\n",
       "      <th>...</th>\n",
       "      <th>Embarked</th>\n",
       "      <th>Age_bin</th>\n",
       "      <th>Age_bin_0</th>\n",
       "      <th>Age_bin_1</th>\n",
       "      <th>Age_bin_2</th>\n",
       "      <th>Age_bin_3</th>\n",
       "      <th>Age_bin_4</th>\n",
       "      <th>Age_bin_5</th>\n",
       "      <th>Age_bin_6</th>\n",
       "      <th>Age_bin_7</th>\n",
       "    </tr>\n",
       "  </thead>\n",
       "  <tbody>\n",
       "    <tr>\n",
       "      <th>0</th>\n",
       "      <td>1</td>\n",
       "      <td>0.0</td>\n",
       "      <td>3</td>\n",
       "      <td>Braund, Mr. Owen Harris</td>\n",
       "      <td>1</td>\n",
       "      <td>22.0</td>\n",
       "      <td>1</td>\n",
       "      <td>0</td>\n",
       "      <td>A/5 21171</td>\n",
       "      <td>7.2500</td>\n",
       "      <td>...</td>\n",
       "      <td>S</td>\n",
       "      <td>2</td>\n",
       "      <td>0</td>\n",
       "      <td>0</td>\n",
       "      <td>1</td>\n",
       "      <td>0</td>\n",
       "      <td>0</td>\n",
       "      <td>0</td>\n",
       "      <td>0</td>\n",
       "      <td>0</td>\n",
       "    </tr>\n",
       "    <tr>\n",
       "      <th>1</th>\n",
       "      <td>2</td>\n",
       "      <td>1.0</td>\n",
       "      <td>1</td>\n",
       "      <td>Cumings, Mrs. John Bradley (Florence Briggs Th...</td>\n",
       "      <td>0</td>\n",
       "      <td>38.0</td>\n",
       "      <td>1</td>\n",
       "      <td>0</td>\n",
       "      <td>PC 17599</td>\n",
       "      <td>71.2833</td>\n",
       "      <td>...</td>\n",
       "      <td>C</td>\n",
       "      <td>3</td>\n",
       "      <td>0</td>\n",
       "      <td>0</td>\n",
       "      <td>0</td>\n",
       "      <td>1</td>\n",
       "      <td>0</td>\n",
       "      <td>0</td>\n",
       "      <td>0</td>\n",
       "      <td>0</td>\n",
       "    </tr>\n",
       "    <tr>\n",
       "      <th>2</th>\n",
       "      <td>3</td>\n",
       "      <td>1.0</td>\n",
       "      <td>3</td>\n",
       "      <td>Heikkinen, Miss. Laina</td>\n",
       "      <td>0</td>\n",
       "      <td>26.0</td>\n",
       "      <td>0</td>\n",
       "      <td>0</td>\n",
       "      <td>STON/O2. 3101282</td>\n",
       "      <td>7.9250</td>\n",
       "      <td>...</td>\n",
       "      <td>S</td>\n",
       "      <td>2</td>\n",
       "      <td>0</td>\n",
       "      <td>0</td>\n",
       "      <td>1</td>\n",
       "      <td>0</td>\n",
       "      <td>0</td>\n",
       "      <td>0</td>\n",
       "      <td>0</td>\n",
       "      <td>0</td>\n",
       "    </tr>\n",
       "  </tbody>\n",
       "</table>\n",
       "<p>3 rows × 21 columns</p>\n",
       "</div>"
      ],
      "text/plain": [
       "   PassengerId  Survived  Pclass  \\\n",
       "0            1       0.0       3   \n",
       "1            2       1.0       1   \n",
       "2            3       1.0       3   \n",
       "\n",
       "                                                Name  Sex   Age  SibSp  Parch  \\\n",
       "0                            Braund, Mr. Owen Harris    1  22.0      1      0   \n",
       "1  Cumings, Mrs. John Bradley (Florence Briggs Th...    0  38.0      1      0   \n",
       "2                             Heikkinen, Miss. Laina    0  26.0      0      0   \n",
       "\n",
       "             Ticket     Fare  ... Embarked Age_bin  Age_bin_0  Age_bin_1  \\\n",
       "0         A/5 21171   7.2500  ...        S       2          0          0   \n",
       "1          PC 17599  71.2833  ...        C       3          0          0   \n",
       "2  STON/O2. 3101282   7.9250  ...        S       2          0          0   \n",
       "\n",
       "   Age_bin_2  Age_bin_3  Age_bin_4  Age_bin_5  Age_bin_6  Age_bin_7  \n",
       "0          1          0          0          0          0          0  \n",
       "1          0          1          0          0          0          0  \n",
       "2          1          0          0          0          0          0  \n",
       "\n",
       "[3 rows x 21 columns]"
      ]
     },
     "execution_count": 743,
     "metadata": {},
     "output_type": "execute_result"
    }
   ],
   "source": [
    "age_bins = pd.get_dummies(df['Age_bin']).add_prefix('Age_bin_')\n",
    "df = df.merge(age_bins, how='left', left_index=True, right_index=True, validate='1:1')\n",
    "df[:3]"
   ]
  },
  {
   "cell_type": "markdown",
   "metadata": {
    "pycharm": {
     "name": "#%% md\n"
    }
   },
   "source": [
    "Now we have a DataFrame with 8 extra columns, one for each age bin that we had created earlier.\n",
    "Since we've coded the age column into this new form, we can drop the old columns so we \n",
    "don't try to train on different representations of the same data."
   ]
  },
  {
   "cell_type": "code",
   "execution_count": 744,
   "metadata": {
    "pycharm": {
     "is_executing": false,
     "name": "#%%\n"
    }
   },
   "outputs": [],
   "source": [
    "df = df.drop(columns=['Age', 'Age_bin'])"
   ]
  },
  {
   "cell_type": "markdown",
   "metadata": {
    "pycharm": {
     "name": "#%% md\n"
    }
   },
   "source": [
    "# Pclass (Ticket class)\n",
    "Now that we've finished cleaning up the age data, let's move on to `Pclass`. First, we should look at its\n",
    "correspondence to see if it's already good or not."
   ]
  },
  {
   "cell_type": "code",
   "execution_count": 745,
   "metadata": {
    "pycharm": {
     "is_executing": false,
     "name": "#%%\n"
    }
   },
   "outputs": [
    {
     "data": {
      "text/html": [
       "<div>\n",
       "<style scoped>\n",
       "    .dataframe tbody tr th:only-of-type {\n",
       "        vertical-align: middle;\n",
       "    }\n",
       "\n",
       "    .dataframe tbody tr th {\n",
       "        vertical-align: top;\n",
       "    }\n",
       "\n",
       "    .dataframe thead th {\n",
       "        text-align: right;\n",
       "    }\n",
       "</style>\n",
       "<table border=\"1\" class=\"dataframe\">\n",
       "  <thead>\n",
       "    <tr style=\"text-align: right;\">\n",
       "      <th></th>\n",
       "      <th>Survived</th>\n",
       "      <th>Pclass</th>\n",
       "    </tr>\n",
       "  </thead>\n",
       "  <tbody>\n",
       "    <tr>\n",
       "      <th>Survived</th>\n",
       "      <td>1.000000</td>\n",
       "      <td>-0.338481</td>\n",
       "    </tr>\n",
       "    <tr>\n",
       "      <th>Pclass</th>\n",
       "      <td>-0.338481</td>\n",
       "      <td>1.000000</td>\n",
       "    </tr>\n",
       "  </tbody>\n",
       "</table>\n",
       "</div>"
      ],
      "text/plain": [
       "          Survived    Pclass\n",
       "Survived  1.000000 -0.338481\n",
       "Pclass   -0.338481  1.000000"
      ]
     },
     "execution_count": 745,
     "metadata": {},
     "output_type": "execute_result"
    }
   ],
   "source": [
    "df[['Survived', 'Pclass']].corr()"
   ]
  },
  {
   "cell_type": "markdown",
   "metadata": {
    "pycharm": {
     "name": "#%% md\n"
    }
   },
   "source": [
    "A correspondence of -0.3 is actually fairly strong, compared to our previous examinations\n",
    "of the age bins. We can break this value down further to see if there are any individual \n",
    "ticket classes that show strong individual correspondences with the survival rate."
   ]
  },
  {
   "cell_type": "code",
   "execution_count": 746,
   "metadata": {
    "pycharm": {
     "is_executing": false,
     "name": "#%%\n"
    }
   },
   "outputs": [
    {
     "name": "stdout",
     "output_type": "stream",
     "text": [
      "Passenger class 1: 0.63\n",
      "Passenger class 2: 0.47\n",
      "Passenger class 3: 0.24\n"
     ]
    }
   ],
   "source": [
    "p_classes = sorted(df['Pclass'].unique())\n",
    "for p_class in p_classes:\n",
    "    df_class = df[df['Pclass'] == p_class]\n",
    "    survival = len(df_class[df_class['Survived'] == 1]) / len(df_class[~pd.isna(df_class['Survived'])])\n",
    "    print(\"Passenger class {}: {:.2g}\".format(p_class, survival))"
   ]
  },
  {
   "cell_type": "markdown",
   "metadata": {
    "pycharm": {
     "name": "#%% md\n"
    }
   },
   "source": [
    "With these survival rates, it looks like there is a pretty nice linear relationship in the \n",
    "data already, so we'll leave the Pclass column as-is.\n",
    "\n",
    "And just to be safe, we should check to make sure that there aren't any missing data\n",
    "from this column."
   ]
  },
  {
   "cell_type": "code",
   "execution_count": 747,
   "metadata": {
    "pycharm": {
     "is_executing": false,
     "name": "#%%\n"
    }
   },
   "outputs": [
    {
     "data": {
      "text/plain": [
       "0"
      ]
     },
     "execution_count": 747,
     "metadata": {},
     "output_type": "execute_result"
    }
   ],
   "source": [
    "len(df[pd.isna(df['Pclass'])])"
   ]
  },
  {
   "cell_type": "markdown",
   "metadata": {
    "pycharm": {
     "name": "#%% md\n"
    }
   },
   "source": [
    "No missing values, good! Now we can move on to the next column to analyze.\n",
    "\n",
    "# SibSP (Siblings and spouses)\n",
    "\n",
    "Now we'll look at the column 'SibSp', the number of siblings and spouses each passenger had. As always, let's first take a look at the linear correspondence."
   ]
  },
  {
   "cell_type": "code",
   "execution_count": 748,
   "metadata": {},
   "outputs": [
    {
     "data": {
      "text/html": [
       "<div>\n",
       "<style scoped>\n",
       "    .dataframe tbody tr th:only-of-type {\n",
       "        vertical-align: middle;\n",
       "    }\n",
       "\n",
       "    .dataframe tbody tr th {\n",
       "        vertical-align: top;\n",
       "    }\n",
       "\n",
       "    .dataframe thead th {\n",
       "        text-align: right;\n",
       "    }\n",
       "</style>\n",
       "<table border=\"1\" class=\"dataframe\">\n",
       "  <thead>\n",
       "    <tr style=\"text-align: right;\">\n",
       "      <th></th>\n",
       "      <th>Survived</th>\n",
       "      <th>SibSp</th>\n",
       "    </tr>\n",
       "  </thead>\n",
       "  <tbody>\n",
       "    <tr>\n",
       "      <th>Survived</th>\n",
       "      <td>1.000000</td>\n",
       "      <td>-0.035322</td>\n",
       "    </tr>\n",
       "    <tr>\n",
       "      <th>SibSp</th>\n",
       "      <td>-0.035322</td>\n",
       "      <td>1.000000</td>\n",
       "    </tr>\n",
       "  </tbody>\n",
       "</table>\n",
       "</div>"
      ],
      "text/plain": [
       "          Survived     SibSp\n",
       "Survived  1.000000 -0.035322\n",
       "SibSp    -0.035322  1.000000"
      ]
     },
     "execution_count": 748,
     "metadata": {},
     "output_type": "execute_result"
    }
   ],
   "source": [
    "df[['Survived', 'SibSp']].corr()"
   ]
  },
  {
   "cell_type": "markdown",
   "metadata": {},
   "source": [
    "Looks like there's essentially no correspondece here, so we need to dissect these values a bit to see if there's anything more to learn."
   ]
  },
  {
   "cell_type": "code",
   "execution_count": 749,
   "metadata": {},
   "outputs": [
    {
     "name": "stdout",
     "output_type": "stream",
     "text": [
      "Survival rates:\n",
      "0 siblings/spouses: 0.24 \t(population: 608)\n",
      "1 siblings/spouses: 0.35 \t(population: 209)\n",
      "2 siblings/spouses: 0.31 \t(population: 28)\n",
      "3 siblings/spouses: 0.2 \t(population: 16)\n",
      "4 siblings/spouses: 0.14 \t(population: 18)\n",
      "5 siblings/spouses: 0 \t(population: 5)\n",
      "8 siblings/spouses: 0 \t(population: 7)\n"
     ]
    }
   ],
   "source": [
    "sib_nums = sorted(df['SibSp'].unique())\n",
    "\n",
    "print(\"Survival rates:\")\n",
    "for s in sib_nums:\n",
    "    df_s = df[df['SibSp'] == s]\n",
    "    survival = len(df_s[df_s['Survived'] == 1]) / len(df_s)\n",
    "    print(\"{} siblings/spouses: {:.2g} \\t(population: {})\".format(s, survival, len(df_s[~pd.isna(df_s['Survived'])])))"
   ]
  },
  {
   "cell_type": "markdown",
   "metadata": {},
   "source": [
    "It seems like there's a line that can be drawn around a 'SibSp' value of 4-5. Families with many siblings or spouses didn't seem to have any survivability, so that'll make for a strong feature in our classifier. Let's make a new binary column for 'LargeSibSp' to track this feature."
   ]
  },
  {
   "cell_type": "code",
   "execution_count": 750,
   "metadata": {},
   "outputs": [
    {
     "name": "stdout",
     "output_type": "stream",
     "text": [
      "Survival for large SibSp: 0.0\n",
      "Survival for small SibSp: 0.3890784982935154\n"
     ]
    }
   ],
   "source": [
    "largeSibSpCutOff = 4\n",
    "df['LargeSibSp'] = df['SibSp'] > largeSibSpCutOff\n",
    "\n",
    "df_l = df[df['LargeSibSp'] == True]\n",
    "df_s = df[df['LargeSibSp'] == False]\n",
    "print(\"Survival for large SibSp: {}\".format(len(df_l[df_l['Survived'] == 1]) / len(df_l[~pd.isna(df_l['Survived'])])))\n",
    "print(\"Survival for small SibSp: {}\".format(len(df_s[df_s['Survived'] == 1]) / len(df_s[~pd.isna(df_s['Survived'])])))"
   ]
  },
  {
   "cell_type": "markdown",
   "metadata": {},
   "source": [
    "Now, before moving on to the next feature, let's check for, and clean up, any missing values."
   ]
  },
  {
   "cell_type": "code",
   "execution_count": 751,
   "metadata": {},
   "outputs": [
    {
     "data": {
      "text/plain": [
       "0"
      ]
     },
     "execution_count": 751,
     "metadata": {},
     "output_type": "execute_result"
    }
   ],
   "source": [
    "len(df[pd.isna(df['SibSp'])])"
   ]
  },
  {
   "cell_type": "markdown",
   "metadata": {
    "pycharm": {
     "name": "#%% md\n"
    }
   },
   "source": [
    "# Parch (Parents and children)\n",
    "\n",
    "The number of parents and children seems like a very similar mesaurement to the number of siblings and spouses. We should keep that in mind and come back to that later. For now though, we'll look at this feature on its own."
   ]
  },
  {
   "cell_type": "code",
   "execution_count": 752,
   "metadata": {},
   "outputs": [
    {
     "data": {
      "text/html": [
       "<div>\n",
       "<style scoped>\n",
       "    .dataframe tbody tr th:only-of-type {\n",
       "        vertical-align: middle;\n",
       "    }\n",
       "\n",
       "    .dataframe tbody tr th {\n",
       "        vertical-align: top;\n",
       "    }\n",
       "\n",
       "    .dataframe thead th {\n",
       "        text-align: right;\n",
       "    }\n",
       "</style>\n",
       "<table border=\"1\" class=\"dataframe\">\n",
       "  <thead>\n",
       "    <tr style=\"text-align: right;\">\n",
       "      <th></th>\n",
       "      <th>Survived</th>\n",
       "      <th>Parch</th>\n",
       "    </tr>\n",
       "  </thead>\n",
       "  <tbody>\n",
       "    <tr>\n",
       "      <th>Survived</th>\n",
       "      <td>1.000000</td>\n",
       "      <td>0.081629</td>\n",
       "    </tr>\n",
       "    <tr>\n",
       "      <th>Parch</th>\n",
       "      <td>0.081629</td>\n",
       "      <td>1.000000</td>\n",
       "    </tr>\n",
       "  </tbody>\n",
       "</table>\n",
       "</div>"
      ],
      "text/plain": [
       "          Survived     Parch\n",
       "Survived  1.000000  0.081629\n",
       "Parch     0.081629  1.000000"
      ]
     },
     "execution_count": 752,
     "metadata": {},
     "output_type": "execute_result"
    }
   ],
   "source": [
    "df[['Survived', 'Parch']].corr()"
   ]
  },
  {
   "cell_type": "markdown",
   "metadata": {},
   "source": [
    "No significant correspondence can be observed here, so let's run the same steps we did with 'SibSp':"
   ]
  },
  {
   "cell_type": "code",
   "execution_count": 753,
   "metadata": {},
   "outputs": [
    {
     "name": "stdout",
     "output_type": "stream",
     "text": [
      "Survival rates:\n",
      "0 parents/children: 0.23 \t(population: 678)\n",
      "1 parents/children: 0.38 \t(population: 118)\n",
      "2 parents/children: 0.35 \t(population: 80)\n",
      "3 parents/children: 0.38 \t(population: 5)\n",
      "4 parents/children: 0 \t(population: 4)\n",
      "5 parents/children: 0.17 \t(population: 5)\n",
      "6 parents/children: 0 \t(population: 1)\n",
      "9 parents/children: 0 \t(population: 0)\n"
     ]
    }
   ],
   "source": [
    "parch_nums = sorted(df['Parch'].unique())\n",
    "\n",
    "print(\"Survival rates:\")\n",
    "for p in parch_nums:\n",
    "    df_p = df[df['Parch'] == p]\n",
    "    survival = len(df_p[df_p['Survived'] == 1]) / len(df_p)\n",
    "    print(\"{} parents/children: {:.2g} \\t(population: {})\".format(p, survival, len(df_p[~pd.isna(df_p['Survived'])])))"
   ]
  },
  {
   "cell_type": "markdown",
   "metadata": {},
   "source": [
    "Just like 'SibSp', 'Parch shows a strong line between small numbers of parents/children and large. This is a bit trickier though; since there is a non-zero survival rate at 5, we can't draw our line of survival as easily as we did for 'SibSp'. Let's try breaking this into three new columns: 'SmallParch', 'MedParch', and 'LargeParch'."
   ]
  },
  {
   "cell_type": "code",
   "execution_count": 754,
   "metadata": {},
   "outputs": [],
   "source": [
    "df['SmallParch'] = df['Parch'] <= 3\n",
    "df['MedParch'] = df['Parch'].between(4, 5)  # Boundaries are included\n",
    "df['LargeParch'] = df['Parch'] >= 6"
   ]
  },
  {
   "cell_type": "code",
   "execution_count": 755,
   "metadata": {},
   "outputs": [
    {
     "name": "stdout",
     "output_type": "stream",
     "text": [
      "Survival for small Parch: 0.39\n",
      "Survival for medium Parch: 0.11\n",
      "Survival for large Parch: 0\n"
     ]
    }
   ],
   "source": [
    "df_s = df[df['SmallParch'] == True]\n",
    "df_m = df[df['MedParch'] == True]\n",
    "df_l = df[df['LargeParch'] == True]\n",
    "\n",
    "print(\"Survival for small Parch: {:.2g}\".format(len(df_s[df_s['Survived'] == 1]) / len(df_s[~pd.isna(df_s['Survived'])])))\n",
    "print(\"Survival for medium Parch: {:.2g}\".format(len(df_m[df_m['Survived'] == 1]) / len(df_m[~pd.isna(df_m['Survived'])])))\n",
    "print(\"Survival for large Parch: {:.2g}\".format(len(df_l[df_l['Survived'] == 1]) / len(df_l[~pd.isna(df_l['Survived'])])))"
   ]
  },
  {
   "cell_type": "markdown",
   "metadata": {},
   "source": [
    "Before moving on, as usual, we should check for any missing values."
   ]
  },
  {
   "cell_type": "code",
   "execution_count": 756,
   "metadata": {},
   "outputs": [
    {
     "data": {
      "text/plain": [
       "0"
      ]
     },
     "execution_count": 756,
     "metadata": {},
     "output_type": "execute_result"
    }
   ],
   "source": [
    "len(df[pd.isna(df['Parch'])])"
   ]
  },
  {
   "cell_type": "markdown",
   "metadata": {},
   "source": [
    "Good! Now, remember that note we wanted to remember earlier about how 'Parch' and 'SibSp' sound very similar? Let's explore that now.\n",
    "\n",
    "# SibSp + Parch\n",
    "\n",
    "The columns 'SibSp' and 'Parch' showed very similar trends, so adding the two together might give even better data."
   ]
  },
  {
   "cell_type": "code",
   "execution_count": 757,
   "metadata": {},
   "outputs": [
    {
     "name": "stdout",
     "output_type": "stream",
     "text": [
      "Survival rates:\n",
      "0 SibSp + Parch: 0.3 \t(population: 790)\n",
      "1 SibSp + Parch: 0.55 \t(population: 235)\n",
      "2 SibSp + Parch: 0.58 \t(population: 159)\n",
      "3 SibSp + Parch: 0.72 \t(population: 43)\n",
      "4 SibSp + Parch: 0.2 \t(population: 22)\n",
      "5 SibSp + Parch: 0.14 \t(population: 25)\n",
      "6 SibSp + Parch: 0.33 \t(population: 16)\n",
      "7 SibSp + Parch: 0 \t(population: 8)\n",
      "10 SibSp + Parch: 0 \t(population: 11)\n"
     ]
    }
   ],
   "source": [
    "df['Relatives'] = df['SibSp'] + df['Parch']\n",
    "\n",
    "nums = sorted(df['Relatives'].unique())\n",
    "\n",
    "print(\"Survival rates:\")\n",
    "for p in nums:\n",
    "    df_p = df[df['Relatives'] == p]\n",
    "    survival = len(df_p[df_p['Survived'] == 1]) / len(df_p[~pd.isna(df_p['Survived'])])\n",
    "    print(\"{} SibSp + Parch: {:.2g} \\t(population: {})\".format(p, survival, len(df_p)))"
   ]
  },
  {
   "cell_type": "markdown",
   "metadata": {},
   "source": [
    "It looks like, just as predicted, this data is essentially identical to what we found in each of the two individual columns above. Looking more closely, we can identify an almost-clean bell curve, centered a 'Relatives' size of around 2 or 3. The only data that throws this off is the increase in survivability from 'Relatives' values of 5 to 6. For now, let's ignore that as an anomaly and see if we can capture this Gaussian-like relationship around some ideal family size."
   ]
  },
  {
   "cell_type": "code",
   "execution_count": 758,
   "metadata": {},
   "outputs": [
    {
     "data": {
      "text/html": [
       "<div>\n",
       "<style scoped>\n",
       "    .dataframe tbody tr th:only-of-type {\n",
       "        vertical-align: middle;\n",
       "    }\n",
       "\n",
       "    .dataframe tbody tr th {\n",
       "        vertical-align: top;\n",
       "    }\n",
       "\n",
       "    .dataframe thead th {\n",
       "        text-align: right;\n",
       "    }\n",
       "</style>\n",
       "<table border=\"1\" class=\"dataframe\">\n",
       "  <thead>\n",
       "    <tr style=\"text-align: right;\">\n",
       "      <th></th>\n",
       "      <th>Survived</th>\n",
       "      <th>DistFromIdealRel</th>\n",
       "    </tr>\n",
       "  </thead>\n",
       "  <tbody>\n",
       "    <tr>\n",
       "      <th>Survived</th>\n",
       "      <td>1.00000</td>\n",
       "      <td>-0.24708</td>\n",
       "    </tr>\n",
       "    <tr>\n",
       "      <th>DistFromIdealRel</th>\n",
       "      <td>-0.24708</td>\n",
       "      <td>1.00000</td>\n",
       "    </tr>\n",
       "  </tbody>\n",
       "</table>\n",
       "</div>"
      ],
      "text/plain": [
       "                  Survived  DistFromIdealRel\n",
       "Survived           1.00000          -0.24708\n",
       "DistFromIdealRel  -0.24708           1.00000"
      ]
     },
     "execution_count": 758,
     "metadata": {},
     "output_type": "execute_result"
    }
   ],
   "source": [
    "ideal_relatives = 2\n",
    "\n",
    "df['DistFromIdealRel'] = np.abs(df['Relatives'] - ideal_relatives)\n",
    "\n",
    "df[['Survived', 'DistFromIdealRel']].corr()"
   ]
  },
  {
   "cell_type": "markdown",
   "metadata": {},
   "source": [
    "An absolute correspondence of 0.25 is much better than what we started with for 'SibSp' or 'Parch' before (around 0.07), so this seems like it'll be a decent feature. Now we can go back in and drop the original columns from the table so they don't add noise to our results."
   ]
  },
  {
   "cell_type": "code",
   "execution_count": 759,
   "metadata": {},
   "outputs": [],
   "source": [
    "df = df.drop(columns=['SibSp', 'Parch', 'Relatives'])"
   ]
  },
  {
   "cell_type": "markdown",
   "metadata": {},
   "source": [
    "# Fare\n",
    "\n",
    "So far so good! Next, time to examine the relationship between the fare, or ticket price, and survival rates."
   ]
  },
  {
   "cell_type": "code",
   "execution_count": 760,
   "metadata": {},
   "outputs": [
    {
     "data": {
      "text/html": [
       "<div>\n",
       "<style scoped>\n",
       "    .dataframe tbody tr th:only-of-type {\n",
       "        vertical-align: middle;\n",
       "    }\n",
       "\n",
       "    .dataframe tbody tr th {\n",
       "        vertical-align: top;\n",
       "    }\n",
       "\n",
       "    .dataframe thead th {\n",
       "        text-align: right;\n",
       "    }\n",
       "</style>\n",
       "<table border=\"1\" class=\"dataframe\">\n",
       "  <thead>\n",
       "    <tr style=\"text-align: right;\">\n",
       "      <th></th>\n",
       "      <th>Survived</th>\n",
       "      <th>Fare</th>\n",
       "    </tr>\n",
       "  </thead>\n",
       "  <tbody>\n",
       "    <tr>\n",
       "      <th>Survived</th>\n",
       "      <td>1.000000</td>\n",
       "      <td>0.257307</td>\n",
       "    </tr>\n",
       "    <tr>\n",
       "      <th>Fare</th>\n",
       "      <td>0.257307</td>\n",
       "      <td>1.000000</td>\n",
       "    </tr>\n",
       "  </tbody>\n",
       "</table>\n",
       "</div>"
      ],
      "text/plain": [
       "          Survived      Fare\n",
       "Survived  1.000000  0.257307\n",
       "Fare      0.257307  1.000000"
      ]
     },
     "execution_count": 760,
     "metadata": {},
     "output_type": "execute_result"
    }
   ],
   "source": [
    "df[['Survived', 'Fare']].corr()"
   ]
  },
  {
   "cell_type": "markdown",
   "metadata": {},
   "source": [
    "We already have one of the best correspondences we've seen! Let's keep this column as-is and move on for now.\n",
    "\n",
    "# Cabin\n",
    "\n",
    "Now it's time to explore whether a passenger's cabin location had anything to do with survivability. Before checking correspondences, I'd like to get any missing values out of the way."
   ]
  },
  {
   "cell_type": "code",
   "execution_count": 761,
   "metadata": {},
   "outputs": [
    {
     "name": "stdout",
     "output_type": "stream",
     "text": [
      "NA values: 1014\n"
     ]
    }
   ],
   "source": [
    "print(\"NA values: {}\".format(len(df[pd.isna(df['Cabin'])])))"
   ]
  },
  {
   "cell_type": "markdown",
   "metadata": {},
   "source": [
    "We have a fairly significant amount of missing cabin information, so I'd like to hold off on filling in this data until we know what the existing relationship looks like.\n",
    "\n",
    "Let's first see if the fact that we're missing cabin information can tell us anything about survival rates."
   ]
  },
  {
   "cell_type": "code",
   "execution_count": 762,
   "metadata": {},
   "outputs": [
    {
     "name": "stdout",
     "output_type": "stream",
     "text": [
      "0.29985443959243085\n",
      "0.6666666666666666\n",
      "0.3838383838383838\n"
     ]
    }
   ],
   "source": [
    "no_cabin = df[pd.isna(df['Cabin'])]\n",
    "yes_cabin = df[~pd.isna(df['Cabin'])]\n",
    "print(len(no_cabin[no_cabin['Survived'] == 1]) / len(no_cabin[~pd.isna(no_cabin['Survived'])]))\n",
    "print(len(yes_cabin[yes_cabin['Survived'] == 1]) / len(yes_cabin[~pd.isna(yes_cabin['Survived'])]))\n",
    "print(len(df[df['Survived'] == 1]) / len(df[~pd.isna(df['Survived'])]))"
   ]
  },
  {
   "cell_type": "markdown",
   "metadata": {},
   "source": [
    "Surprisingly, it looks like having a cabin on record does affect the survival rate of the passengers (at least in our data set)! In that case, we're going to keep these \"no-cabin\" labels as their own unique property, while we break down the values for passengers who do have cabins.\n",
    "\n",
    "For cabin values, we'll start by binning them based on the cabin class (the letter preceding the cabin number). There are a few cabins that have the letter F before their actual cabin class, so let's separate the F-marked passengers for further analysis."
   ]
  },
  {
   "cell_type": "code",
   "execution_count": 763,
   "metadata": {},
   "outputs": [
    {
     "name": "stdout",
     "output_type": "stream",
     "text": [
      "['A', 'B', 'C', 'D', 'E', 'F', 'F E', 'F G', 'G', 'T']\n",
      "Survival rates:\n",
      "CabinClass A:\t0.47 \t(population: 22)\n",
      "CabinClass B:\t0.74 \t(population: 65)\n",
      "CabinClass C:\t0.59 \t(population: 94)\n",
      "CabinClass D:\t0.76 \t(population: 46)\n",
      "CabinClass E:\t0.75 \t(population: 41)\n",
      "CabinClass F:\t0.78 \t(population: 14)\n",
      "CabinClass F E:\t1 \t(population: 3)\n",
      "CabinClass F G:\t0 \t(population: 4)\n",
      "CabinClass G:\t0.5 \t(population: 5)\n",
      "CabinClass T:\t0 \t(population: 1)\n"
     ]
    }
   ],
   "source": [
    "\n",
    "import re\n",
    "def get_cabin_class(cabin):\n",
    "    if pd.isna(cabin):\n",
    "        return np.nan\n",
    "    \n",
    "    title_search = re.search('([A-Za-z\\ ]+)', cabin)\n",
    "    if title_search:\n",
    "        return title_search.group(1)\n",
    "    \n",
    "    return np.nan\n",
    "\n",
    "df['CabinClass'] = df[~pd.isna(df['Cabin'])]['Cabin'].apply(get_cabin_class)\n",
    "\n",
    "cabin_classes = sorted(df[~pd.isna(df['CabinClass'])]['CabinClass'].unique())\n",
    "print(cabin_classes)\n",
    "\n",
    "print(\"Survival rates:\")\n",
    "for c in cabin_classes:\n",
    "    df_c = df[df['CabinClass'] == c]\n",
    "    survival = len(df_c[df_c['Survived'] == 1]) / len(df_c[~pd.isna(df_c['Survived'])])\n",
    "    print(\"CabinClass {}:\\t{:.2g} \\t(population: {})\".format(c, survival, len(df_c)))\n",
    "    \n",
    "df = df.drop(columns=['CabinClass'])"
   ]
  },
  {
   "cell_type": "markdown",
   "metadata": {},
   "source": [
    "Interestingly enough, it looks like this doesn't really give us any more information than we already had, aside from a small percentage of outliers in 'F G' and 'T' cabin classes. Maybe we'll circle back around to this to see if there are any slight improvements that can be made from the slight discrepancies between each cabin class..."
   ]
  },
  {
   "cell_type": "markdown",
   "metadata": {},
   "source": [
    "Oh well, it was worth a shot! Let's just stick with our original finding then, the difference in survival rate between those with a recorded cabin number, and those without."
   ]
  },
  {
   "cell_type": "code",
   "execution_count": 764,
   "metadata": {},
   "outputs": [
    {
     "data": {
      "text/html": [
       "<div>\n",
       "<style scoped>\n",
       "    .dataframe tbody tr th:only-of-type {\n",
       "        vertical-align: middle;\n",
       "    }\n",
       "\n",
       "    .dataframe tbody tr th {\n",
       "        vertical-align: top;\n",
       "    }\n",
       "\n",
       "    .dataframe thead th {\n",
       "        text-align: right;\n",
       "    }\n",
       "</style>\n",
       "<table border=\"1\" class=\"dataframe\">\n",
       "  <thead>\n",
       "    <tr style=\"text-align: right;\">\n",
       "      <th></th>\n",
       "      <th>Survived</th>\n",
       "      <th>HasCabin</th>\n",
       "    </tr>\n",
       "  </thead>\n",
       "  <tbody>\n",
       "    <tr>\n",
       "      <th>Survived</th>\n",
       "      <td>1.000000</td>\n",
       "      <td>0.316912</td>\n",
       "    </tr>\n",
       "    <tr>\n",
       "      <th>HasCabin</th>\n",
       "      <td>0.316912</td>\n",
       "      <td>1.000000</td>\n",
       "    </tr>\n",
       "  </tbody>\n",
       "</table>\n",
       "</div>"
      ],
      "text/plain": [
       "          Survived  HasCabin\n",
       "Survived  1.000000  0.316912\n",
       "HasCabin  0.316912  1.000000"
      ]
     },
     "execution_count": 764,
     "metadata": {},
     "output_type": "execute_result"
    }
   ],
   "source": [
    "df['HasCabin'] = ~pd.isna(df['Cabin'])\n",
    "df[['Survived', 'HasCabin']].corr()"
   ]
  },
  {
   "cell_type": "markdown",
   "metadata": {},
   "source": [
    "# Name\n",
    "\n",
    "This one will be tricky. Maybe there are correspondences between the survival rates of passengers with certain titles? Let's find out!"
   ]
  },
  {
   "cell_type": "code",
   "execution_count": 765,
   "metadata": {},
   "outputs": [
    {
     "name": "stdout",
     "output_type": "stream",
     "text": [
      "['Mr' 'Mrs' 'Miss' 'Master' 'Don' 'Rev' 'Dr' 'Mme' 'Ms' 'Major' 'Lady'\n",
      " 'Sir' 'Mlle' 'Col' 'Capt' 'Countess' 'Jonkheer' 'Dona']\n"
     ]
    }
   ],
   "source": [
    "def get_title(name):\n",
    "    if pd.isna(name):\n",
    "        return np.nan\n",
    "\n",
    "    title_search = re.search(' ([A-Za-z]+)\\.', name)\n",
    "    if title_search:\n",
    "        return title_search.group(1)\n",
    "    \n",
    "    return np.nan\n",
    "\n",
    "df['Title'] = df['Name'].apply(get_title)\n",
    "titles = df['Title'].unique()\n",
    "print(titles)"
   ]
  },
  {
   "cell_type": "markdown",
   "metadata": {},
   "source": [
    "There are a few categories we could specify to split this into groups. \"Is a doctor\", or \"is military\", or \"is married\" (for women at least).\n",
    "\n",
    "Before any of those specifics, let's first just check the survival rate of each of these individually. Along with some extra clean-up combining titles that mean the same thing (and mapping unknown marital status titles to the same thing)."
   ]
  },
  {
   "cell_type": "code",
   "execution_count": 766,
   "metadata": {},
   "outputs": [
    {
     "name": "stdout",
     "output_type": "stream",
     "text": [
      "Survival rates:\n",
      "Mr:\t0.16 \t(population: 517)\n",
      "Mrs:\t0.79 \t(population: 125)\n",
      "Ms:\t0.7 \t(population: 185)\n",
      "Master:\t0.56 \t(population: 43)\n",
      "Rev:\t0 \t(population: 6)\n",
      "Dr:\t0.43 \t(population: 7)\n",
      "Mme:\t1 \t(population: 3)\n",
      "Major:\t0.5 \t(population: 2)\n",
      "Col:\t0.5 \t(population: 2)\n",
      "Capt:\t0 \t(population: 1)\n"
     ]
    }
   ],
   "source": [
    "title_map = {\n",
    "    'Miss': 'Ms',\n",
    "    'Mlle': 'Ms',\n",
    "    'Sir':  'Master',\n",
    "    'Don':  'Master',\n",
    "    'Jonkheer': 'Master',\n",
    "    'Countess': 'Mme',\n",
    "    'Lady':     'Mme',\n",
    "    'Dona':     'Mme'\n",
    "}\n",
    "\n",
    "def map_title(title):\n",
    "    if pd.isna(title):\n",
    "        return np.nan\n",
    "    \n",
    "    if title in title_map.keys():\n",
    "        return title_map[title]\n",
    "    else:\n",
    "        return title\n",
    "    \n",
    "df['Title'] = df['Title'].apply(map_title)\n",
    "titles = df['Title'].unique()\n",
    "\n",
    "print(\"Survival rates:\")\n",
    "for t in titles:\n",
    "    df_t = df[df['Title'] == t]\n",
    "    survival = len(df_t[df_t['Survived'] == 1]) / max(1, len(df_t[~pd.isna(df_t['Survived'])]))\n",
    "    print(\"{}:\\t{:.2g} \\t(population: {})\".format(t, survival, len(df_t[~pd.isna(df_t['Survived'])])))"
   ]
  },
  {
   "cell_type": "markdown",
   "metadata": {},
   "source": [
    "Looks like the old saying \"the captain must go down with the ship\" holds in this case! Also, \"Masters\" fared much better than men with \"Mr\". The women with \"Mme\" also fared quite well, even though there are only 3 in this case. Reverends, on the other hand, all went down with the ship.\n",
    "\n",
    "For code simplicity, let's just go ahead and expand this column into binary columns like we did previously with age groups."
   ]
  },
  {
   "cell_type": "code",
   "execution_count": 767,
   "metadata": {},
   "outputs": [
    {
     "data": {
      "text/html": [
       "<div>\n",
       "<style scoped>\n",
       "    .dataframe tbody tr th:only-of-type {\n",
       "        vertical-align: middle;\n",
       "    }\n",
       "\n",
       "    .dataframe tbody tr th {\n",
       "        vertical-align: top;\n",
       "    }\n",
       "\n",
       "    .dataframe thead th {\n",
       "        text-align: right;\n",
       "    }\n",
       "</style>\n",
       "<table border=\"1\" class=\"dataframe\">\n",
       "  <thead>\n",
       "    <tr style=\"text-align: right;\">\n",
       "      <th></th>\n",
       "      <th>PassengerId</th>\n",
       "      <th>Survived</th>\n",
       "      <th>Pclass</th>\n",
       "      <th>Name</th>\n",
       "      <th>Sex</th>\n",
       "      <th>Ticket</th>\n",
       "      <th>Fare</th>\n",
       "      <th>Cabin</th>\n",
       "      <th>Embarked</th>\n",
       "      <th>Age_bin_0</th>\n",
       "      <th>...</th>\n",
       "      <th>Title_Capt</th>\n",
       "      <th>Title_Col</th>\n",
       "      <th>Title_Dr</th>\n",
       "      <th>Title_Major</th>\n",
       "      <th>Title_Master</th>\n",
       "      <th>Title_Mme</th>\n",
       "      <th>Title_Mr</th>\n",
       "      <th>Title_Mrs</th>\n",
       "      <th>Title_Ms</th>\n",
       "      <th>Title_Rev</th>\n",
       "    </tr>\n",
       "  </thead>\n",
       "  <tbody>\n",
       "    <tr>\n",
       "      <th>0</th>\n",
       "      <td>1</td>\n",
       "      <td>0.0</td>\n",
       "      <td>3</td>\n",
       "      <td>Braund, Mr. Owen Harris</td>\n",
       "      <td>1</td>\n",
       "      <td>A/5 21171</td>\n",
       "      <td>7.2500</td>\n",
       "      <td>NaN</td>\n",
       "      <td>S</td>\n",
       "      <td>0</td>\n",
       "      <td>...</td>\n",
       "      <td>0</td>\n",
       "      <td>0</td>\n",
       "      <td>0</td>\n",
       "      <td>0</td>\n",
       "      <td>0</td>\n",
       "      <td>0</td>\n",
       "      <td>1</td>\n",
       "      <td>0</td>\n",
       "      <td>0</td>\n",
       "      <td>0</td>\n",
       "    </tr>\n",
       "    <tr>\n",
       "      <th>1</th>\n",
       "      <td>2</td>\n",
       "      <td>1.0</td>\n",
       "      <td>1</td>\n",
       "      <td>Cumings, Mrs. John Bradley (Florence Briggs Th...</td>\n",
       "      <td>0</td>\n",
       "      <td>PC 17599</td>\n",
       "      <td>71.2833</td>\n",
       "      <td>C85</td>\n",
       "      <td>C</td>\n",
       "      <td>0</td>\n",
       "      <td>...</td>\n",
       "      <td>0</td>\n",
       "      <td>0</td>\n",
       "      <td>0</td>\n",
       "      <td>0</td>\n",
       "      <td>0</td>\n",
       "      <td>0</td>\n",
       "      <td>0</td>\n",
       "      <td>1</td>\n",
       "      <td>0</td>\n",
       "      <td>0</td>\n",
       "    </tr>\n",
       "    <tr>\n",
       "      <th>2</th>\n",
       "      <td>3</td>\n",
       "      <td>1.0</td>\n",
       "      <td>3</td>\n",
       "      <td>Heikkinen, Miss. Laina</td>\n",
       "      <td>0</td>\n",
       "      <td>STON/O2. 3101282</td>\n",
       "      <td>7.9250</td>\n",
       "      <td>NaN</td>\n",
       "      <td>S</td>\n",
       "      <td>0</td>\n",
       "      <td>...</td>\n",
       "      <td>0</td>\n",
       "      <td>0</td>\n",
       "      <td>0</td>\n",
       "      <td>0</td>\n",
       "      <td>0</td>\n",
       "      <td>0</td>\n",
       "      <td>0</td>\n",
       "      <td>0</td>\n",
       "      <td>1</td>\n",
       "      <td>0</td>\n",
       "    </tr>\n",
       "  </tbody>\n",
       "</table>\n",
       "<p>3 rows × 34 columns</p>\n",
       "</div>"
      ],
      "text/plain": [
       "   PassengerId  Survived  Pclass  \\\n",
       "0            1       0.0       3   \n",
       "1            2       1.0       1   \n",
       "2            3       1.0       3   \n",
       "\n",
       "                                                Name  Sex            Ticket  \\\n",
       "0                            Braund, Mr. Owen Harris    1         A/5 21171   \n",
       "1  Cumings, Mrs. John Bradley (Florence Briggs Th...    0          PC 17599   \n",
       "2                             Heikkinen, Miss. Laina    0  STON/O2. 3101282   \n",
       "\n",
       "      Fare Cabin Embarked  Age_bin_0  ...  Title_Capt  Title_Col  Title_Dr  \\\n",
       "0   7.2500   NaN        S          0  ...           0          0         0   \n",
       "1  71.2833   C85        C          0  ...           0          0         0   \n",
       "2   7.9250   NaN        S          0  ...           0          0         0   \n",
       "\n",
       "   Title_Major  Title_Master  Title_Mme  Title_Mr  Title_Mrs  Title_Ms  \\\n",
       "0            0             0          0         1          0         0   \n",
       "1            0             0          0         0          1         0   \n",
       "2            0             0          0         0          0         1   \n",
       "\n",
       "   Title_Rev  \n",
       "0          0  \n",
       "1          0  \n",
       "2          0  \n",
       "\n",
       "[3 rows x 34 columns]"
      ]
     },
     "execution_count": 767,
     "metadata": {},
     "output_type": "execute_result"
    }
   ],
   "source": [
    "title_bins = pd.get_dummies(df['Title']).add_prefix('Title_')\n",
    "df = df.merge(title_bins, how='left', left_index=True, right_index=True, validate='1:1')\n",
    "df[:3]"
   ]
  },
  {
   "cell_type": "code",
   "execution_count": 768,
   "metadata": {},
   "outputs": [],
   "source": [
    "df = df.drop(columns=['Name', 'Title'])"
   ]
  },
  {
   "cell_type": "markdown",
   "metadata": {},
   "source": [
    "# To Finish Later..."
   ]
  },
  {
   "cell_type": "code",
   "execution_count": 769,
   "metadata": {
    "pycharm": {
     "is_executing": false,
     "name": "#%% Vizualize Data Relationships\n"
    }
   },
   "outputs": [
    {
     "data": {
      "image/png": "[encoded data removed]",
      "text/plain": [
       "<Figure size 288x288 with 2 Axes>"
      ]
     },
     "metadata": {
      "needs_background": "light"
     },
     "output_type": "display_data"
    }
   ],
   "source": [
    "corr = df.corr().abs()\n",
    "\n",
    "plt.matshow(df.corr().abs())\n",
    "cb = plt.colorbar()\n",
    "plt.title('Correlation Matrix')\n",
    "plt.show()"
   ]
  },
  {
   "cell_type": "code",
   "execution_count": 770,
   "metadata": {
    "pycharm": {
     "is_executing": false,
     "name": "#%% Split data into X and y\n"
    }
   },
   "outputs": [],
   "source": [
    "num_cols = df.select_dtypes('number').columns\n",
    "df_numeric = df[num_cols]\n",
    "\n",
    "train_df = df_numeric[~pd.isna(df_numeric['Survived'])]\n",
    "train_df = train_df.dropna()\n",
    "survived = train_df.pop('Survived')\n",
    "\n",
    "test_df = df_numeric[pd.isna(df_numeric['Survived'])]\n",
    "_ = test_df.pop('Survived')\n",
    "test_df = test_df.dropna()\n",
    "\n",
    "X = train_df.to_numpy()\n",
    "y = survived.to_numpy()\n",
    "\n",
    "test_p = 0.7\n",
    "t = int(test_p * len(y))\n",
    "X_test = X[:t]\n",
    "X_train = X[t:]\n",
    "y_test = y[:t]\n",
    "y_train = y[t:]\n",
    "\n",
    "X_final = test_df.to_numpy()"
   ]
  },
  {
   "cell_type": "code",
   "execution_count": 771,
   "metadata": {
    "pycharm": {
     "is_executing": false,
     "name": "#%% Try SVM\n"
    }
   },
   "outputs": [],
   "source": [
    "clf = svm.SVC(gamma='scale', kernel='linear', random_state=0, decision_function_shape='ovo')"
   ]
  },
  {
   "cell_type": "code",
   "execution_count": 772,
   "metadata": {
    "pycharm": {
     "is_executing": false,
     "name": "#%% Try LinearSVM\n"
    }
   },
   "outputs": [],
   "source": [
    "lin_clf = svm.LinearSVC(random_state=0)"
   ]
  },
  {
   "cell_type": "code",
   "execution_count": 773,
   "metadata": {
    "pycharm": {
     "is_executing": false,
     "name": "#%% Try Adaboost with random forest\n"
    }
   },
   "outputs": [],
   "source": [
    "ada_clf = AdaBoostClassifier(base_estimator=RandomForestClassifier(n_estimators=10, random_state=0), \n",
    "                             n_estimators=100, random_state=0)"
   ]
  },
  {
   "cell_type": "code",
   "execution_count": 774,
   "metadata": {
    "pycharm": {
     "is_executing": false,
     "name": "#%% Try Gradient Boosting\n"
    }
   },
   "outputs": [],
   "source": [
    "gr_clf = GradientBoostingClassifier(n_estimators=100, random_state=0)"
   ]
  },
  {
   "cell_type": "code",
   "execution_count": 775,
   "metadata": {
    "pycharm": {
     "is_executing": false,
     "name": "#%% Try random forest\n"
    }
   },
   "outputs": [],
   "source": [
    "rf_clf = RandomForestClassifier(n_estimators=100, random_state=0)"
   ]
  },
  {
   "cell_type": "code",
   "execution_count": 776,
   "metadata": {
    "pycharm": {
     "is_executing": false,
     "name": "#%% Try EXTRA random forest\n"
    }
   },
   "outputs": [],
   "source": [
    "erf_clf = ExtraTreesClassifier(n_estimators=100, random_state=0)"
   ]
  },
  {
   "cell_type": "code",
   "execution_count": 777,
   "metadata": {
    "pycharm": {
     "is_executing": false,
     "name": "#%% Put them all together with a voting booster\n"
    }
   },
   "outputs": [
    {
     "name": "stdout",
     "output_type": "stream",
     "text": [
      "\n",
      "Vanilla SVC\n",
      "- train: 0.8283582089552238\n",
      "- test: 0.7961476725521669\n",
      "\n",
      "Linear SVC\n",
      "- train: 0.6865671641791045\n",
      "- test: 0.666131621187801\n",
      "\n",
      "AdaBoost, random forest\n"
     ]
    },
    {
     "name": "stderr",
     "output_type": "stream",
     "text": [
      "/Users/blakemacnair/anaconda3/envs/titanic/lib/python3.7/site-packages/sklearn/svm/base.py:929: ConvergenceWarning: Liblinear failed to converge, increase the number of iterations.\n",
      "  \"the number of iterations.\", ConvergenceWarning)\n"
     ]
    },
    {
     "name": "stdout",
     "output_type": "stream",
     "text": [
      "- train: 1.0\n",
      "- test: 0.7704654895666132\n",
      "\n",
      "Gradient Boosting, random forest\n",
      "- train: 0.9664179104477612\n",
      "- test: 0.7720706260032103\n",
      "\n",
      "Random Forest\n",
      "- train: 1.0\n",
      "- test: 0.7993579454253612\n",
      "\n",
      "Extra Trees\n",
      "- train: 1.0\n",
      "- test: 0.7993579454253612\n"
     ]
    },
    {
     "name": "stderr",
     "output_type": "stream",
     "text": [
      "/Users/blakemacnair/anaconda3/envs/titanic/lib/python3.7/site-packages/sklearn/svm/base.py:929: ConvergenceWarning: Liblinear failed to converge, increase the number of iterations.\n",
      "  \"the number of iterations.\", ConvergenceWarning)\n"
     ]
    },
    {
     "name": "stdout",
     "output_type": "stream",
     "text": [
      "\n",
      "====\n",
      "Voting Classifier:\n",
      "- train: 0.9776119402985075\n",
      "- test: 0.8089887640449438\n"
     ]
    }
   ],
   "source": [
    "eclf = VotingClassifier(estimators=[('Vanilla SVC', clf),\n",
    "                                    ('Linear SVC', lin_clf),\n",
    "                                    ('AdaBoost, random forest', ada_clf), \n",
    "                                    ('Gradient Boosting, random forest', gr_clf),\n",
    "                                    ('Random Forest', rf_clf),\n",
    "                                    ('Extra Trees', erf_clf),\n",
    "                                    ], voting='hard')\n",
    "for clft in eclf.estimators:\n",
    "    print(\"\\n\"+clft[0])\n",
    "    clf = clft[1]\n",
    "    clf.fit(X_train, y_train)\n",
    "    print(\"- train: {}\\n- test: {}\".format(clf.score(X_train, y_train), \n",
    "                                           clf.score(X_test, y_test)))\n",
    "eclf.fit(X_train, y_train)\n",
    "print(\"\\n====\\nVoting Classifier:\\n- train: {}\\n- test: {}\".format(eclf.score(X_train, y_train), \n",
    "                                                           eclf.score(X_test, y_test)))"
   ]
  },
  {
   "cell_type": "code",
   "execution_count": 778,
   "metadata": {
    "pycharm": {
     "is_executing": false,
     "name": "#%% Generate the output for the actual test predictions\n"
    }
   },
   "outputs": [],
   "source": [
    "y_final = eclf.predict(X_final)\n",
    "df_final = pd.DataFrame({\n",
    "    'PassengerId': test_df['PassengerId'],\n",
    "    'Survived': y_final\n",
    "})\n",
    "\n",
    "df_final.to_csv(\"data/pred.csv\", index=False)"
   ]
  }
 ],
 "metadata": {
  "kernelspec": {
   "display_name": "Python 3",
   "language": "python",
   "name": "python3"
  },
  "language_info": {
   "codemirror_mode": {
    "name": "ipython",
    "version": 3
   },
   "file_extension": ".py",
   "mimetype": "text/x-python",
   "name": "python",
   "nbconvert_exporter": "python",
   "pygments_lexer": "ipython3",
   "version": "3.7.5"
  },
  "pycharm": {
   "stem_cell": {
    "cell_type": "raw",
    "metadata": {
     "collapsed": false
    },
    "source": []
   }
  }
 },
 "nbformat": 4,
 "nbformat_minor": 1
}
